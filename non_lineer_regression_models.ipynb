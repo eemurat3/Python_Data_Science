{
 "cells": [
  {
   "cell_type": "markdown",
   "metadata": {},
   "source": [
    "<h1>Doğrusal Olmayan Regresyon Modelleri</h1>"
   ]
  },
  {
   "cell_type": "markdown",
   "metadata": {},
   "source": [
    "<h2>1-K-En Yakın Komşu(K-Nearest Neighbors)</h2>\n",
    "Gözlemlerin birbirine olan benzerlikleri üzerinden tahmin yapılır.\n",
    "<img src=\"image/Knn.JPG\">\n",
    "\n",
    "- Komşu sayısını belirle(K)\n",
    "- Bilinmeyen nokta ile diğer tüm noktalar arasındaki uzaklıkları hesapla.\n",
    "- Uzaklıkları sırala ve belirlenen k sayısına göre en yakın olan k gözlemi seç.\n",
    "- sınıflandırma ise en sık sınıf,regresyon ise ortalama değeri tahmin değeri olarak ver."
   ]
  },
  {
   "cell_type": "markdown",
   "metadata": {},
   "source": [
    "<h3>Model & Tahmin</h3>"
   ]
  },
  {
   "cell_type": "code",
   "execution_count": 38,
   "metadata": {},
   "outputs": [],
   "source": [
    "#uyarıları kapatması için\n",
    "from warnings import filterwarnings\n",
    "filterwarnings(\"ignore\")"
   ]
  },
  {
   "cell_type": "code",
   "execution_count": 7,
   "metadata": {},
   "outputs": [],
   "source": [
    "#TÜM Kütüphaneler\n",
    "import numpy as np\n",
    "import pandas as pd\n",
    "import matplotlib.pyplot as plt\n",
    "from sklearn.model_selection import train_test_split,GridSearchCV\n",
    "from sklearn.metrics import mean_squared_error,r2_score\n",
    "from sklearn.preprocessing import scale\n",
    "from sklearn.preprocessing import StandardScaler\n",
    "from sklearn import model_selection\n",
    "from sklearn.linear_model import LinearRegression\n",
    "from sklearn.tree import DecisionTreeRegressor\n",
    "from sklearn.neighbors import KNeighborsRegressor\n",
    "from sklearn.neural_network import MLPRegressor\n",
    "from sklearn.ensemble import RandomForestRegressor\n",
    "from sklearn.ensemble import GradientBoostingRegressor\n",
    "from sklearn import neighbors\n",
    "from sklearn.svm import SVR"
   ]
  },
  {
   "cell_type": "code",
   "execution_count": 3,
   "metadata": {},
   "outputs": [
    {
     "name": "stdout",
     "output_type": "stream",
     "text": [
      "df shape: (263, 20)\n"
     ]
    },
    {
     "data": {
      "text/html": [
       "<div>\n",
       "<style scoped>\n",
       "    .dataframe tbody tr th:only-of-type {\n",
       "        vertical-align: middle;\n",
       "    }\n",
       "\n",
       "    .dataframe tbody tr th {\n",
       "        vertical-align: top;\n",
       "    }\n",
       "\n",
       "    .dataframe thead th {\n",
       "        text-align: right;\n",
       "    }\n",
       "</style>\n",
       "<table border=\"1\" class=\"dataframe\">\n",
       "  <thead>\n",
       "    <tr style=\"text-align: right;\">\n",
       "      <th></th>\n",
       "      <th>AtBat</th>\n",
       "      <th>Hits</th>\n",
       "      <th>HmRun</th>\n",
       "      <th>Runs</th>\n",
       "      <th>RBI</th>\n",
       "      <th>Walks</th>\n",
       "      <th>Years</th>\n",
       "      <th>CAtBat</th>\n",
       "      <th>CHits</th>\n",
       "      <th>CHmRun</th>\n",
       "      <th>CRuns</th>\n",
       "      <th>CRBI</th>\n",
       "      <th>CWalks</th>\n",
       "      <th>League</th>\n",
       "      <th>Division</th>\n",
       "      <th>PutOuts</th>\n",
       "      <th>Assists</th>\n",
       "      <th>Errors</th>\n",
       "      <th>Salary</th>\n",
       "      <th>NewLeague</th>\n",
       "    </tr>\n",
       "  </thead>\n",
       "  <tbody>\n",
       "    <tr>\n",
       "      <th>1</th>\n",
       "      <td>315</td>\n",
       "      <td>81</td>\n",
       "      <td>7</td>\n",
       "      <td>24</td>\n",
       "      <td>38</td>\n",
       "      <td>39</td>\n",
       "      <td>14</td>\n",
       "      <td>3449</td>\n",
       "      <td>835</td>\n",
       "      <td>69</td>\n",
       "      <td>321</td>\n",
       "      <td>414</td>\n",
       "      <td>375</td>\n",
       "      <td>N</td>\n",
       "      <td>W</td>\n",
       "      <td>632</td>\n",
       "      <td>43</td>\n",
       "      <td>10</td>\n",
       "      <td>475.0</td>\n",
       "      <td>N</td>\n",
       "    </tr>\n",
       "    <tr>\n",
       "      <th>2</th>\n",
       "      <td>479</td>\n",
       "      <td>130</td>\n",
       "      <td>18</td>\n",
       "      <td>66</td>\n",
       "      <td>72</td>\n",
       "      <td>76</td>\n",
       "      <td>3</td>\n",
       "      <td>1624</td>\n",
       "      <td>457</td>\n",
       "      <td>63</td>\n",
       "      <td>224</td>\n",
       "      <td>266</td>\n",
       "      <td>263</td>\n",
       "      <td>A</td>\n",
       "      <td>W</td>\n",
       "      <td>880</td>\n",
       "      <td>82</td>\n",
       "      <td>14</td>\n",
       "      <td>480.0</td>\n",
       "      <td>A</td>\n",
       "    </tr>\n",
       "    <tr>\n",
       "      <th>3</th>\n",
       "      <td>496</td>\n",
       "      <td>141</td>\n",
       "      <td>20</td>\n",
       "      <td>65</td>\n",
       "      <td>78</td>\n",
       "      <td>37</td>\n",
       "      <td>11</td>\n",
       "      <td>5628</td>\n",
       "      <td>1575</td>\n",
       "      <td>225</td>\n",
       "      <td>828</td>\n",
       "      <td>838</td>\n",
       "      <td>354</td>\n",
       "      <td>N</td>\n",
       "      <td>E</td>\n",
       "      <td>200</td>\n",
       "      <td>11</td>\n",
       "      <td>3</td>\n",
       "      <td>500.0</td>\n",
       "      <td>N</td>\n",
       "    </tr>\n",
       "    <tr>\n",
       "      <th>4</th>\n",
       "      <td>321</td>\n",
       "      <td>87</td>\n",
       "      <td>10</td>\n",
       "      <td>39</td>\n",
       "      <td>42</td>\n",
       "      <td>30</td>\n",
       "      <td>2</td>\n",
       "      <td>396</td>\n",
       "      <td>101</td>\n",
       "      <td>12</td>\n",
       "      <td>48</td>\n",
       "      <td>46</td>\n",
       "      <td>33</td>\n",
       "      <td>N</td>\n",
       "      <td>E</td>\n",
       "      <td>805</td>\n",
       "      <td>40</td>\n",
       "      <td>4</td>\n",
       "      <td>91.5</td>\n",
       "      <td>N</td>\n",
       "    </tr>\n",
       "    <tr>\n",
       "      <th>5</th>\n",
       "      <td>594</td>\n",
       "      <td>169</td>\n",
       "      <td>4</td>\n",
       "      <td>74</td>\n",
       "      <td>51</td>\n",
       "      <td>35</td>\n",
       "      <td>11</td>\n",
       "      <td>4408</td>\n",
       "      <td>1133</td>\n",
       "      <td>19</td>\n",
       "      <td>501</td>\n",
       "      <td>336</td>\n",
       "      <td>194</td>\n",
       "      <td>A</td>\n",
       "      <td>W</td>\n",
       "      <td>282</td>\n",
       "      <td>421</td>\n",
       "      <td>25</td>\n",
       "      <td>750.0</td>\n",
       "      <td>A</td>\n",
       "    </tr>\n",
       "  </tbody>\n",
       "</table>\n",
       "</div>"
      ],
      "text/plain": [
       "   AtBat  Hits  HmRun  Runs  RBI  Walks  Years  CAtBat  CHits  CHmRun  CRuns  \\\n",
       "1    315    81      7    24   38     39     14    3449    835      69    321   \n",
       "2    479   130     18    66   72     76      3    1624    457      63    224   \n",
       "3    496   141     20    65   78     37     11    5628   1575     225    828   \n",
       "4    321    87     10    39   42     30      2     396    101      12     48   \n",
       "5    594   169      4    74   51     35     11    4408   1133      19    501   \n",
       "\n",
       "   CRBI  CWalks League Division  PutOuts  Assists  Errors  Salary NewLeague  \n",
       "1   414     375      N        W      632       43      10   475.0         N  \n",
       "2   266     263      A        W      880       82      14   480.0         A  \n",
       "3   838     354      N        E      200       11       3   500.0         N  \n",
       "4    46      33      N        E      805       40       4    91.5         N  \n",
       "5   336     194      A        W      282      421      25   750.0         A  "
      ]
     },
     "execution_count": 3,
     "metadata": {},
     "output_type": "execute_result"
    }
   ],
   "source": [
    "#dataset beyzbol ile ilgili biz maaş değişkenine odaklanıyoruz\n",
    "df=pd.read_csv(\"data/Hitters.csv\")\n",
    "df=df.dropna()\n",
    "#aşağıdaki satırda kategorik değişkenler dummiye çevrildi one-hot encoding\n",
    "dms=pd.get_dummies(df[[\"League\",\"Division\",\"NewLeague\"]])\n",
    "y=df[\"Salary\"]\n",
    "#kategorik değikenleri ve bağımlı değişkeni bağımsız değişkelrin içinden çıkartıyoruz\n",
    "X_=df.drop([\"Salary\",\"League\",\"Division\",\"NewLeague\"],axis=1).astype(\"float64\")\n",
    "X=pd.concat([X_,dms[[\"League_N\",\"Division_W\",\"NewLeague_N\"]]],axis=1)\n",
    "X_train,X_test,y_train,y_test=train_test_split(X,y,test_size=0.25,\n",
    "                                              random_state=42)\n",
    "print(\"df shape:\",df.shape)\n",
    "df.head()"
   ]
  },
  {
   "cell_type": "code",
   "execution_count": 59,
   "metadata": {},
   "outputs": [
    {
     "data": {
      "text/plain": [
       "KNeighborsRegressor(algorithm='auto', leaf_size=30, metric='minkowski',\n",
       "                    metric_params=None, n_jobs=None, n_neighbors=5, p=2,\n",
       "                    weights='uniform')"
      ]
     },
     "execution_count": 59,
     "metadata": {},
     "output_type": "execute_result"
    }
   ],
   "source": [
    "#model\n",
    "knn_model=KNeighborsRegressor().fit(X_train,y_train)\n",
    "knn_model"
   ]
  },
  {
   "cell_type": "code",
   "execution_count": 60,
   "metadata": {},
   "outputs": [
    {
     "data": {
      "text/plain": [
       "5"
      ]
     },
     "execution_count": 60,
     "metadata": {},
     "output_type": "execute_result"
    }
   ],
   "source": [
    "knn_model.n_neighbors"
   ]
  },
  {
   "cell_type": "code",
   "execution_count": 61,
   "metadata": {},
   "outputs": [],
   "source": [
    "#tahmin\n",
    "y_pred=knn_model.predict(X_test)"
   ]
  },
  {
   "cell_type": "code",
   "execution_count": 62,
   "metadata": {},
   "outputs": [
    {
     "name": "stdout",
     "output_type": "stream",
     "text": [
      "RMSE: 426.6570764525201\n"
     ]
    }
   ],
   "source": [
    "#hata\n",
    "RMSE=np.sqrt(mean_squared_error(y_test,y_pred))\n",
    "print(\"RMSE:\",RMSE)"
   ]
  },
  {
   "cell_type": "markdown",
   "metadata": {},
   "source": [
    "<h3>Model Tuning</h3>"
   ]
  },
  {
   "cell_type": "code",
   "execution_count": 63,
   "metadata": {},
   "outputs": [
    {
     "name": "stdout",
     "output_type": "stream",
     "text": [
      "RMSE array: [455.03925390751965, 415.99629571490965, 420.6765370082348, 428.8564674588792, 426.6570764525201, 423.5071669008732, 414.9361222421057, 413.7094731463598, 417.84419990871265, 421.6252180741266]\n"
     ]
    },
    {
     "data": {
      "image/png": "[encoded data removed]",
      "text/plain": [
       "<Figure size 432x288 with 1 Axes>"
      ]
     },
     "metadata": {
      "needs_background": "light"
     },
     "output_type": "display_data"
    }
   ],
   "source": [
    "#töntem 1:el yordamıyla k nın bulunması\n",
    "RMSE=[]\n",
    "for k in range(1,11):\n",
    "    knn_model=KNeighborsRegressor(n_neighbors=k).fit(X_train,y_train)\n",
    "    y_pred=knn_model.predict(X_test)\n",
    "    rmse=np.sqrt(mean_squared_error(y_test,y_pred))\n",
    "    RMSE.append(rmse)\n",
    "    \n",
    "print(\"RMSE array:\",RMSE)   \n",
    "plt.plot(range(1,11),RMSE)\n",
    "plt.title(\"k ve RMSE'ye karşılık Grafik\")\n",
    "plt.xlabel(\"k değeri\")\n",
    "plt.ylabel(\"RMSE\");"
   ]
  },
  {
   "cell_type": "code",
   "execution_count": 64,
   "metadata": {},
   "outputs": [],
   "source": [
    "#yöntem 2:GridSearchCV\n",
    "knn_params={\"n_neighbors\":np.arange(1,30,1)}\n",
    "knn=KNeighborsRegressor()\n",
    "knn_cv_model=GridSearchCV(knn,knn_params,cv=10).fit(X_train,y_train)"
   ]
  },
  {
   "cell_type": "code",
   "execution_count": 65,
   "metadata": {},
   "outputs": [
    {
     "data": {
      "text/plain": [
       "{'n_neighbors': 8}"
      ]
     },
     "execution_count": 65,
     "metadata": {},
     "output_type": "execute_result"
    }
   ],
   "source": [
    "#en iyi k değeri\n",
    "knn_cv_model.best_params_"
   ]
  },
  {
   "cell_type": "code",
   "execution_count": 66,
   "metadata": {},
   "outputs": [],
   "source": [
    "#final model\n",
    "knn_tuned=KNeighborsRegressor(n_neighbors=8).fit(X_train,y_train)\n",
    "y_pred=knn_tuned.predict(X_test)"
   ]
  },
  {
   "cell_type": "code",
   "execution_count": 67,
   "metadata": {},
   "outputs": [
    {
     "name": "stdout",
     "output_type": "stream",
     "text": [
      "RMSE: 413.7094731463598\n"
     ]
    }
   ],
   "source": [
    "#hata\n",
    "RMSE=np.sqrt(mean_squared_error(y_test,y_pred))\n",
    "print(\"RMSE:\",RMSE)"
   ]
  },
  {
   "cell_type": "markdown",
   "metadata": {},
   "source": [
    "<h2>2-Destek Vektör Regresyonu(Suppory Vector Regression)</h2>\n",
    "Güçlü ve esnek modelleme tekniklerinden birisidir. Sınıflandırma ve regresyon için kullanılabilir.Robust(dayanıklı) bir regresyon modelleme tekniğidir.\n",
    "<img src=\"image/svm.JPG\">\n",
    "\n",
    "- Amaç,bir marjin aralığına maksimum noktayı en küçük hata ile alabilecek şekilde doğru ya da eğriyi belirlemekir."
   ]
  },
  {
   "cell_type": "markdown",
   "metadata": {},
   "source": [
    "<h3>Model & Tahmin</h3>"
   ]
  },
  {
   "cell_type": "code",
   "execution_count": 81,
   "metadata": {},
   "outputs": [
    {
     "name": "stdout",
     "output_type": "stream",
     "text": [
      "df shape: (263, 20)\n"
     ]
    },
    {
     "data": {
      "text/html": [
       "<div>\n",
       "<style scoped>\n",
       "    .dataframe tbody tr th:only-of-type {\n",
       "        vertical-align: middle;\n",
       "    }\n",
       "\n",
       "    .dataframe tbody tr th {\n",
       "        vertical-align: top;\n",
       "    }\n",
       "\n",
       "    .dataframe thead th {\n",
       "        text-align: right;\n",
       "    }\n",
       "</style>\n",
       "<table border=\"1\" class=\"dataframe\">\n",
       "  <thead>\n",
       "    <tr style=\"text-align: right;\">\n",
       "      <th></th>\n",
       "      <th>AtBat</th>\n",
       "      <th>Hits</th>\n",
       "      <th>HmRun</th>\n",
       "      <th>Runs</th>\n",
       "      <th>RBI</th>\n",
       "      <th>Walks</th>\n",
       "      <th>Years</th>\n",
       "      <th>CAtBat</th>\n",
       "      <th>CHits</th>\n",
       "      <th>CHmRun</th>\n",
       "      <th>CRuns</th>\n",
       "      <th>CRBI</th>\n",
       "      <th>CWalks</th>\n",
       "      <th>League</th>\n",
       "      <th>Division</th>\n",
       "      <th>PutOuts</th>\n",
       "      <th>Assists</th>\n",
       "      <th>Errors</th>\n",
       "      <th>Salary</th>\n",
       "      <th>NewLeague</th>\n",
       "    </tr>\n",
       "  </thead>\n",
       "  <tbody>\n",
       "    <tr>\n",
       "      <th>1</th>\n",
       "      <td>315</td>\n",
       "      <td>81</td>\n",
       "      <td>7</td>\n",
       "      <td>24</td>\n",
       "      <td>38</td>\n",
       "      <td>39</td>\n",
       "      <td>14</td>\n",
       "      <td>3449</td>\n",
       "      <td>835</td>\n",
       "      <td>69</td>\n",
       "      <td>321</td>\n",
       "      <td>414</td>\n",
       "      <td>375</td>\n",
       "      <td>N</td>\n",
       "      <td>W</td>\n",
       "      <td>632</td>\n",
       "      <td>43</td>\n",
       "      <td>10</td>\n",
       "      <td>475.0</td>\n",
       "      <td>N</td>\n",
       "    </tr>\n",
       "    <tr>\n",
       "      <th>2</th>\n",
       "      <td>479</td>\n",
       "      <td>130</td>\n",
       "      <td>18</td>\n",
       "      <td>66</td>\n",
       "      <td>72</td>\n",
       "      <td>76</td>\n",
       "      <td>3</td>\n",
       "      <td>1624</td>\n",
       "      <td>457</td>\n",
       "      <td>63</td>\n",
       "      <td>224</td>\n",
       "      <td>266</td>\n",
       "      <td>263</td>\n",
       "      <td>A</td>\n",
       "      <td>W</td>\n",
       "      <td>880</td>\n",
       "      <td>82</td>\n",
       "      <td>14</td>\n",
       "      <td>480.0</td>\n",
       "      <td>A</td>\n",
       "    </tr>\n",
       "    <tr>\n",
       "      <th>3</th>\n",
       "      <td>496</td>\n",
       "      <td>141</td>\n",
       "      <td>20</td>\n",
       "      <td>65</td>\n",
       "      <td>78</td>\n",
       "      <td>37</td>\n",
       "      <td>11</td>\n",
       "      <td>5628</td>\n",
       "      <td>1575</td>\n",
       "      <td>225</td>\n",
       "      <td>828</td>\n",
       "      <td>838</td>\n",
       "      <td>354</td>\n",
       "      <td>N</td>\n",
       "      <td>E</td>\n",
       "      <td>200</td>\n",
       "      <td>11</td>\n",
       "      <td>3</td>\n",
       "      <td>500.0</td>\n",
       "      <td>N</td>\n",
       "    </tr>\n",
       "    <tr>\n",
       "      <th>4</th>\n",
       "      <td>321</td>\n",
       "      <td>87</td>\n",
       "      <td>10</td>\n",
       "      <td>39</td>\n",
       "      <td>42</td>\n",
       "      <td>30</td>\n",
       "      <td>2</td>\n",
       "      <td>396</td>\n",
       "      <td>101</td>\n",
       "      <td>12</td>\n",
       "      <td>48</td>\n",
       "      <td>46</td>\n",
       "      <td>33</td>\n",
       "      <td>N</td>\n",
       "      <td>E</td>\n",
       "      <td>805</td>\n",
       "      <td>40</td>\n",
       "      <td>4</td>\n",
       "      <td>91.5</td>\n",
       "      <td>N</td>\n",
       "    </tr>\n",
       "    <tr>\n",
       "      <th>5</th>\n",
       "      <td>594</td>\n",
       "      <td>169</td>\n",
       "      <td>4</td>\n",
       "      <td>74</td>\n",
       "      <td>51</td>\n",
       "      <td>35</td>\n",
       "      <td>11</td>\n",
       "      <td>4408</td>\n",
       "      <td>1133</td>\n",
       "      <td>19</td>\n",
       "      <td>501</td>\n",
       "      <td>336</td>\n",
       "      <td>194</td>\n",
       "      <td>A</td>\n",
       "      <td>W</td>\n",
       "      <td>282</td>\n",
       "      <td>421</td>\n",
       "      <td>25</td>\n",
       "      <td>750.0</td>\n",
       "      <td>A</td>\n",
       "    </tr>\n",
       "  </tbody>\n",
       "</table>\n",
       "</div>"
      ],
      "text/plain": [
       "   AtBat  Hits  HmRun  Runs  RBI  Walks  Years  CAtBat  CHits  CHmRun  CRuns  \\\n",
       "1    315    81      7    24   38     39     14    3449    835      69    321   \n",
       "2    479   130     18    66   72     76      3    1624    457      63    224   \n",
       "3    496   141     20    65   78     37     11    5628   1575     225    828   \n",
       "4    321    87     10    39   42     30      2     396    101      12     48   \n",
       "5    594   169      4    74   51     35     11    4408   1133      19    501   \n",
       "\n",
       "   CRBI  CWalks League Division  PutOuts  Assists  Errors  Salary NewLeague  \n",
       "1   414     375      N        W      632       43      10   475.0         N  \n",
       "2   266     263      A        W      880       82      14   480.0         A  \n",
       "3   838     354      N        E      200       11       3   500.0         N  \n",
       "4    46      33      N        E      805       40       4    91.5         N  \n",
       "5   336     194      A        W      282      421      25   750.0         A  "
      ]
     },
     "execution_count": 81,
     "metadata": {},
     "output_type": "execute_result"
    }
   ],
   "source": [
    "#dataset beyzbol ile ilgili biz maaş değişkenine odaklanıyoruz\n",
    "df=pd.read_csv(\"data/Hitters.csv\")\n",
    "df=df.dropna()\n",
    "#aşağıdaki satırda kategorik değişkenler dummiye çevrildi one-hot encoding\n",
    "dms=pd.get_dummies(df[[\"League\",\"Division\",\"NewLeague\"]])\n",
    "y=df[\"Salary\"]\n",
    "#kategorik değikenleri ve bağımlı değişkeni bağımsız değişkelrin içinden çıkartıyoruz\n",
    "X_=df.drop([\"Salary\",\"League\",\"Division\",\"NewLeague\"],axis=1).astype(\"float64\")\n",
    "X=pd.concat([X_,dms[[\"League_N\",\"Division_W\",\"NewLeague_N\"]]],axis=1)\n",
    "X_train,X_test,y_train,y_test=train_test_split(X,y,test_size=0.25,\n",
    "                                              random_state=42)\n",
    "print(\"df shape:\",df.shape)\n",
    "df.head()"
   ]
  },
  {
   "cell_type": "code",
   "execution_count": 90,
   "metadata": {},
   "outputs": [
    {
     "data": {
      "text/plain": [
       "SVR(C=1.0, cache_size=200, coef0=0.0, degree=3, epsilon=0.1,\n",
       "    gamma='auto_deprecated', kernel='linear', max_iter=-1, shrinking=True,\n",
       "    tol=0.001, verbose=False)"
      ]
     },
     "execution_count": 90,
     "metadata": {},
     "output_type": "execute_result"
    }
   ],
   "source": [
    "svr_model=SVR(\"linear\").fit(X_train,y_train)#linaer yerine \"rbf\"'de yazabiliriz\n",
    "svr_model#modelde c parametresini optimize etmeye çalışıyoruz"
   ]
  },
  {
   "cell_type": "code",
   "execution_count": 91,
   "metadata": {},
   "outputs": [
    {
     "data": {
      "text/plain": [
       "array([-80.15196151])"
      ]
     },
     "execution_count": 91,
     "metadata": {},
     "output_type": "execute_result"
    }
   ],
   "source": [
    "svr_model.intercept_"
   ]
  },
  {
   "cell_type": "code",
   "execution_count": 92,
   "metadata": {},
   "outputs": [
    {
     "data": {
      "text/plain": [
       "array([[ -1.21839037,   6.09602969,  -3.67574533,   0.14217075,\n",
       "          0.51435919,   1.28388986,  12.55922537,  -0.08693755,\n",
       "          0.46597184,   2.98259944,   0.52944523,  -0.79820799,\n",
       "         -0.16015534,   0.30872794,   0.28842348,  -1.79560067,\n",
       "          6.41868985, -10.74313783,   1.33374317]])"
      ]
     },
     "execution_count": 92,
     "metadata": {},
     "output_type": "execute_result"
    }
   ],
   "source": [
    "svr_model.coef_"
   ]
  },
  {
   "cell_type": "code",
   "execution_count": 93,
   "metadata": {},
   "outputs": [],
   "source": [
    "#tahmin\n",
    "y_pred=svr_model.predict(X_test)"
   ]
  },
  {
   "cell_type": "code",
   "execution_count": 94,
   "metadata": {},
   "outputs": [
    {
     "name": "stdout",
     "output_type": "stream",
     "text": [
      "RMSE: 370.04084185624924\n"
     ]
    }
   ],
   "source": [
    "#hata\n",
    "RMSE=np.sqrt(mean_squared_error(y_test,y_pred))\n",
    "print(\"RMSE:\",RMSE)"
   ]
  },
  {
   "cell_type": "markdown",
   "metadata": {},
   "source": [
    "<h3>Model Tuning</h3>"
   ]
  },
  {
   "cell_type": "code",
   "execution_count": 97,
   "metadata": {},
   "outputs": [],
   "source": [
    "svr_model=SVR(\"linear\")\n",
    "svr_params={\"C\": [0.1,0.5,1,3]}\n",
    "svr_cv_model=GridSearchCV(svr_model,svr_params,cv=5).fit(X_train,y_train)\n",
    "#svr_cv_model=GridSearchCV(svr_model,svr_params,cv=5,verbose=2,\n",
    "#n_jobs=-1).fit(X_train,y_train) şeklinde kod \n",
    "#çalıştırılırsa yapılan işlem rapor edilir ve işlemci maksimum verimle kullanılır"
   ]
  },
  {
   "cell_type": "code",
   "execution_count": 102,
   "metadata": {},
   "outputs": [
    {
     "name": "stdout",
     "output_type": "stream",
     "text": [
      "en uygun C değeri: {'C': 0.5}\n"
     ]
    }
   ],
   "source": [
    "C=svr_cv_model.best_params_\n",
    "print(\"en uygun C değeri:\", C)"
   ]
  },
  {
   "cell_type": "code",
   "execution_count": 103,
   "metadata": {},
   "outputs": [],
   "source": [
    "svr_model_tuned=SVR(\"linear\",C=0.5).fit(X_train,y_train)"
   ]
  },
  {
   "cell_type": "code",
   "execution_count": 105,
   "metadata": {},
   "outputs": [],
   "source": [
    "#tahmin\n",
    "y_pred=svr_model_tuned.predict(X_test)"
   ]
  },
  {
   "cell_type": "code",
   "execution_count": 106,
   "metadata": {},
   "outputs": [
    {
     "name": "stdout",
     "output_type": "stream",
     "text": [
      "RMSE: 367.9874739022889\n"
     ]
    }
   ],
   "source": [
    "#hata\n",
    "RMSE=np.sqrt(mean_squared_error(y_test,y_pred))\n",
    "print(\"RMSE:\",RMSE)"
   ]
  },
  {
   "cell_type": "markdown",
   "metadata": {},
   "source": [
    "<h2>3-Yapay Sinir Ağları(Artificial Neural Network)</h2>\n",
    "<img src=image/ysa.jpg\">\n",
    "<img src=image/ysa1.jpg\">"
   ]
  },
  {
   "cell_type": "markdown",
   "metadata": {},
   "source": [
    "<h3>Model & Tahmin</h3>"
   ]
  },
  {
   "cell_type": "code",
   "execution_count": 107,
   "metadata": {},
   "outputs": [
    {
     "name": "stdout",
     "output_type": "stream",
     "text": [
      "df shape: (263, 20)\n"
     ]
    },
    {
     "data": {
      "text/html": [
       "<div>\n",
       "<style scoped>\n",
       "    .dataframe tbody tr th:only-of-type {\n",
       "        vertical-align: middle;\n",
       "    }\n",
       "\n",
       "    .dataframe tbody tr th {\n",
       "        vertical-align: top;\n",
       "    }\n",
       "\n",
       "    .dataframe thead th {\n",
       "        text-align: right;\n",
       "    }\n",
       "</style>\n",
       "<table border=\"1\" class=\"dataframe\">\n",
       "  <thead>\n",
       "    <tr style=\"text-align: right;\">\n",
       "      <th></th>\n",
       "      <th>AtBat</th>\n",
       "      <th>Hits</th>\n",
       "      <th>HmRun</th>\n",
       "      <th>Runs</th>\n",
       "      <th>RBI</th>\n",
       "      <th>Walks</th>\n",
       "      <th>Years</th>\n",
       "      <th>CAtBat</th>\n",
       "      <th>CHits</th>\n",
       "      <th>CHmRun</th>\n",
       "      <th>CRuns</th>\n",
       "      <th>CRBI</th>\n",
       "      <th>CWalks</th>\n",
       "      <th>League</th>\n",
       "      <th>Division</th>\n",
       "      <th>PutOuts</th>\n",
       "      <th>Assists</th>\n",
       "      <th>Errors</th>\n",
       "      <th>Salary</th>\n",
       "      <th>NewLeague</th>\n",
       "    </tr>\n",
       "  </thead>\n",
       "  <tbody>\n",
       "    <tr>\n",
       "      <th>1</th>\n",
       "      <td>315</td>\n",
       "      <td>81</td>\n",
       "      <td>7</td>\n",
       "      <td>24</td>\n",
       "      <td>38</td>\n",
       "      <td>39</td>\n",
       "      <td>14</td>\n",
       "      <td>3449</td>\n",
       "      <td>835</td>\n",
       "      <td>69</td>\n",
       "      <td>321</td>\n",
       "      <td>414</td>\n",
       "      <td>375</td>\n",
       "      <td>N</td>\n",
       "      <td>W</td>\n",
       "      <td>632</td>\n",
       "      <td>43</td>\n",
       "      <td>10</td>\n",
       "      <td>475.0</td>\n",
       "      <td>N</td>\n",
       "    </tr>\n",
       "    <tr>\n",
       "      <th>2</th>\n",
       "      <td>479</td>\n",
       "      <td>130</td>\n",
       "      <td>18</td>\n",
       "      <td>66</td>\n",
       "      <td>72</td>\n",
       "      <td>76</td>\n",
       "      <td>3</td>\n",
       "      <td>1624</td>\n",
       "      <td>457</td>\n",
       "      <td>63</td>\n",
       "      <td>224</td>\n",
       "      <td>266</td>\n",
       "      <td>263</td>\n",
       "      <td>A</td>\n",
       "      <td>W</td>\n",
       "      <td>880</td>\n",
       "      <td>82</td>\n",
       "      <td>14</td>\n",
       "      <td>480.0</td>\n",
       "      <td>A</td>\n",
       "    </tr>\n",
       "    <tr>\n",
       "      <th>3</th>\n",
       "      <td>496</td>\n",
       "      <td>141</td>\n",
       "      <td>20</td>\n",
       "      <td>65</td>\n",
       "      <td>78</td>\n",
       "      <td>37</td>\n",
       "      <td>11</td>\n",
       "      <td>5628</td>\n",
       "      <td>1575</td>\n",
       "      <td>225</td>\n",
       "      <td>828</td>\n",
       "      <td>838</td>\n",
       "      <td>354</td>\n",
       "      <td>N</td>\n",
       "      <td>E</td>\n",
       "      <td>200</td>\n",
       "      <td>11</td>\n",
       "      <td>3</td>\n",
       "      <td>500.0</td>\n",
       "      <td>N</td>\n",
       "    </tr>\n",
       "    <tr>\n",
       "      <th>4</th>\n",
       "      <td>321</td>\n",
       "      <td>87</td>\n",
       "      <td>10</td>\n",
       "      <td>39</td>\n",
       "      <td>42</td>\n",
       "      <td>30</td>\n",
       "      <td>2</td>\n",
       "      <td>396</td>\n",
       "      <td>101</td>\n",
       "      <td>12</td>\n",
       "      <td>48</td>\n",
       "      <td>46</td>\n",
       "      <td>33</td>\n",
       "      <td>N</td>\n",
       "      <td>E</td>\n",
       "      <td>805</td>\n",
       "      <td>40</td>\n",
       "      <td>4</td>\n",
       "      <td>91.5</td>\n",
       "      <td>N</td>\n",
       "    </tr>\n",
       "    <tr>\n",
       "      <th>5</th>\n",
       "      <td>594</td>\n",
       "      <td>169</td>\n",
       "      <td>4</td>\n",
       "      <td>74</td>\n",
       "      <td>51</td>\n",
       "      <td>35</td>\n",
       "      <td>11</td>\n",
       "      <td>4408</td>\n",
       "      <td>1133</td>\n",
       "      <td>19</td>\n",
       "      <td>501</td>\n",
       "      <td>336</td>\n",
       "      <td>194</td>\n",
       "      <td>A</td>\n",
       "      <td>W</td>\n",
       "      <td>282</td>\n",
       "      <td>421</td>\n",
       "      <td>25</td>\n",
       "      <td>750.0</td>\n",
       "      <td>A</td>\n",
       "    </tr>\n",
       "  </tbody>\n",
       "</table>\n",
       "</div>"
      ],
      "text/plain": [
       "   AtBat  Hits  HmRun  Runs  RBI  Walks  Years  CAtBat  CHits  CHmRun  CRuns  \\\n",
       "1    315    81      7    24   38     39     14    3449    835      69    321   \n",
       "2    479   130     18    66   72     76      3    1624    457      63    224   \n",
       "3    496   141     20    65   78     37     11    5628   1575     225    828   \n",
       "4    321    87     10    39   42     30      2     396    101      12     48   \n",
       "5    594   169      4    74   51     35     11    4408   1133      19    501   \n",
       "\n",
       "   CRBI  CWalks League Division  PutOuts  Assists  Errors  Salary NewLeague  \n",
       "1   414     375      N        W      632       43      10   475.0         N  \n",
       "2   266     263      A        W      880       82      14   480.0         A  \n",
       "3   838     354      N        E      200       11       3   500.0         N  \n",
       "4    46      33      N        E      805       40       4    91.5         N  \n",
       "5   336     194      A        W      282      421      25   750.0         A  "
      ]
     },
     "execution_count": 107,
     "metadata": {},
     "output_type": "execute_result"
    }
   ],
   "source": [
    "#dataset beyzbol ile ilgili biz maaş değişkenine odaklanıyoruz\n",
    "df=pd.read_csv(\"data/Hitters.csv\")\n",
    "df=df.dropna()\n",
    "#aşağıdaki satırda kategorik değişkenler dummiye çevrildi one-hot encoding\n",
    "dms=pd.get_dummies(df[[\"League\",\"Division\",\"NewLeague\"]])\n",
    "y=df[\"Salary\"]\n",
    "#kategorik değikenleri ve bağımlı değişkeni bağımsız değişkelrin içinden çıkartıyoruz\n",
    "X_=df.drop([\"Salary\",\"League\",\"Division\",\"NewLeague\"],axis=1).astype(\"float64\")\n",
    "X=pd.concat([X_,dms[[\"League_N\",\"Division_W\",\"NewLeague_N\"]]],axis=1)\n",
    "X_train,X_test,y_train,y_test=train_test_split(X,y,test_size=0.25,\n",
    "                                              random_state=42)\n",
    "print(\"df shape:\",df.shape)\n",
    "df.head()"
   ]
  },
  {
   "cell_type": "code",
   "execution_count": 110,
   "metadata": {},
   "outputs": [],
   "source": [
    "#verilerin standardizasyonu\n",
    "scaler=StandardScaler()\n",
    "scaler.fit(X_train)\n",
    "X_train_scaled=scaler.transform(X_train)\n",
    "X_test_scaled=scaler.transform(X_test)"
   ]
  },
  {
   "cell_type": "code",
   "execution_count": 111,
   "metadata": {},
   "outputs": [
    {
     "data": {
      "text/plain": [
       "MLPRegressor(activation='relu', alpha=0.0001, batch_size='auto', beta_1=0.9,\n",
       "             beta_2=0.999, early_stopping=False, epsilon=1e-08,\n",
       "             hidden_layer_sizes=(100,), learning_rate='constant',\n",
       "             learning_rate_init=0.001, max_iter=200, momentum=0.9,\n",
       "             n_iter_no_change=10, nesterovs_momentum=True, power_t=0.5,\n",
       "             random_state=None, shuffle=True, solver='adam', tol=0.0001,\n",
       "             validation_fraction=0.1, verbose=False, warm_start=False)"
      ]
     },
     "execution_count": 111,
     "metadata": {},
     "output_type": "execute_result"
    }
   ],
   "source": [
    "mlp_model=MLPRegressor().fit(X_train_scaled,y_train)\n",
    "mlp_model"
   ]
  },
  {
   "cell_type": "code",
   "execution_count": 115,
   "metadata": {},
   "outputs": [],
   "source": [
    "#tahmin\n",
    "y_pred=mlp_model.predict(X_test_scaled)"
   ]
  },
  {
   "cell_type": "code",
   "execution_count": 116,
   "metadata": {},
   "outputs": [
    {
     "name": "stdout",
     "output_type": "stream",
     "text": [
      "RMSE: 659.392185443527\n"
     ]
    }
   ],
   "source": [
    "#hata\n",
    "RMSE=np.sqrt(mean_squared_error(y_test,y_pred))\n",
    "print(\"RMSE:\",RMSE)"
   ]
  },
  {
   "cell_type": "markdown",
   "metadata": {},
   "source": [
    "<h3>Model Tuning</h3>"
   ]
  },
  {
   "cell_type": "code",
   "execution_count": 132,
   "metadata": {},
   "outputs": [
    {
     "name": "stdout",
     "output_type": "stream",
     "text": [
      "Fitting 10 folds for each of 15 candidates, totalling 150 fits\n"
     ]
    },
    {
     "name": "stderr",
     "output_type": "stream",
     "text": [
      "[Parallel(n_jobs=-1)]: Using backend LokyBackend with 4 concurrent workers.\n",
      "[Parallel(n_jobs=-1)]: Done  33 tasks      | elapsed:   10.5s\n",
      "[Parallel(n_jobs=-1)]: Done 150 out of 150 | elapsed:   29.4s finished\n"
     ]
    }
   ],
   "source": [
    "mlp_model=MLPRegressor()\n",
    "mlp_params={\"alpha\":[0.1,0.01,0.02,0.001,0.001],\n",
    "           \"hidden_layer_sizes\":[(10,2),(5,5),(100,100)]}\n",
    "mlp_cv_model=GridSearchCV(mlp_model,mlp_params,cv=10,verbose=2,\n",
    "                         n_jobs=-1).fit(X_train_scaled,y_train)"
   ]
  },
  {
   "cell_type": "code",
   "execution_count": 133,
   "metadata": {},
   "outputs": [
    {
     "data": {
      "text/plain": [
       "{'alpha': 0.01, 'hidden_layer_sizes': (100, 100)}"
      ]
     },
     "execution_count": 133,
     "metadata": {},
     "output_type": "execute_result"
    }
   ],
   "source": [
    "mlp_cv_model.best_params_"
   ]
  },
  {
   "cell_type": "code",
   "execution_count": 134,
   "metadata": {},
   "outputs": [],
   "source": [
    "mlp_model_tuned=MLPRegressor(alpha=0.1,\n",
    "                             hidden_layer_sizes=(100,100)).fit(X_train_scaled,y_train)"
   ]
  },
  {
   "cell_type": "code",
   "execution_count": 135,
   "metadata": {},
   "outputs": [],
   "source": [
    "#tahmin\n",
    "y_pred=mlp_model_tuned.predict(X_test_scaled)"
   ]
  },
  {
   "cell_type": "code",
   "execution_count": 136,
   "metadata": {},
   "outputs": [
    {
     "name": "stdout",
     "output_type": "stream",
     "text": [
      "RMSE: 370.4009988278548\n"
     ]
    }
   ],
   "source": [
    "#hata\n",
    "RMSE=np.sqrt(mean_squared_error(y_test,y_pred))\n",
    "print(\"RMSE:\",RMSE)"
   ]
  },
  {
   "cell_type": "markdown",
   "metadata": {},
   "source": [
    "<h2>4-CART(Classification and Regression Tree)</h2>\n",
    "\n",
    "- amaç veri seti içerisindeki karmaşık yapıları basit karar yapılarına dönüştürmektir.\n",
    "- Heterojen veri setleri belirlenmiş bir hedef değişkene göre homojen alt guruplara ayrılır."
   ]
  },
  {
   "cell_type": "markdown",
   "metadata": {},
   "source": [
    "<h3>Model & Tahmin </h3>"
   ]
  },
  {
   "cell_type": "code",
   "execution_count": 173,
   "metadata": {},
   "outputs": [
    {
     "name": "stdout",
     "output_type": "stream",
     "text": [
      "df shape: (263, 20)\n"
     ]
    },
    {
     "data": {
      "text/html": [
       "<div>\n",
       "<style scoped>\n",
       "    .dataframe tbody tr th:only-of-type {\n",
       "        vertical-align: middle;\n",
       "    }\n",
       "\n",
       "    .dataframe tbody tr th {\n",
       "        vertical-align: top;\n",
       "    }\n",
       "\n",
       "    .dataframe thead th {\n",
       "        text-align: right;\n",
       "    }\n",
       "</style>\n",
       "<table border=\"1\" class=\"dataframe\">\n",
       "  <thead>\n",
       "    <tr style=\"text-align: right;\">\n",
       "      <th></th>\n",
       "      <th>AtBat</th>\n",
       "      <th>Hits</th>\n",
       "      <th>HmRun</th>\n",
       "      <th>Runs</th>\n",
       "      <th>RBI</th>\n",
       "      <th>Walks</th>\n",
       "      <th>Years</th>\n",
       "      <th>CAtBat</th>\n",
       "      <th>CHits</th>\n",
       "      <th>CHmRun</th>\n",
       "      <th>CRuns</th>\n",
       "      <th>CRBI</th>\n",
       "      <th>CWalks</th>\n",
       "      <th>League</th>\n",
       "      <th>Division</th>\n",
       "      <th>PutOuts</th>\n",
       "      <th>Assists</th>\n",
       "      <th>Errors</th>\n",
       "      <th>Salary</th>\n",
       "      <th>NewLeague</th>\n",
       "    </tr>\n",
       "  </thead>\n",
       "  <tbody>\n",
       "    <tr>\n",
       "      <th>1</th>\n",
       "      <td>315</td>\n",
       "      <td>81</td>\n",
       "      <td>7</td>\n",
       "      <td>24</td>\n",
       "      <td>38</td>\n",
       "      <td>39</td>\n",
       "      <td>14</td>\n",
       "      <td>3449</td>\n",
       "      <td>835</td>\n",
       "      <td>69</td>\n",
       "      <td>321</td>\n",
       "      <td>414</td>\n",
       "      <td>375</td>\n",
       "      <td>N</td>\n",
       "      <td>W</td>\n",
       "      <td>632</td>\n",
       "      <td>43</td>\n",
       "      <td>10</td>\n",
       "      <td>475.0</td>\n",
       "      <td>N</td>\n",
       "    </tr>\n",
       "    <tr>\n",
       "      <th>2</th>\n",
       "      <td>479</td>\n",
       "      <td>130</td>\n",
       "      <td>18</td>\n",
       "      <td>66</td>\n",
       "      <td>72</td>\n",
       "      <td>76</td>\n",
       "      <td>3</td>\n",
       "      <td>1624</td>\n",
       "      <td>457</td>\n",
       "      <td>63</td>\n",
       "      <td>224</td>\n",
       "      <td>266</td>\n",
       "      <td>263</td>\n",
       "      <td>A</td>\n",
       "      <td>W</td>\n",
       "      <td>880</td>\n",
       "      <td>82</td>\n",
       "      <td>14</td>\n",
       "      <td>480.0</td>\n",
       "      <td>A</td>\n",
       "    </tr>\n",
       "    <tr>\n",
       "      <th>3</th>\n",
       "      <td>496</td>\n",
       "      <td>141</td>\n",
       "      <td>20</td>\n",
       "      <td>65</td>\n",
       "      <td>78</td>\n",
       "      <td>37</td>\n",
       "      <td>11</td>\n",
       "      <td>5628</td>\n",
       "      <td>1575</td>\n",
       "      <td>225</td>\n",
       "      <td>828</td>\n",
       "      <td>838</td>\n",
       "      <td>354</td>\n",
       "      <td>N</td>\n",
       "      <td>E</td>\n",
       "      <td>200</td>\n",
       "      <td>11</td>\n",
       "      <td>3</td>\n",
       "      <td>500.0</td>\n",
       "      <td>N</td>\n",
       "    </tr>\n",
       "    <tr>\n",
       "      <th>4</th>\n",
       "      <td>321</td>\n",
       "      <td>87</td>\n",
       "      <td>10</td>\n",
       "      <td>39</td>\n",
       "      <td>42</td>\n",
       "      <td>30</td>\n",
       "      <td>2</td>\n",
       "      <td>396</td>\n",
       "      <td>101</td>\n",
       "      <td>12</td>\n",
       "      <td>48</td>\n",
       "      <td>46</td>\n",
       "      <td>33</td>\n",
       "      <td>N</td>\n",
       "      <td>E</td>\n",
       "      <td>805</td>\n",
       "      <td>40</td>\n",
       "      <td>4</td>\n",
       "      <td>91.5</td>\n",
       "      <td>N</td>\n",
       "    </tr>\n",
       "    <tr>\n",
       "      <th>5</th>\n",
       "      <td>594</td>\n",
       "      <td>169</td>\n",
       "      <td>4</td>\n",
       "      <td>74</td>\n",
       "      <td>51</td>\n",
       "      <td>35</td>\n",
       "      <td>11</td>\n",
       "      <td>4408</td>\n",
       "      <td>1133</td>\n",
       "      <td>19</td>\n",
       "      <td>501</td>\n",
       "      <td>336</td>\n",
       "      <td>194</td>\n",
       "      <td>A</td>\n",
       "      <td>W</td>\n",
       "      <td>282</td>\n",
       "      <td>421</td>\n",
       "      <td>25</td>\n",
       "      <td>750.0</td>\n",
       "      <td>A</td>\n",
       "    </tr>\n",
       "  </tbody>\n",
       "</table>\n",
       "</div>"
      ],
      "text/plain": [
       "   AtBat  Hits  HmRun  Runs  RBI  Walks  Years  CAtBat  CHits  CHmRun  CRuns  \\\n",
       "1    315    81      7    24   38     39     14    3449    835      69    321   \n",
       "2    479   130     18    66   72     76      3    1624    457      63    224   \n",
       "3    496   141     20    65   78     37     11    5628   1575     225    828   \n",
       "4    321    87     10    39   42     30      2     396    101      12     48   \n",
       "5    594   169      4    74   51     35     11    4408   1133      19    501   \n",
       "\n",
       "   CRBI  CWalks League Division  PutOuts  Assists  Errors  Salary NewLeague  \n",
       "1   414     375      N        W      632       43      10   475.0         N  \n",
       "2   266     263      A        W      880       82      14   480.0         A  \n",
       "3   838     354      N        E      200       11       3   500.0         N  \n",
       "4    46      33      N        E      805       40       4    91.5         N  \n",
       "5   336     194      A        W      282      421      25   750.0         A  "
      ]
     },
     "execution_count": 173,
     "metadata": {},
     "output_type": "execute_result"
    }
   ],
   "source": [
    "#dataset beyzbol ile ilgili biz maaş değişkenine odaklanıyoruz\n",
    "df=pd.read_csv(\"data/Hitters.csv\")\n",
    "df=df.dropna()\n",
    "#aşağıdaki satırda kategorik değişkenler dummiye çevrildi one-hot encoding\n",
    "dms=pd.get_dummies(df[[\"League\",\"Division\",\"NewLeague\"]])\n",
    "y=df[\"Salary\"]\n",
    "#kategorik değikenleri ve bağımlı değişkeni bağımsız değişkelrin içinden çıkartıyoruz\n",
    "X_=df.drop([\"Salary\",\"League\",\"Division\",\"NewLeague\"],axis=1).astype(\"float64\")\n",
    "X=pd.concat([X_,dms[[\"League_N\",\"Division_W\",\"NewLeague_N\"]]],axis=1)\n",
    "X_train,X_test,y_train,y_test=train_test_split(X,y,test_size=0.25,\n",
    "                                              random_state=42)\n",
    "print(\"df shape:\",df.shape)\n",
    "df.head()"
   ]
  },
  {
   "cell_type": "code",
   "execution_count": 174,
   "metadata": {},
   "outputs": [],
   "source": [
    "X_train=pd.DataFrame(X_train[\"Hits\"])\n",
    "X_test=pd.DataFrame(X_test[\"Hits\"])"
   ]
  },
  {
   "cell_type": "code",
   "execution_count": 175,
   "metadata": {},
   "outputs": [
    {
     "data": {
      "text/plain": [
       "DecisionTreeRegressor(criterion='mse', max_depth=None, max_features=None,\n",
       "                      max_leaf_nodes=10, min_impurity_decrease=0.0,\n",
       "                      min_impurity_split=None, min_samples_leaf=1,\n",
       "                      min_samples_split=2, min_weight_fraction_leaf=0.0,\n",
       "                      presort=False, random_state=None, splitter='best')"
      ]
     },
     "execution_count": 175,
     "metadata": {},
     "output_type": "execute_result"
    }
   ],
   "source": [
    "cart_model=DecisionTreeRegressor(max_leaf_nodes=10).fit(X_train,y_train)\n",
    "cart_model"
   ]
  },
  {
   "cell_type": "code",
   "execution_count": 176,
   "metadata": {},
   "outputs": [
    {
     "data": {
      "image/png": "[encoded data removed]",
      "text/plain": [
       "<Figure size 432x288 with 1 Axes>"
      ]
     },
     "metadata": {
      "needs_background": "light"
     },
     "output_type": "display_data"
    }
   ],
   "source": [
    "#görselleştirme\n",
    "X_grid=np.arange(min(np.array(X_train)),max(np.array(X_train)),0.01)\n",
    "X_grid=X_grid.reshape((len(X_grid),1))\n",
    "\n",
    "plt.scatter(X_train,y_train,color=\"red\")\n",
    "plt.plot(X_grid,cart_model.predict(X_grid),color=\"blue\")\n",
    "\n",
    "plt.title(\"CART REGRESYON AĞACI\")\n",
    "plt.xlabel(\"Atış Sayısı\")\n",
    "plt.ylabel(\"Maaş(Salary)\");"
   ]
  },
  {
   "cell_type": "code",
   "execution_count": 177,
   "metadata": {},
   "outputs": [],
   "source": [
    "#tek değişkenli tahmin\n",
    "y_pred=cart_model.predict(X_test)"
   ]
  },
  {
   "cell_type": "code",
   "execution_count": 178,
   "metadata": {},
   "outputs": [
    {
     "name": "stdout",
     "output_type": "stream",
     "text": [
      "RMSE: 486.34593105235456\n"
     ]
    }
   ],
   "source": [
    "#hata\n",
    "RMSE=np.sqrt(mean_squared_error(y_test,y_pred))\n",
    "print(\"RMSE:\",RMSE)"
   ]
  },
  {
   "cell_type": "code",
   "execution_count": 179,
   "metadata": {},
   "outputs": [
    {
     "name": "stdout",
     "output_type": "stream",
     "text": [
      "df shape: (263, 20)\n"
     ]
    },
    {
     "data": {
      "text/html": [
       "<div>\n",
       "<style scoped>\n",
       "    .dataframe tbody tr th:only-of-type {\n",
       "        vertical-align: middle;\n",
       "    }\n",
       "\n",
       "    .dataframe tbody tr th {\n",
       "        vertical-align: top;\n",
       "    }\n",
       "\n",
       "    .dataframe thead th {\n",
       "        text-align: right;\n",
       "    }\n",
       "</style>\n",
       "<table border=\"1\" class=\"dataframe\">\n",
       "  <thead>\n",
       "    <tr style=\"text-align: right;\">\n",
       "      <th></th>\n",
       "      <th>AtBat</th>\n",
       "      <th>Hits</th>\n",
       "      <th>HmRun</th>\n",
       "      <th>Runs</th>\n",
       "      <th>RBI</th>\n",
       "      <th>Walks</th>\n",
       "      <th>Years</th>\n",
       "      <th>CAtBat</th>\n",
       "      <th>CHits</th>\n",
       "      <th>CHmRun</th>\n",
       "      <th>CRuns</th>\n",
       "      <th>CRBI</th>\n",
       "      <th>CWalks</th>\n",
       "      <th>League</th>\n",
       "      <th>Division</th>\n",
       "      <th>PutOuts</th>\n",
       "      <th>Assists</th>\n",
       "      <th>Errors</th>\n",
       "      <th>Salary</th>\n",
       "      <th>NewLeague</th>\n",
       "    </tr>\n",
       "  </thead>\n",
       "  <tbody>\n",
       "    <tr>\n",
       "      <th>1</th>\n",
       "      <td>315</td>\n",
       "      <td>81</td>\n",
       "      <td>7</td>\n",
       "      <td>24</td>\n",
       "      <td>38</td>\n",
       "      <td>39</td>\n",
       "      <td>14</td>\n",
       "      <td>3449</td>\n",
       "      <td>835</td>\n",
       "      <td>69</td>\n",
       "      <td>321</td>\n",
       "      <td>414</td>\n",
       "      <td>375</td>\n",
       "      <td>N</td>\n",
       "      <td>W</td>\n",
       "      <td>632</td>\n",
       "      <td>43</td>\n",
       "      <td>10</td>\n",
       "      <td>475.0</td>\n",
       "      <td>N</td>\n",
       "    </tr>\n",
       "    <tr>\n",
       "      <th>2</th>\n",
       "      <td>479</td>\n",
       "      <td>130</td>\n",
       "      <td>18</td>\n",
       "      <td>66</td>\n",
       "      <td>72</td>\n",
       "      <td>76</td>\n",
       "      <td>3</td>\n",
       "      <td>1624</td>\n",
       "      <td>457</td>\n",
       "      <td>63</td>\n",
       "      <td>224</td>\n",
       "      <td>266</td>\n",
       "      <td>263</td>\n",
       "      <td>A</td>\n",
       "      <td>W</td>\n",
       "      <td>880</td>\n",
       "      <td>82</td>\n",
       "      <td>14</td>\n",
       "      <td>480.0</td>\n",
       "      <td>A</td>\n",
       "    </tr>\n",
       "    <tr>\n",
       "      <th>3</th>\n",
       "      <td>496</td>\n",
       "      <td>141</td>\n",
       "      <td>20</td>\n",
       "      <td>65</td>\n",
       "      <td>78</td>\n",
       "      <td>37</td>\n",
       "      <td>11</td>\n",
       "      <td>5628</td>\n",
       "      <td>1575</td>\n",
       "      <td>225</td>\n",
       "      <td>828</td>\n",
       "      <td>838</td>\n",
       "      <td>354</td>\n",
       "      <td>N</td>\n",
       "      <td>E</td>\n",
       "      <td>200</td>\n",
       "      <td>11</td>\n",
       "      <td>3</td>\n",
       "      <td>500.0</td>\n",
       "      <td>N</td>\n",
       "    </tr>\n",
       "    <tr>\n",
       "      <th>4</th>\n",
       "      <td>321</td>\n",
       "      <td>87</td>\n",
       "      <td>10</td>\n",
       "      <td>39</td>\n",
       "      <td>42</td>\n",
       "      <td>30</td>\n",
       "      <td>2</td>\n",
       "      <td>396</td>\n",
       "      <td>101</td>\n",
       "      <td>12</td>\n",
       "      <td>48</td>\n",
       "      <td>46</td>\n",
       "      <td>33</td>\n",
       "      <td>N</td>\n",
       "      <td>E</td>\n",
       "      <td>805</td>\n",
       "      <td>40</td>\n",
       "      <td>4</td>\n",
       "      <td>91.5</td>\n",
       "      <td>N</td>\n",
       "    </tr>\n",
       "    <tr>\n",
       "      <th>5</th>\n",
       "      <td>594</td>\n",
       "      <td>169</td>\n",
       "      <td>4</td>\n",
       "      <td>74</td>\n",
       "      <td>51</td>\n",
       "      <td>35</td>\n",
       "      <td>11</td>\n",
       "      <td>4408</td>\n",
       "      <td>1133</td>\n",
       "      <td>19</td>\n",
       "      <td>501</td>\n",
       "      <td>336</td>\n",
       "      <td>194</td>\n",
       "      <td>A</td>\n",
       "      <td>W</td>\n",
       "      <td>282</td>\n",
       "      <td>421</td>\n",
       "      <td>25</td>\n",
       "      <td>750.0</td>\n",
       "      <td>A</td>\n",
       "    </tr>\n",
       "  </tbody>\n",
       "</table>\n",
       "</div>"
      ],
      "text/plain": [
       "   AtBat  Hits  HmRun  Runs  RBI  Walks  Years  CAtBat  CHits  CHmRun  CRuns  \\\n",
       "1    315    81      7    24   38     39     14    3449    835      69    321   \n",
       "2    479   130     18    66   72     76      3    1624    457      63    224   \n",
       "3    496   141     20    65   78     37     11    5628   1575     225    828   \n",
       "4    321    87     10    39   42     30      2     396    101      12     48   \n",
       "5    594   169      4    74   51     35     11    4408   1133      19    501   \n",
       "\n",
       "   CRBI  CWalks League Division  PutOuts  Assists  Errors  Salary NewLeague  \n",
       "1   414     375      N        W      632       43      10   475.0         N  \n",
       "2   266     263      A        W      880       82      14   480.0         A  \n",
       "3   838     354      N        E      200       11       3   500.0         N  \n",
       "4    46      33      N        E      805       40       4    91.5         N  \n",
       "5   336     194      A        W      282      421      25   750.0         A  "
      ]
     },
     "execution_count": 179,
     "metadata": {},
     "output_type": "execute_result"
    }
   ],
   "source": [
    "#Tüm Değişkenler\n",
    "#dataset beyzbol ile ilgili biz maaş değişkenine odaklanıyoruz\n",
    "df=pd.read_csv(\"data/Hitters.csv\")\n",
    "df=df.dropna()\n",
    "#aşağıdaki satırda kategorik değişkenler dummiye çevrildi one-hot encoding\n",
    "dms=pd.get_dummies(df[[\"League\",\"Division\",\"NewLeague\"]])\n",
    "y=df[\"Salary\"]\n",
    "#kategorik değikenleri ve bağımlı değişkeni bağımsız değişkelrin içinden çıkartıyoruz\n",
    "X_=df.drop([\"Salary\",\"League\",\"Division\",\"NewLeague\"],axis=1).astype(\"float64\")\n",
    "X=pd.concat([X_,dms[[\"League_N\",\"Division_W\",\"NewLeague_N\"]]],axis=1)\n",
    "X_train,X_test,y_train,y_test=train_test_split(X,y,test_size=0.25,\n",
    "                                              random_state=42)\n",
    "print(\"df shape:\",df.shape)\n",
    "df.head()"
   ]
  },
  {
   "cell_type": "code",
   "execution_count": 180,
   "metadata": {},
   "outputs": [
    {
     "data": {
      "text/plain": [
       "DecisionTreeRegressor(criterion='mse', max_depth=None, max_features=None,\n",
       "                      max_leaf_nodes=None, min_impurity_decrease=0.0,\n",
       "                      min_impurity_split=None, min_samples_leaf=1,\n",
       "                      min_samples_split=2, min_weight_fraction_leaf=0.0,\n",
       "                      presort=False, random_state=None, splitter='best')"
      ]
     },
     "execution_count": 180,
     "metadata": {},
     "output_type": "execute_result"
    }
   ],
   "source": [
    "cart_model=DecisionTreeRegressor().fit(X_train,y_train)\n",
    "cart_model"
   ]
  },
  {
   "cell_type": "code",
   "execution_count": 181,
   "metadata": {},
   "outputs": [],
   "source": [
    "#tahmin\n",
    "y_pred=cart_model.predict(X_test)"
   ]
  },
  {
   "cell_type": "code",
   "execution_count": 182,
   "metadata": {},
   "outputs": [
    {
     "name": "stdout",
     "output_type": "stream",
     "text": [
      "RMSE: 468.89397589115515\n"
     ]
    }
   ],
   "source": [
    "#hata\n",
    "RMSE=np.sqrt(mean_squared_error(y_test,y_pred))\n",
    "print(\"RMSE:\",RMSE)"
   ]
  },
  {
   "cell_type": "markdown",
   "metadata": {},
   "source": [
    "<h3>Model Tuning</h3>"
   ]
  },
  {
   "cell_type": "code",
   "execution_count": 185,
   "metadata": {},
   "outputs": [
    {
     "data": {
      "text/plain": [
       "DecisionTreeRegressor(criterion='mse', max_depth=None, max_features=None,\n",
       "                      max_leaf_nodes=None, min_impurity_decrease=0.0,\n",
       "                      min_impurity_split=None, min_samples_leaf=1,\n",
       "                      min_samples_split=2, min_weight_fraction_leaf=0.0,\n",
       "                      presort=False, random_state=None, splitter='best')"
      ]
     },
     "execution_count": 185,
     "metadata": {},
     "output_type": "execute_result"
    }
   ],
   "source": [
    "cart_model=DecisionTreeRegressor()\n",
    "cart_model"
   ]
  },
  {
   "cell_type": "code",
   "execution_count": 186,
   "metadata": {},
   "outputs": [],
   "source": [
    "?cart_model"
   ]
  },
  {
   "cell_type": "code",
   "execution_count": 187,
   "metadata": {},
   "outputs": [],
   "source": [
    "cart_params={\"max_depth\":[2,3,4,5,10,20],\n",
    "             \"min_samples_split\":[2,10,5,30,50,100]}\n",
    "cart_cv_model=GridSearchCV(cart_model,cart_params,cv=10).fit(X_train,y_train)"
   ]
  },
  {
   "cell_type": "code",
   "execution_count": 190,
   "metadata": {},
   "outputs": [
    {
     "data": {
      "text/plain": [
       "{'max_depth': 4, 'min_samples_split': 50}"
      ]
     },
     "execution_count": 190,
     "metadata": {},
     "output_type": "execute_result"
    }
   ],
   "source": [
    "cart_cv_model.best_params_"
   ]
  },
  {
   "cell_type": "code",
   "execution_count": 191,
   "metadata": {},
   "outputs": [],
   "source": [
    "#final model\n",
    "cart_tuned=DecisionTreeRegressor(max_depth=4,min_samples_split=50).fit(X_train,y_train)"
   ]
  },
  {
   "cell_type": "code",
   "execution_count": 192,
   "metadata": {},
   "outputs": [],
   "source": [
    "#tahmin\n",
    "y_pred=cart_tuned.predict(X_test)"
   ]
  },
  {
   "cell_type": "code",
   "execution_count": 193,
   "metadata": {},
   "outputs": [
    {
     "name": "stdout",
     "output_type": "stream",
     "text": [
      "RMSE: 361.0876906511434\n"
     ]
    }
   ],
   "source": [
    "#hata\n",
    "RMSE=np.sqrt(mean_squared_error(y_test,y_pred))\n",
    "print(\"RMSE:\",RMSE)"
   ]
  },
  {
   "cell_type": "markdown",
   "metadata": {},
   "source": [
    "<h2>5-Rastgele Ormanlar(Random Forest)</h2>\n",
    "\n",
    "Topluluk Öğrenme Yöntemleri: Birden fazla algoritmanın ya da birdeb fazla ağacın bir araya gelerek toplu bir şekilde öğrenmesi ve tahmin etmeye çalışmasıdır\n",
    "\n",
    "<strong>Bagging(Bootstrap Aggregation)</strong>:Temeli Bootstrap yöntemi ile oluşturulan birden fazla karar ağacının ürettiği tahminlerin bir araya getirilerek değerlendirilmesine dayanır.\n",
    "<img src=\"image/rf1.JPG\">\n",
    "\n",
    "<strong>Random Forests</strong>:temeli birden çok karar ağacının ürettiği tahminlerin bir araya getirilerek değerlendirilmsine dayanır.\n",
    "\n",
    "- Baging ile Random Subspace yöntemlerinin birleşimi ile oluşmuştur.\n",
    "- Ağaçalar için gözlemler bootstrap rastgele örnek seçimi yöntemi ile değişkenler random subspace yöntemi ile seçilir.\n",
    "- Karar ağacının her bir düğümünde en iyi dallara ayırıcı (bilgi kazancı) değişken tüm değişkenler arasından rastgele seçilen daha az sayıdaki değişken arasından seçilir.\n",
    "- Ağaç oluşturmada veri setinin 2/3'ü kullanılır. Dışarıda kalan veri ağaçların performans değerlendirmesi ve değişken öneminin belirlenmesi için kullanılır.\n",
    "- Her düğüm noktasında rastgele değişken seçimi yapılır.(regresyonda p/3,sınıflamada karekök p)"
   ]
  },
  {
   "cell_type": "markdown",
   "metadata": {},
   "source": [
    "<h3>Model & Tahmin</h3>"
   ]
  },
  {
   "cell_type": "code",
   "execution_count": 5,
   "metadata": {},
   "outputs": [
    {
     "name": "stdout",
     "output_type": "stream",
     "text": [
      "df shape: (263, 20)\n"
     ]
    },
    {
     "data": {
      "text/html": [
       "<div>\n",
       "<style scoped>\n",
       "    .dataframe tbody tr th:only-of-type {\n",
       "        vertical-align: middle;\n",
       "    }\n",
       "\n",
       "    .dataframe tbody tr th {\n",
       "        vertical-align: top;\n",
       "    }\n",
       "\n",
       "    .dataframe thead th {\n",
       "        text-align: right;\n",
       "    }\n",
       "</style>\n",
       "<table border=\"1\" class=\"dataframe\">\n",
       "  <thead>\n",
       "    <tr style=\"text-align: right;\">\n",
       "      <th></th>\n",
       "      <th>AtBat</th>\n",
       "      <th>Hits</th>\n",
       "      <th>HmRun</th>\n",
       "      <th>Runs</th>\n",
       "      <th>RBI</th>\n",
       "      <th>Walks</th>\n",
       "      <th>Years</th>\n",
       "      <th>CAtBat</th>\n",
       "      <th>CHits</th>\n",
       "      <th>CHmRun</th>\n",
       "      <th>CRuns</th>\n",
       "      <th>CRBI</th>\n",
       "      <th>CWalks</th>\n",
       "      <th>League</th>\n",
       "      <th>Division</th>\n",
       "      <th>PutOuts</th>\n",
       "      <th>Assists</th>\n",
       "      <th>Errors</th>\n",
       "      <th>Salary</th>\n",
       "      <th>NewLeague</th>\n",
       "    </tr>\n",
       "  </thead>\n",
       "  <tbody>\n",
       "    <tr>\n",
       "      <th>1</th>\n",
       "      <td>315</td>\n",
       "      <td>81</td>\n",
       "      <td>7</td>\n",
       "      <td>24</td>\n",
       "      <td>38</td>\n",
       "      <td>39</td>\n",
       "      <td>14</td>\n",
       "      <td>3449</td>\n",
       "      <td>835</td>\n",
       "      <td>69</td>\n",
       "      <td>321</td>\n",
       "      <td>414</td>\n",
       "      <td>375</td>\n",
       "      <td>N</td>\n",
       "      <td>W</td>\n",
       "      <td>632</td>\n",
       "      <td>43</td>\n",
       "      <td>10</td>\n",
       "      <td>475.0</td>\n",
       "      <td>N</td>\n",
       "    </tr>\n",
       "    <tr>\n",
       "      <th>2</th>\n",
       "      <td>479</td>\n",
       "      <td>130</td>\n",
       "      <td>18</td>\n",
       "      <td>66</td>\n",
       "      <td>72</td>\n",
       "      <td>76</td>\n",
       "      <td>3</td>\n",
       "      <td>1624</td>\n",
       "      <td>457</td>\n",
       "      <td>63</td>\n",
       "      <td>224</td>\n",
       "      <td>266</td>\n",
       "      <td>263</td>\n",
       "      <td>A</td>\n",
       "      <td>W</td>\n",
       "      <td>880</td>\n",
       "      <td>82</td>\n",
       "      <td>14</td>\n",
       "      <td>480.0</td>\n",
       "      <td>A</td>\n",
       "    </tr>\n",
       "    <tr>\n",
       "      <th>3</th>\n",
       "      <td>496</td>\n",
       "      <td>141</td>\n",
       "      <td>20</td>\n",
       "      <td>65</td>\n",
       "      <td>78</td>\n",
       "      <td>37</td>\n",
       "      <td>11</td>\n",
       "      <td>5628</td>\n",
       "      <td>1575</td>\n",
       "      <td>225</td>\n",
       "      <td>828</td>\n",
       "      <td>838</td>\n",
       "      <td>354</td>\n",
       "      <td>N</td>\n",
       "      <td>E</td>\n",
       "      <td>200</td>\n",
       "      <td>11</td>\n",
       "      <td>3</td>\n",
       "      <td>500.0</td>\n",
       "      <td>N</td>\n",
       "    </tr>\n",
       "    <tr>\n",
       "      <th>4</th>\n",
       "      <td>321</td>\n",
       "      <td>87</td>\n",
       "      <td>10</td>\n",
       "      <td>39</td>\n",
       "      <td>42</td>\n",
       "      <td>30</td>\n",
       "      <td>2</td>\n",
       "      <td>396</td>\n",
       "      <td>101</td>\n",
       "      <td>12</td>\n",
       "      <td>48</td>\n",
       "      <td>46</td>\n",
       "      <td>33</td>\n",
       "      <td>N</td>\n",
       "      <td>E</td>\n",
       "      <td>805</td>\n",
       "      <td>40</td>\n",
       "      <td>4</td>\n",
       "      <td>91.5</td>\n",
       "      <td>N</td>\n",
       "    </tr>\n",
       "    <tr>\n",
       "      <th>5</th>\n",
       "      <td>594</td>\n",
       "      <td>169</td>\n",
       "      <td>4</td>\n",
       "      <td>74</td>\n",
       "      <td>51</td>\n",
       "      <td>35</td>\n",
       "      <td>11</td>\n",
       "      <td>4408</td>\n",
       "      <td>1133</td>\n",
       "      <td>19</td>\n",
       "      <td>501</td>\n",
       "      <td>336</td>\n",
       "      <td>194</td>\n",
       "      <td>A</td>\n",
       "      <td>W</td>\n",
       "      <td>282</td>\n",
       "      <td>421</td>\n",
       "      <td>25</td>\n",
       "      <td>750.0</td>\n",
       "      <td>A</td>\n",
       "    </tr>\n",
       "  </tbody>\n",
       "</table>\n",
       "</div>"
      ],
      "text/plain": [
       "   AtBat  Hits  HmRun  Runs  RBI  Walks  Years  CAtBat  CHits  CHmRun  CRuns  \\\n",
       "1    315    81      7    24   38     39     14    3449    835      69    321   \n",
       "2    479   130     18    66   72     76      3    1624    457      63    224   \n",
       "3    496   141     20    65   78     37     11    5628   1575     225    828   \n",
       "4    321    87     10    39   42     30      2     396    101      12     48   \n",
       "5    594   169      4    74   51     35     11    4408   1133      19    501   \n",
       "\n",
       "   CRBI  CWalks League Division  PutOuts  Assists  Errors  Salary NewLeague  \n",
       "1   414     375      N        W      632       43      10   475.0         N  \n",
       "2   266     263      A        W      880       82      14   480.0         A  \n",
       "3   838     354      N        E      200       11       3   500.0         N  \n",
       "4    46      33      N        E      805       40       4    91.5         N  \n",
       "5   336     194      A        W      282      421      25   750.0         A  "
      ]
     },
     "execution_count": 5,
     "metadata": {},
     "output_type": "execute_result"
    }
   ],
   "source": [
    "#dataset beyzbol ile ilgili biz maaş değişkenine odaklanıyoruz\n",
    "df=pd.read_csv(\"data/Hitters.csv\")\n",
    "df=df.dropna()\n",
    "#aşağıdaki satırda kategorik değişkenler dummiye çevrildi one-hot encoding\n",
    "dms=pd.get_dummies(df[[\"League\",\"Division\",\"NewLeague\"]])\n",
    "y=df[\"Salary\"]\n",
    "#kategorik değikenleri ve bağımlı değişkeni bağımsız değişkelrin içinden çıkartıyoruz\n",
    "X_=df.drop([\"Salary\",\"League\",\"Division\",\"NewLeague\"],axis=1).astype(\"float64\")\n",
    "X=pd.concat([X_,dms[[\"League_N\",\"Division_W\",\"NewLeague_N\"]]],axis=1)\n",
    "X_train,X_test,y_train,y_test=train_test_split(X,y,test_size=0.25,\n",
    "                                              random_state=42)\n",
    "print(\"df shape:\",df.shape)\n",
    "df.head()"
   ]
  },
  {
   "cell_type": "code",
   "execution_count": 9,
   "metadata": {},
   "outputs": [
    {
     "data": {
      "text/plain": [
       "RandomForestRegressor(bootstrap=True, criterion='mse', max_depth=None,\n",
       "                      max_features='auto', max_leaf_nodes=None,\n",
       "                      min_impurity_decrease=0.0, min_impurity_split=None,\n",
       "                      min_samples_leaf=1, min_samples_split=2,\n",
       "                      min_weight_fraction_leaf=0.0, n_estimators=10,\n",
       "                      n_jobs=None, oob_score=False, random_state=42, verbose=0,\n",
       "                      warm_start=False)"
      ]
     },
     "execution_count": 9,
     "metadata": {},
     "output_type": "execute_result"
    }
   ],
   "source": [
    "rf_model=RandomForestRegressor(random_state=42).fit(X_train,y_train)\n",
    "rf_model"
   ]
  },
  {
   "cell_type": "code",
   "execution_count": 10,
   "metadata": {},
   "outputs": [],
   "source": [
    "#tahmin\n",
    "y_pred=rf_model.predict(X_test)"
   ]
  },
  {
   "cell_type": "code",
   "execution_count": 11,
   "metadata": {},
   "outputs": [
    {
     "name": "stdout",
     "output_type": "stream",
     "text": [
      "RMSE: 373.04044281427\n"
     ]
    }
   ],
   "source": [
    "#hata\n",
    "RMSE=np.sqrt(mean_squared_error(y_test,y_pred))\n",
    "print(\"RMSE:\",RMSE)"
   ]
  },
  {
   "cell_type": "markdown",
   "metadata": {},
   "source": [
    "<h3>Model Tuning</h3>"
   ]
  },
  {
   "cell_type": "code",
   "execution_count": 15,
   "metadata": {},
   "outputs": [
    {
     "name": "stdout",
     "output_type": "stream",
     "text": [
      "Fitting 10 folds for each of 144 candidates, totalling 1440 fits\n"
     ]
    },
    {
     "name": "stderr",
     "output_type": "stream",
     "text": [
      "[Parallel(n_jobs=-1)]: Using backend LokyBackend with 4 concurrent workers.\n",
      "[Parallel(n_jobs=-1)]: Done  33 tasks      | elapsed:   20.3s\n",
      "[Parallel(n_jobs=-1)]: Done 154 tasks      | elapsed:  1.3min\n",
      "[Parallel(n_jobs=-1)]: Done 357 tasks      | elapsed:  3.6min\n",
      "[Parallel(n_jobs=-1)]: Done 640 tasks      | elapsed:  6.3min\n",
      "[Parallel(n_jobs=-1)]: Done 1005 tasks      | elapsed:  9.8min\n",
      "[Parallel(n_jobs=-1)]: Done 1440 out of 1440 | elapsed: 14.5min finished\n",
      "D:\\anaconda\\lib\\site-packages\\sklearn\\model_selection\\_search.py:813: DeprecationWarning: The default of the `iid` parameter will change from True to False in version 0.22 and will be removed in 0.24. This will change numeric results when test-set sizes are unequal.\n",
      "  DeprecationWarning)\n"
     ]
    }
   ],
   "source": [
    "rf_model=RandomForestRegressor(random_state=42)\n",
    "rf_params={\"max_depth\":[5,8,10],\n",
    "           \"max_features\":[2,5,10],\n",
    "           \"min_samples_split\":[2,10,80,100],\n",
    "           \"n_estimators\":[200,500,1000,2000]}\n",
    "rf_cv_model=GridSearchCV(rf_model,rf_params,cv=10,n_jobs=-1,verbose=2).fit(X_train,y_train)"
   ]
  },
  {
   "cell_type": "code",
   "execution_count": 21,
   "metadata": {},
   "outputs": [
    {
     "data": {
      "text/plain": [
       "{'max_depth': 8,\n",
       " 'max_features': 2,\n",
       " 'min_samples_split': 2,\n",
       " 'n_estimators': 200}"
      ]
     },
     "execution_count": 21,
     "metadata": {},
     "output_type": "execute_result"
    }
   ],
   "source": [
    "rf_cv_model.best_params_"
   ]
  },
  {
   "cell_type": "code",
   "execution_count": 24,
   "metadata": {},
   "outputs": [],
   "source": [
    "rf_tuned=RandomForestRegressor(random_state=42,max_depth=8,\n",
    "                               min_samples_split=2,\n",
    "                               max_features=2,n_estimators=200).fit(X_train,y_train)"
   ]
  },
  {
   "cell_type": "code",
   "execution_count": 26,
   "metadata": {},
   "outputs": [],
   "source": [
    "#tahmin\n",
    "y_pred=rf_tuned.predict(X_test)"
   ]
  },
  {
   "cell_type": "code",
   "execution_count": 27,
   "metadata": {},
   "outputs": [
    {
     "name": "stdout",
     "output_type": "stream",
     "text": [
      "RMSE: 348.2372919119422\n"
     ]
    }
   ],
   "source": [
    "#hata\n",
    "RMSE=np.sqrt(mean_squared_error(y_test,y_pred))\n",
    "print(\"RMSE:\",RMSE)"
   ]
  },
  {
   "cell_type": "markdown",
   "metadata": {},
   "source": [
    "<h4>Değiken Önem Düzeyi</h4>"
   ]
  },
  {
   "cell_type": "code",
   "execution_count": 32,
   "metadata": {},
   "outputs": [
    {
     "data": {
      "image/png": "[encoded data removed]",
      "text/plain": [
       "<Figure size 432x288 with 1 Axes>"
      ]
     },
     "metadata": {
      "needs_background": "light"
     },
     "output_type": "display_data"
    }
   ],
   "source": [
    "importance=pd.DataFrame({\"importance\":rf_tuned.feature_importances_*100},\n",
    "                       index=X_train.columns)\n",
    "\n",
    "importance.sort_values(by=\"importance\",axis=0,ascending=True).plot(kind=\"barh\",color=\"r\")\n",
    "plt.xlabel(\"Variable İmportance\")\n",
    "plt.gca().legend_=None"
   ]
  },
  {
   "cell_type": "markdown",
   "metadata": {},
   "source": [
    "<h2>6-Gradient Boosting Machines(GBM)</h2>\n",
    "\n",
    "AdaBoost'un sınıflandırma ve regresyon problemlerine kolayca uyarlanabilen genelleştirilmiş versiyonudur.\n",
    "- Artıklar üzerine tek bir tahminsel model formunda olan modeller serisi kullanılır.\n",
    "- Amaç, hata kareler ortalamasını minimum yapacak şekilde katsayılar ya da karar kuralları bulmaktır.\n",
    "\n",
    "<strong>Boosting Yöntemlerine Giriş</strong>:\n",
    "zayıf öğrencileri bir araya getirip güçlü bir öğrenci ortaya çıkarmak fikrine dayanır.\n",
    "\n",
    "<strong>Kötü Tahmin</strong>:Gerçek değerler ile tahmin edilen değerlerin farkının karelerinin alınması sonucunda ortya çıkan büyük değerlerdir. Kötü tahminde bulunan ağaçlar da zayıf tahmincilerdir.\n",
    "\n",
    "<strong>AdaBoost(Adaptive Boosting)</strong>:Zayıf sınıflandırcıların bir araya gelerek güçlü bir sınıflandırıcı oluşturması fikrine hayata geçiren algoritmadır.\n",
    "\n",
    "<img src=\"image/adaboost.JPG\">\n",
    "\n",
    "- Gradient boosting tek bir tahminsel model formunda olan modeller serisi oluşturur.\n",
    "- Seri içerisinde bir model serideki bir önceki modelin tahmnin artıklarının/hatalarının(residuals) üzerine kurularak(fit) oluşturulur.\n",
    "- GBM difeansiyellenebilen herhangi bir kayıp fnksiyonunu optimize edebilen Gradient descent algoritmasını kullanmakta.\n",
    "- GBM bir çok temel öğrenici tipi(base learner type) kullanabilir.(Trees,linear terms,splines,..)\n",
    "- Cost Fonksiyonları ve link fonksiyonları modifiye edilebilir.\n",
    "- Boosting + Gradient Descent"
   ]
  },
  {
   "cell_type": "markdown",
   "metadata": {},
   "source": [
    "<h3>Model & Tahmin </h3>"
   ]
  },
  {
   "cell_type": "code",
   "execution_count": 33,
   "metadata": {},
   "outputs": [
    {
     "name": "stdout",
     "output_type": "stream",
     "text": [
      "df shape: (263, 20)\n"
     ]
    },
    {
     "data": {
      "text/html": [
       "<div>\n",
       "<style scoped>\n",
       "    .dataframe tbody tr th:only-of-type {\n",
       "        vertical-align: middle;\n",
       "    }\n",
       "\n",
       "    .dataframe tbody tr th {\n",
       "        vertical-align: top;\n",
       "    }\n",
       "\n",
       "    .dataframe thead th {\n",
       "        text-align: right;\n",
       "    }\n",
       "</style>\n",
       "<table border=\"1\" class=\"dataframe\">\n",
       "  <thead>\n",
       "    <tr style=\"text-align: right;\">\n",
       "      <th></th>\n",
       "      <th>AtBat</th>\n",
       "      <th>Hits</th>\n",
       "      <th>HmRun</th>\n",
       "      <th>Runs</th>\n",
       "      <th>RBI</th>\n",
       "      <th>Walks</th>\n",
       "      <th>Years</th>\n",
       "      <th>CAtBat</th>\n",
       "      <th>CHits</th>\n",
       "      <th>CHmRun</th>\n",
       "      <th>CRuns</th>\n",
       "      <th>CRBI</th>\n",
       "      <th>CWalks</th>\n",
       "      <th>League</th>\n",
       "      <th>Division</th>\n",
       "      <th>PutOuts</th>\n",
       "      <th>Assists</th>\n",
       "      <th>Errors</th>\n",
       "      <th>Salary</th>\n",
       "      <th>NewLeague</th>\n",
       "    </tr>\n",
       "  </thead>\n",
       "  <tbody>\n",
       "    <tr>\n",
       "      <th>1</th>\n",
       "      <td>315</td>\n",
       "      <td>81</td>\n",
       "      <td>7</td>\n",
       "      <td>24</td>\n",
       "      <td>38</td>\n",
       "      <td>39</td>\n",
       "      <td>14</td>\n",
       "      <td>3449</td>\n",
       "      <td>835</td>\n",
       "      <td>69</td>\n",
       "      <td>321</td>\n",
       "      <td>414</td>\n",
       "      <td>375</td>\n",
       "      <td>N</td>\n",
       "      <td>W</td>\n",
       "      <td>632</td>\n",
       "      <td>43</td>\n",
       "      <td>10</td>\n",
       "      <td>475.0</td>\n",
       "      <td>N</td>\n",
       "    </tr>\n",
       "    <tr>\n",
       "      <th>2</th>\n",
       "      <td>479</td>\n",
       "      <td>130</td>\n",
       "      <td>18</td>\n",
       "      <td>66</td>\n",
       "      <td>72</td>\n",
       "      <td>76</td>\n",
       "      <td>3</td>\n",
       "      <td>1624</td>\n",
       "      <td>457</td>\n",
       "      <td>63</td>\n",
       "      <td>224</td>\n",
       "      <td>266</td>\n",
       "      <td>263</td>\n",
       "      <td>A</td>\n",
       "      <td>W</td>\n",
       "      <td>880</td>\n",
       "      <td>82</td>\n",
       "      <td>14</td>\n",
       "      <td>480.0</td>\n",
       "      <td>A</td>\n",
       "    </tr>\n",
       "    <tr>\n",
       "      <th>3</th>\n",
       "      <td>496</td>\n",
       "      <td>141</td>\n",
       "      <td>20</td>\n",
       "      <td>65</td>\n",
       "      <td>78</td>\n",
       "      <td>37</td>\n",
       "      <td>11</td>\n",
       "      <td>5628</td>\n",
       "      <td>1575</td>\n",
       "      <td>225</td>\n",
       "      <td>828</td>\n",
       "      <td>838</td>\n",
       "      <td>354</td>\n",
       "      <td>N</td>\n",
       "      <td>E</td>\n",
       "      <td>200</td>\n",
       "      <td>11</td>\n",
       "      <td>3</td>\n",
       "      <td>500.0</td>\n",
       "      <td>N</td>\n",
       "    </tr>\n",
       "    <tr>\n",
       "      <th>4</th>\n",
       "      <td>321</td>\n",
       "      <td>87</td>\n",
       "      <td>10</td>\n",
       "      <td>39</td>\n",
       "      <td>42</td>\n",
       "      <td>30</td>\n",
       "      <td>2</td>\n",
       "      <td>396</td>\n",
       "      <td>101</td>\n",
       "      <td>12</td>\n",
       "      <td>48</td>\n",
       "      <td>46</td>\n",
       "      <td>33</td>\n",
       "      <td>N</td>\n",
       "      <td>E</td>\n",
       "      <td>805</td>\n",
       "      <td>40</td>\n",
       "      <td>4</td>\n",
       "      <td>91.5</td>\n",
       "      <td>N</td>\n",
       "    </tr>\n",
       "    <tr>\n",
       "      <th>5</th>\n",
       "      <td>594</td>\n",
       "      <td>169</td>\n",
       "      <td>4</td>\n",
       "      <td>74</td>\n",
       "      <td>51</td>\n",
       "      <td>35</td>\n",
       "      <td>11</td>\n",
       "      <td>4408</td>\n",
       "      <td>1133</td>\n",
       "      <td>19</td>\n",
       "      <td>501</td>\n",
       "      <td>336</td>\n",
       "      <td>194</td>\n",
       "      <td>A</td>\n",
       "      <td>W</td>\n",
       "      <td>282</td>\n",
       "      <td>421</td>\n",
       "      <td>25</td>\n",
       "      <td>750.0</td>\n",
       "      <td>A</td>\n",
       "    </tr>\n",
       "  </tbody>\n",
       "</table>\n",
       "</div>"
      ],
      "text/plain": [
       "   AtBat  Hits  HmRun  Runs  RBI  Walks  Years  CAtBat  CHits  CHmRun  CRuns  \\\n",
       "1    315    81      7    24   38     39     14    3449    835      69    321   \n",
       "2    479   130     18    66   72     76      3    1624    457      63    224   \n",
       "3    496   141     20    65   78     37     11    5628   1575     225    828   \n",
       "4    321    87     10    39   42     30      2     396    101      12     48   \n",
       "5    594   169      4    74   51     35     11    4408   1133      19    501   \n",
       "\n",
       "   CRBI  CWalks League Division  PutOuts  Assists  Errors  Salary NewLeague  \n",
       "1   414     375      N        W      632       43      10   475.0         N  \n",
       "2   266     263      A        W      880       82      14   480.0         A  \n",
       "3   838     354      N        E      200       11       3   500.0         N  \n",
       "4    46      33      N        E      805       40       4    91.5         N  \n",
       "5   336     194      A        W      282      421      25   750.0         A  "
      ]
     },
     "execution_count": 33,
     "metadata": {},
     "output_type": "execute_result"
    }
   ],
   "source": [
    "#dataset beyzbol ile ilgili biz maaş değişkenine odaklanıyoruz\n",
    "df=pd.read_csv(\"data/Hitters.csv\")\n",
    "df=df.dropna()\n",
    "#aşağıdaki satırda kategorik değişkenler dummiye çevrildi one-hot encoding\n",
    "dms=pd.get_dummies(df[[\"League\",\"Division\",\"NewLeague\"]])\n",
    "y=df[\"Salary\"]\n",
    "#kategorik değikenleri ve bağımlı değişkeni bağımsız değişkelrin içinden çıkartıyoruz\n",
    "X_=df.drop([\"Salary\",\"League\",\"Division\",\"NewLeague\"],axis=1).astype(\"float64\")\n",
    "X=pd.concat([X_,dms[[\"League_N\",\"Division_W\",\"NewLeague_N\"]]],axis=1)\n",
    "X_train,X_test,y_train,y_test=train_test_split(X,y,test_size=0.25,\n",
    "                                              random_state=42)\n",
    "print(\"df shape:\",df.shape)\n",
    "df.head()"
   ]
  },
  {
   "cell_type": "code",
   "execution_count": 35,
   "metadata": {},
   "outputs": [
    {
     "data": {
      "text/plain": [
       "GradientBoostingRegressor(alpha=0.9, criterion='friedman_mse', init=None,\n",
       "                          learning_rate=0.1, loss='ls', max_depth=3,\n",
       "                          max_features=None, max_leaf_nodes=None,\n",
       "                          min_impurity_decrease=0.0, min_impurity_split=None,\n",
       "                          min_samples_leaf=1, min_samples_split=2,\n",
       "                          min_weight_fraction_leaf=0.0, n_estimators=100,\n",
       "                          n_iter_no_change=None, presort='auto',\n",
       "                          random_state=None, subsample=1.0, tol=0.0001,\n",
       "                          validation_fraction=0.1, verbose=0, warm_start=False)"
      ]
     },
     "execution_count": 35,
     "metadata": {},
     "output_type": "execute_result"
    }
   ],
   "source": [
    "gbm_model=GradientBoostingRegressor().fit(X_train,y_train)\n",
    "gbm_model"
   ]
  },
  {
   "cell_type": "code",
   "execution_count": 39,
   "metadata": {},
   "outputs": [],
   "source": [
    "?gbm_model"
   ]
  },
  {
   "cell_type": "code",
   "execution_count": 36,
   "metadata": {},
   "outputs": [],
   "source": [
    "#tahmin\n",
    "y_pred=gbm_model.predict(X_test)"
   ]
  },
  {
   "cell_type": "code",
   "execution_count": 37,
   "metadata": {},
   "outputs": [
    {
     "name": "stdout",
     "output_type": "stream",
     "text": [
      "RMSE: 348.0899416307912\n"
     ]
    }
   ],
   "source": [
    "#hata\n",
    "RMSE=np.sqrt(mean_squared_error(y_test,y_pred))\n",
    "print(\"RMSE:\",RMSE)"
   ]
  },
  {
   "cell_type": "markdown",
   "metadata": {},
   "source": [
    "<h3>Model Tuning</h3>"
   ]
  },
  {
   "cell_type": "code",
   "execution_count": 41,
   "metadata": {},
   "outputs": [
    {
     "name": "stdout",
     "output_type": "stream",
     "text": [
      "Fitting 10 folds for each of 243 candidates, totalling 2430 fits\n"
     ]
    },
    {
     "name": "stderr",
     "output_type": "stream",
     "text": [
      "[Parallel(n_jobs=-1)]: Using backend LokyBackend with 4 concurrent workers.\n",
      "[Parallel(n_jobs=-1)]: Done  33 tasks      | elapsed:   25.6s\n",
      "[Parallel(n_jobs=-1)]: Done 265 tasks      | elapsed:   39.0s\n",
      "[Parallel(n_jobs=-1)]: Done 471 tasks      | elapsed:   56.2s\n",
      "[Parallel(n_jobs=-1)]: Done 754 tasks      | elapsed:  1.3min\n",
      "[Parallel(n_jobs=-1)]: Done 1330 tasks      | elapsed:  2.1min\n",
      "[Parallel(n_jobs=-1)]: Done 1907 tasks      | elapsed:  2.8min\n",
      "[Parallel(n_jobs=-1)]: Done 2430 out of 2430 | elapsed:  3.8min finished\n"
     ]
    }
   ],
   "source": [
    "gbm_model=GradientBoostingRegressor()\n",
    "gbm_params={\"n_estimators\":[100,200,500],\n",
    "            \"learning_rate\":[0.001,0.1,0.01],\n",
    "            \"max_depth\":[3,5,8],\n",
    "            \"subsample\":[1,0.5,0.8],\n",
    "            \"loss\":['ls', 'lad', 'quantile']}\n",
    "gbm_cv_models=GridSearchCV(gbm_model,gbm_params,cv=10,n_jobs=-1,verbose=2).fit(X_train,y_train)"
   ]
  },
  {
   "cell_type": "code",
   "execution_count": 42,
   "metadata": {},
   "outputs": [
    {
     "data": {
      "text/plain": [
       "{'learning_rate': 0.1,\n",
       " 'loss': 'lad',\n",
       " 'max_depth': 3,\n",
       " 'n_estimators': 500,\n",
       " 'subsample': 1}"
      ]
     },
     "execution_count": 42,
     "metadata": {},
     "output_type": "execute_result"
    }
   ],
   "source": [
    "gbm_cv_models.best_params_"
   ]
  },
  {
   "cell_type": "code",
   "execution_count": 46,
   "metadata": {},
   "outputs": [],
   "source": [
    "gbm_tuned=GradientBoostingRegressor(learning_rate=0.1,max_depth=3,\n",
    "                                    subsample=1,loss=\"lad\",n_estimators=500).fit(X_train,y_train)"
   ]
  },
  {
   "cell_type": "code",
   "execution_count": 49,
   "metadata": {},
   "outputs": [],
   "source": [
    "#tahmin\n",
    "y_pred=gbm_tuned.predict(X_test)"
   ]
  },
  {
   "cell_type": "code",
   "execution_count": 50,
   "metadata": {},
   "outputs": [
    {
     "name": "stdout",
     "output_type": "stream",
     "text": [
      "RMSE: 339.1634790884989\n"
     ]
    }
   ],
   "source": [
    "#hata\n",
    "RMSE=np.sqrt(mean_squared_error(y_test,y_pred))\n",
    "print(\"RMSE:\",RMSE)"
   ]
  },
  {
   "cell_type": "markdown",
   "metadata": {},
   "source": [
    "<h2>7-XGBoost(eXtreme Gradient Boosting)</h2>\n",
    "\n",
    "XGBoost, GBM'in hız ve tahmin performansını arttırmak üzere optimize edilmiş; ölçeklemnebilir ve farklı platformlara entegre edilebilir halidir.\n",
    "- Ölçeklenebilirdir\n",
    "- Hızlıdır\n",
    "- Tahmin Başarısı yüksektir\n",
    "- bir çok kaggle yarışmasında başarısını kanıtlamıştır."
   ]
  },
  {
   "cell_type": "markdown",
   "metadata": {},
   "source": [
    "<h3>Model & Tahmin</h3>"
   ]
  },
  {
   "cell_type": "code",
   "execution_count": 54,
   "metadata": {},
   "outputs": [
    {
     "name": "stdout",
     "output_type": "stream",
     "text": [
      "df shape: (263, 20)\n"
     ]
    },
    {
     "data": {
      "text/html": [
       "<div>\n",
       "<style scoped>\n",
       "    .dataframe tbody tr th:only-of-type {\n",
       "        vertical-align: middle;\n",
       "    }\n",
       "\n",
       "    .dataframe tbody tr th {\n",
       "        vertical-align: top;\n",
       "    }\n",
       "\n",
       "    .dataframe thead th {\n",
       "        text-align: right;\n",
       "    }\n",
       "</style>\n",
       "<table border=\"1\" class=\"dataframe\">\n",
       "  <thead>\n",
       "    <tr style=\"text-align: right;\">\n",
       "      <th></th>\n",
       "      <th>AtBat</th>\n",
       "      <th>Hits</th>\n",
       "      <th>HmRun</th>\n",
       "      <th>Runs</th>\n",
       "      <th>RBI</th>\n",
       "      <th>Walks</th>\n",
       "      <th>Years</th>\n",
       "      <th>CAtBat</th>\n",
       "      <th>CHits</th>\n",
       "      <th>CHmRun</th>\n",
       "      <th>CRuns</th>\n",
       "      <th>CRBI</th>\n",
       "      <th>CWalks</th>\n",
       "      <th>League</th>\n",
       "      <th>Division</th>\n",
       "      <th>PutOuts</th>\n",
       "      <th>Assists</th>\n",
       "      <th>Errors</th>\n",
       "      <th>Salary</th>\n",
       "      <th>NewLeague</th>\n",
       "    </tr>\n",
       "  </thead>\n",
       "  <tbody>\n",
       "    <tr>\n",
       "      <th>1</th>\n",
       "      <td>315</td>\n",
       "      <td>81</td>\n",
       "      <td>7</td>\n",
       "      <td>24</td>\n",
       "      <td>38</td>\n",
       "      <td>39</td>\n",
       "      <td>14</td>\n",
       "      <td>3449</td>\n",
       "      <td>835</td>\n",
       "      <td>69</td>\n",
       "      <td>321</td>\n",
       "      <td>414</td>\n",
       "      <td>375</td>\n",
       "      <td>N</td>\n",
       "      <td>W</td>\n",
       "      <td>632</td>\n",
       "      <td>43</td>\n",
       "      <td>10</td>\n",
       "      <td>475.0</td>\n",
       "      <td>N</td>\n",
       "    </tr>\n",
       "    <tr>\n",
       "      <th>2</th>\n",
       "      <td>479</td>\n",
       "      <td>130</td>\n",
       "      <td>18</td>\n",
       "      <td>66</td>\n",
       "      <td>72</td>\n",
       "      <td>76</td>\n",
       "      <td>3</td>\n",
       "      <td>1624</td>\n",
       "      <td>457</td>\n",
       "      <td>63</td>\n",
       "      <td>224</td>\n",
       "      <td>266</td>\n",
       "      <td>263</td>\n",
       "      <td>A</td>\n",
       "      <td>W</td>\n",
       "      <td>880</td>\n",
       "      <td>82</td>\n",
       "      <td>14</td>\n",
       "      <td>480.0</td>\n",
       "      <td>A</td>\n",
       "    </tr>\n",
       "    <tr>\n",
       "      <th>3</th>\n",
       "      <td>496</td>\n",
       "      <td>141</td>\n",
       "      <td>20</td>\n",
       "      <td>65</td>\n",
       "      <td>78</td>\n",
       "      <td>37</td>\n",
       "      <td>11</td>\n",
       "      <td>5628</td>\n",
       "      <td>1575</td>\n",
       "      <td>225</td>\n",
       "      <td>828</td>\n",
       "      <td>838</td>\n",
       "      <td>354</td>\n",
       "      <td>N</td>\n",
       "      <td>E</td>\n",
       "      <td>200</td>\n",
       "      <td>11</td>\n",
       "      <td>3</td>\n",
       "      <td>500.0</td>\n",
       "      <td>N</td>\n",
       "    </tr>\n",
       "    <tr>\n",
       "      <th>4</th>\n",
       "      <td>321</td>\n",
       "      <td>87</td>\n",
       "      <td>10</td>\n",
       "      <td>39</td>\n",
       "      <td>42</td>\n",
       "      <td>30</td>\n",
       "      <td>2</td>\n",
       "      <td>396</td>\n",
       "      <td>101</td>\n",
       "      <td>12</td>\n",
       "      <td>48</td>\n",
       "      <td>46</td>\n",
       "      <td>33</td>\n",
       "      <td>N</td>\n",
       "      <td>E</td>\n",
       "      <td>805</td>\n",
       "      <td>40</td>\n",
       "      <td>4</td>\n",
       "      <td>91.5</td>\n",
       "      <td>N</td>\n",
       "    </tr>\n",
       "    <tr>\n",
       "      <th>5</th>\n",
       "      <td>594</td>\n",
       "      <td>169</td>\n",
       "      <td>4</td>\n",
       "      <td>74</td>\n",
       "      <td>51</td>\n",
       "      <td>35</td>\n",
       "      <td>11</td>\n",
       "      <td>4408</td>\n",
       "      <td>1133</td>\n",
       "      <td>19</td>\n",
       "      <td>501</td>\n",
       "      <td>336</td>\n",
       "      <td>194</td>\n",
       "      <td>A</td>\n",
       "      <td>W</td>\n",
       "      <td>282</td>\n",
       "      <td>421</td>\n",
       "      <td>25</td>\n",
       "      <td>750.0</td>\n",
       "      <td>A</td>\n",
       "    </tr>\n",
       "  </tbody>\n",
       "</table>\n",
       "</div>"
      ],
      "text/plain": [
       "   AtBat  Hits  HmRun  Runs  RBI  Walks  Years  CAtBat  CHits  CHmRun  CRuns  \\\n",
       "1    315    81      7    24   38     39     14    3449    835      69    321   \n",
       "2    479   130     18    66   72     76      3    1624    457      63    224   \n",
       "3    496   141     20    65   78     37     11    5628   1575     225    828   \n",
       "4    321    87     10    39   42     30      2     396    101      12     48   \n",
       "5    594   169      4    74   51     35     11    4408   1133      19    501   \n",
       "\n",
       "   CRBI  CWalks League Division  PutOuts  Assists  Errors  Salary NewLeague  \n",
       "1   414     375      N        W      632       43      10   475.0         N  \n",
       "2   266     263      A        W      880       82      14   480.0         A  \n",
       "3   838     354      N        E      200       11       3   500.0         N  \n",
       "4    46      33      N        E      805       40       4    91.5         N  \n",
       "5   336     194      A        W      282      421      25   750.0         A  "
      ]
     },
     "execution_count": 54,
     "metadata": {},
     "output_type": "execute_result"
    }
   ],
   "source": [
    "#dataset beyzbol ile ilgili biz maaş değişkenine odaklanıyoruz\n",
    "df=pd.read_csv(\"data/Hitters.csv\")\n",
    "df=df.dropna()\n",
    "#aşağıdaki satırda kategorik değişkenler dummiye çevrildi one-hot encoding\n",
    "dms=pd.get_dummies(df[[\"League\",\"Division\",\"NewLeague\"]])\n",
    "y=df[\"Salary\"]\n",
    "#kategorik değikenleri ve bağımlı değişkeni bağımsız değişkelrin içinden çıkartıyoruz\n",
    "X_=df.drop([\"Salary\",\"League\",\"Division\",\"NewLeague\"],axis=1).astype(\"float64\")\n",
    "X=pd.concat([X_,dms[[\"League_N\",\"Division_W\",\"NewLeague_N\"]]],axis=1)\n",
    "X_train,X_test,y_train,y_test=train_test_split(X,y,test_size=0.25,\n",
    "                                              random_state=42)\n",
    "print(\"df shape:\",df.shape)\n",
    "df.head()"
   ]
  },
  {
   "cell_type": "code",
   "execution_count": 57,
   "metadata": {},
   "outputs": [],
   "source": [
    "#!pip install xgboost\n",
    "from xgboost import XGBRegressor"
   ]
  },
  {
   "cell_type": "code",
   "execution_count": 58,
   "metadata": {},
   "outputs": [
    {
     "data": {
      "text/plain": [
       "XGBRegressor(base_score=0.5, booster=None, colsample_bylevel=1,\n",
       "             colsample_bynode=1, colsample_bytree=1, gamma=0, gpu_id=-1,\n",
       "             importance_type='gain', interaction_constraints=None,\n",
       "             learning_rate=0.300000012, max_delta_step=0, max_depth=6,\n",
       "             min_child_weight=1, missing=nan, monotone_constraints=None,\n",
       "             n_estimators=100, n_jobs=0, num_parallel_tree=1,\n",
       "             objective='reg:squarederror', random_state=0, reg_alpha=0,\n",
       "             reg_lambda=1, scale_pos_weight=1, subsample=1, tree_method=None,\n",
       "             validate_parameters=False, verbosity=None)"
      ]
     },
     "execution_count": 58,
     "metadata": {},
     "output_type": "execute_result"
    }
   ],
   "source": [
    "xgb_model=XGBRegressor().fit(X_train,y_train)\n",
    "xgb_model"
   ]
  },
  {
   "cell_type": "code",
   "execution_count": 59,
   "metadata": {},
   "outputs": [],
   "source": [
    "#tahmin\n",
    "y_pred=xgb_model.predict(X_test)"
   ]
  },
  {
   "cell_type": "code",
   "execution_count": 60,
   "metadata": {},
   "outputs": [
    {
     "name": "stdout",
     "output_type": "stream",
     "text": [
      "RMSE: 355.4651481224188\n"
     ]
    }
   ],
   "source": [
    "#hata\n",
    "RMSE=np.sqrt(mean_squared_error(y_test,y_pred))\n",
    "print(\"RMSE:\",RMSE)"
   ]
  },
  {
   "cell_type": "markdown",
   "metadata": {},
   "source": [
    "<h3>Model Tuned</h3>"
   ]
  },
  {
   "cell_type": "code",
   "execution_count": 61,
   "metadata": {},
   "outputs": [
    {
     "name": "stdout",
     "output_type": "stream",
     "text": [
      "Fitting 10 folds for each of 180 candidates, totalling 1800 fits\n"
     ]
    },
    {
     "name": "stderr",
     "output_type": "stream",
     "text": [
      "[Parallel(n_jobs=-1)]: Using backend LokyBackend with 4 concurrent workers.\n",
      "[Parallel(n_jobs=-1)]: Done  33 tasks      | elapsed:   21.4s\n",
      "[Parallel(n_jobs=-1)]: Done 264 tasks      | elapsed:   26.5s\n",
      "[Parallel(n_jobs=-1)]: Done 1072 tasks      | elapsed:   45.7s\n",
      "[Parallel(n_jobs=-1)]: Done 1800 out of 1800 | elapsed:  1.1min finished\n"
     ]
    }
   ],
   "source": [
    "xgb_model=XGBRegressor()\n",
    "xgb_params={\"learning_rate\":[0.1,0.01,0.5],\n",
    "            \"max_depth\":[2,3,4,5,8],\n",
    "            \"n_estimators\":[100,200,500,100],\n",
    "            \"colsample_bytree\":[0.4,0.7,1]}\n",
    "xgb_cv_model=GridSearchCV(xgb_model,xgb_params,cv=10,n_jobs=-1,verbose=2).fit(X_train,y_train)"
   ]
  },
  {
   "cell_type": "code",
   "execution_count": 62,
   "metadata": {},
   "outputs": [
    {
     "data": {
      "text/plain": [
       "{'colsample_bytree': 0.4,\n",
       " 'learning_rate': 0.1,\n",
       " 'max_depth': 2,\n",
       " 'n_estimators': 500}"
      ]
     },
     "execution_count": 62,
     "metadata": {},
     "output_type": "execute_result"
    }
   ],
   "source": [
    "xgb_cv_model.best_params_"
   ]
  },
  {
   "cell_type": "code",
   "execution_count": 63,
   "metadata": {},
   "outputs": [],
   "source": [
    "xgb_tuned=XGBRegressor(learning_rate=0.1,max_depth=2,\n",
    "                       n_estimators=500,colsample_bytree=0.4).fit(X_train,y_train)"
   ]
  },
  {
   "cell_type": "code",
   "execution_count": 64,
   "metadata": {},
   "outputs": [],
   "source": [
    "#tahmin\n",
    "y_pred=xgb_tuned.predict(X_test)"
   ]
  },
  {
   "cell_type": "code",
   "execution_count": 65,
   "metadata": {},
   "outputs": [
    {
     "name": "stdout",
     "output_type": "stream",
     "text": [
      "RMSE: 364.02230428244354\n"
     ]
    }
   ],
   "source": [
    "#hata\n",
    "RMSE=np.sqrt(mean_squared_error(y_test,y_pred))\n",
    "print(\"RMSE:\",RMSE)"
   ]
  },
  {
   "cell_type": "markdown",
   "metadata": {},
   "source": [
    "<h2>8-Light GBM</h2>\n",
    "\n",
    "Light GBM,XGBoost'un eğitim süresi performansını arttırmaya yönelik geliştirilen bir diğer GBM türüdür.\n",
    "\n",
    "- Daha Performanslı\n",
    "- Lewel-wise büyüme stratejisis yerine Leaf-wise büyüme stratejisi\n",
    "- Breadth-first search(BFS yerine depth-first search(DFS)"
   ]
  },
  {
   "cell_type": "markdown",
   "metadata": {},
   "source": [
    "<h3>Model & Tahmin</h3>"
   ]
  },
  {
   "cell_type": "code",
   "execution_count": 66,
   "metadata": {},
   "outputs": [
    {
     "name": "stdout",
     "output_type": "stream",
     "text": [
      "df shape: (263, 20)\n"
     ]
    },
    {
     "data": {
      "text/html": [
       "<div>\n",
       "<style scoped>\n",
       "    .dataframe tbody tr th:only-of-type {\n",
       "        vertical-align: middle;\n",
       "    }\n",
       "\n",
       "    .dataframe tbody tr th {\n",
       "        vertical-align: top;\n",
       "    }\n",
       "\n",
       "    .dataframe thead th {\n",
       "        text-align: right;\n",
       "    }\n",
       "</style>\n",
       "<table border=\"1\" class=\"dataframe\">\n",
       "  <thead>\n",
       "    <tr style=\"text-align: right;\">\n",
       "      <th></th>\n",
       "      <th>AtBat</th>\n",
       "      <th>Hits</th>\n",
       "      <th>HmRun</th>\n",
       "      <th>Runs</th>\n",
       "      <th>RBI</th>\n",
       "      <th>Walks</th>\n",
       "      <th>Years</th>\n",
       "      <th>CAtBat</th>\n",
       "      <th>CHits</th>\n",
       "      <th>CHmRun</th>\n",
       "      <th>CRuns</th>\n",
       "      <th>CRBI</th>\n",
       "      <th>CWalks</th>\n",
       "      <th>League</th>\n",
       "      <th>Division</th>\n",
       "      <th>PutOuts</th>\n",
       "      <th>Assists</th>\n",
       "      <th>Errors</th>\n",
       "      <th>Salary</th>\n",
       "      <th>NewLeague</th>\n",
       "    </tr>\n",
       "  </thead>\n",
       "  <tbody>\n",
       "    <tr>\n",
       "      <th>1</th>\n",
       "      <td>315</td>\n",
       "      <td>81</td>\n",
       "      <td>7</td>\n",
       "      <td>24</td>\n",
       "      <td>38</td>\n",
       "      <td>39</td>\n",
       "      <td>14</td>\n",
       "      <td>3449</td>\n",
       "      <td>835</td>\n",
       "      <td>69</td>\n",
       "      <td>321</td>\n",
       "      <td>414</td>\n",
       "      <td>375</td>\n",
       "      <td>N</td>\n",
       "      <td>W</td>\n",
       "      <td>632</td>\n",
       "      <td>43</td>\n",
       "      <td>10</td>\n",
       "      <td>475.0</td>\n",
       "      <td>N</td>\n",
       "    </tr>\n",
       "    <tr>\n",
       "      <th>2</th>\n",
       "      <td>479</td>\n",
       "      <td>130</td>\n",
       "      <td>18</td>\n",
       "      <td>66</td>\n",
       "      <td>72</td>\n",
       "      <td>76</td>\n",
       "      <td>3</td>\n",
       "      <td>1624</td>\n",
       "      <td>457</td>\n",
       "      <td>63</td>\n",
       "      <td>224</td>\n",
       "      <td>266</td>\n",
       "      <td>263</td>\n",
       "      <td>A</td>\n",
       "      <td>W</td>\n",
       "      <td>880</td>\n",
       "      <td>82</td>\n",
       "      <td>14</td>\n",
       "      <td>480.0</td>\n",
       "      <td>A</td>\n",
       "    </tr>\n",
       "    <tr>\n",
       "      <th>3</th>\n",
       "      <td>496</td>\n",
       "      <td>141</td>\n",
       "      <td>20</td>\n",
       "      <td>65</td>\n",
       "      <td>78</td>\n",
       "      <td>37</td>\n",
       "      <td>11</td>\n",
       "      <td>5628</td>\n",
       "      <td>1575</td>\n",
       "      <td>225</td>\n",
       "      <td>828</td>\n",
       "      <td>838</td>\n",
       "      <td>354</td>\n",
       "      <td>N</td>\n",
       "      <td>E</td>\n",
       "      <td>200</td>\n",
       "      <td>11</td>\n",
       "      <td>3</td>\n",
       "      <td>500.0</td>\n",
       "      <td>N</td>\n",
       "    </tr>\n",
       "    <tr>\n",
       "      <th>4</th>\n",
       "      <td>321</td>\n",
       "      <td>87</td>\n",
       "      <td>10</td>\n",
       "      <td>39</td>\n",
       "      <td>42</td>\n",
       "      <td>30</td>\n",
       "      <td>2</td>\n",
       "      <td>396</td>\n",
       "      <td>101</td>\n",
       "      <td>12</td>\n",
       "      <td>48</td>\n",
       "      <td>46</td>\n",
       "      <td>33</td>\n",
       "      <td>N</td>\n",
       "      <td>E</td>\n",
       "      <td>805</td>\n",
       "      <td>40</td>\n",
       "      <td>4</td>\n",
       "      <td>91.5</td>\n",
       "      <td>N</td>\n",
       "    </tr>\n",
       "    <tr>\n",
       "      <th>5</th>\n",
       "      <td>594</td>\n",
       "      <td>169</td>\n",
       "      <td>4</td>\n",
       "      <td>74</td>\n",
       "      <td>51</td>\n",
       "      <td>35</td>\n",
       "      <td>11</td>\n",
       "      <td>4408</td>\n",
       "      <td>1133</td>\n",
       "      <td>19</td>\n",
       "      <td>501</td>\n",
       "      <td>336</td>\n",
       "      <td>194</td>\n",
       "      <td>A</td>\n",
       "      <td>W</td>\n",
       "      <td>282</td>\n",
       "      <td>421</td>\n",
       "      <td>25</td>\n",
       "      <td>750.0</td>\n",
       "      <td>A</td>\n",
       "    </tr>\n",
       "  </tbody>\n",
       "</table>\n",
       "</div>"
      ],
      "text/plain": [
       "   AtBat  Hits  HmRun  Runs  RBI  Walks  Years  CAtBat  CHits  CHmRun  CRuns  \\\n",
       "1    315    81      7    24   38     39     14    3449    835      69    321   \n",
       "2    479   130     18    66   72     76      3    1624    457      63    224   \n",
       "3    496   141     20    65   78     37     11    5628   1575     225    828   \n",
       "4    321    87     10    39   42     30      2     396    101      12     48   \n",
       "5    594   169      4    74   51     35     11    4408   1133      19    501   \n",
       "\n",
       "   CRBI  CWalks League Division  PutOuts  Assists  Errors  Salary NewLeague  \n",
       "1   414     375      N        W      632       43      10   475.0         N  \n",
       "2   266     263      A        W      880       82      14   480.0         A  \n",
       "3   838     354      N        E      200       11       3   500.0         N  \n",
       "4    46      33      N        E      805       40       4    91.5         N  \n",
       "5   336     194      A        W      282      421      25   750.0         A  "
      ]
     },
     "execution_count": 66,
     "metadata": {},
     "output_type": "execute_result"
    }
   ],
   "source": [
    "#dataset beyzbol ile ilgili biz maaş değişkenine odaklanıyoruz\n",
    "df=pd.read_csv(\"data/Hitters.csv\")\n",
    "df=df.dropna()\n",
    "#aşağıdaki satırda kategorik değişkenler dummiye çevrildi one-hot encoding\n",
    "dms=pd.get_dummies(df[[\"League\",\"Division\",\"NewLeague\"]])\n",
    "y=df[\"Salary\"]\n",
    "#kategorik değikenleri ve bağımlı değişkeni bağımsız değişkelrin içinden çıkartıyoruz\n",
    "X_=df.drop([\"Salary\",\"League\",\"Division\",\"NewLeague\"],axis=1).astype(\"float64\")\n",
    "X=pd.concat([X_,dms[[\"League_N\",\"Division_W\",\"NewLeague_N\"]]],axis=1)\n",
    "X_train,X_test,y_train,y_test=train_test_split(X,y,test_size=0.25,\n",
    "                                              random_state=42)\n",
    "print(\"df shape:\",df.shape)\n",
    "df.head()"
   ]
  },
  {
   "cell_type": "code",
   "execution_count": 67,
   "metadata": {},
   "outputs": [],
   "source": [
    "#!pip install lightgbm\n",
    "from lightgbm import LGBMRegressor"
   ]
  },
  {
   "cell_type": "code",
   "execution_count": 68,
   "metadata": {},
   "outputs": [
    {
     "data": {
      "text/plain": [
       "LGBMRegressor(boosting_type='gbdt', class_weight=None, colsample_bytree=1.0,\n",
       "              importance_type='split', learning_rate=0.1, max_depth=-1,\n",
       "              min_child_samples=20, min_child_weight=0.001, min_split_gain=0.0,\n",
       "              n_estimators=100, n_jobs=-1, num_leaves=31, objective=None,\n",
       "              random_state=None, reg_alpha=0.0, reg_lambda=0.0, silent=True,\n",
       "              subsample=1.0, subsample_for_bin=200000, subsample_freq=0)"
      ]
     },
     "execution_count": 68,
     "metadata": {},
     "output_type": "execute_result"
    }
   ],
   "source": [
    "lgbm_model=LGBMRegressor().fit(X_train,y_train)\n",
    "lgbm_model"
   ]
  },
  {
   "cell_type": "code",
   "execution_count": 69,
   "metadata": {},
   "outputs": [],
   "source": [
    "#tahmin\n",
    "y_pred=lgbm_model.predict(X_test)"
   ]
  },
  {
   "cell_type": "code",
   "execution_count": 70,
   "metadata": {},
   "outputs": [
    {
     "name": "stdout",
     "output_type": "stream",
     "text": [
      "RMSE: 363.8712087611089\n"
     ]
    }
   ],
   "source": [
    "#hata\n",
    "RMSE=np.sqrt(mean_squared_error(y_test,y_pred))\n",
    "print(\"RMSE:\",RMSE)"
   ]
  },
  {
   "cell_type": "markdown",
   "metadata": {},
   "source": [
    "<h3>Model Tuning</h3>"
   ]
  },
  {
   "cell_type": "code",
   "execution_count": 71,
   "metadata": {},
   "outputs": [
    {
     "name": "stdout",
     "output_type": "stream",
     "text": [
      "Fitting 10 folds for each of 432 candidates, totalling 4320 fits\n"
     ]
    },
    {
     "name": "stderr",
     "output_type": "stream",
     "text": [
      "[Parallel(n_jobs=-1)]: Using backend LokyBackend with 4 concurrent workers.\n",
      "[Parallel(n_jobs=-1)]: Done  33 tasks      | elapsed:   30.9s\n",
      "[Parallel(n_jobs=-1)]: Done 1044 tasks      | elapsed:   46.4s\n",
      "[Parallel(n_jobs=-1)]: Done 3074 tasks      | elapsed:  1.3min\n",
      "[Parallel(n_jobs=-1)]: Done 4320 out of 4320 | elapsed:  1.7min finished\n"
     ]
    }
   ],
   "source": [
    "lgbm_model=LGBMRegressor()\n",
    "lgbm_params={\"learning_rate\":[0.1,0.01,0.5,1],\n",
    "             \"max_depth\":[1,2,3,4,5,6,7,8,9],\n",
    "             \"n_estimators\":[20,40,100,1000],\n",
    "             \"colsample_bytree\":[0.4,0.7,1]}\n",
    "lgbm_cv_model=GridSearchCV(lgbm_model,lgbm_params,cv=10,n_jobs=-1,verbose=2).fit(X_train,y_train)"
   ]
  },
  {
   "cell_type": "code",
   "execution_count": 72,
   "metadata": {},
   "outputs": [
    {
     "data": {
      "text/plain": [
       "{'colsample_bytree': 0.4,\n",
       " 'learning_rate': 0.1,\n",
       " 'max_depth': 5,\n",
       " 'n_estimators': 40}"
      ]
     },
     "execution_count": 72,
     "metadata": {},
     "output_type": "execute_result"
    }
   ],
   "source": [
    "lgbm_cv_model.best_params_"
   ]
  },
  {
   "cell_type": "code",
   "execution_count": 74,
   "metadata": {},
   "outputs": [],
   "source": [
    "lgbm_tuned=LGBMRegressor(learning_rate=0.1,max_depth=5,n_estimators=40,\n",
    "                         colsample_bytree=0.4).fit(X_train,y_train)"
   ]
  },
  {
   "cell_type": "code",
   "execution_count": 75,
   "metadata": {},
   "outputs": [],
   "source": [
    "#tahmin\n",
    "y_pred=lgbm_tuned.predict(X_test)"
   ]
  },
  {
   "cell_type": "code",
   "execution_count": 76,
   "metadata": {},
   "outputs": [
    {
     "name": "stdout",
     "output_type": "stream",
     "text": [
      "RMSE: 377.8415676535648\n"
     ]
    }
   ],
   "source": [
    "#hata\n",
    "RMSE=np.sqrt(mean_squared_error(y_test,y_pred))\n",
    "print(\"RMSE:\",RMSE)"
   ]
  },
  {
   "cell_type": "markdown",
   "metadata": {},
   "source": [
    "<h2>9-CatBoost(Cateegory Boosting)</h2>\n",
    "\n",
    "kategorik değişkenler ile otomatik olarak mücadele edebilen hızlı, başarılı bir diğer GBM türevi. \n",
    "\n",
    "- Kategorik değişken desteği\n",
    "- Hızlı ve ölçeklenebilir GPU desteği\n",
    "- daha başarılı tahminler\n",
    "- Hızlı train ve hızlı tahmin\n",
    "- Rusyanın ilk açık kaynak kodlu, başarılı ML çalışması."
   ]
  },
  {
   "cell_type": "markdown",
   "metadata": {},
   "source": [
    "<h3>Model & Tahmin</h3>"
   ]
  },
  {
   "cell_type": "code",
   "execution_count": 78,
   "metadata": {},
   "outputs": [
    {
     "name": "stdout",
     "output_type": "stream",
     "text": [
      "df shape: (263, 20)\n"
     ]
    },
    {
     "data": {
      "text/html": [
       "<div>\n",
       "<style scoped>\n",
       "    .dataframe tbody tr th:only-of-type {\n",
       "        vertical-align: middle;\n",
       "    }\n",
       "\n",
       "    .dataframe tbody tr th {\n",
       "        vertical-align: top;\n",
       "    }\n",
       "\n",
       "    .dataframe thead th {\n",
       "        text-align: right;\n",
       "    }\n",
       "</style>\n",
       "<table border=\"1\" class=\"dataframe\">\n",
       "  <thead>\n",
       "    <tr style=\"text-align: right;\">\n",
       "      <th></th>\n",
       "      <th>AtBat</th>\n",
       "      <th>Hits</th>\n",
       "      <th>HmRun</th>\n",
       "      <th>Runs</th>\n",
       "      <th>RBI</th>\n",
       "      <th>Walks</th>\n",
       "      <th>Years</th>\n",
       "      <th>CAtBat</th>\n",
       "      <th>CHits</th>\n",
       "      <th>CHmRun</th>\n",
       "      <th>CRuns</th>\n",
       "      <th>CRBI</th>\n",
       "      <th>CWalks</th>\n",
       "      <th>League</th>\n",
       "      <th>Division</th>\n",
       "      <th>PutOuts</th>\n",
       "      <th>Assists</th>\n",
       "      <th>Errors</th>\n",
       "      <th>Salary</th>\n",
       "      <th>NewLeague</th>\n",
       "    </tr>\n",
       "  </thead>\n",
       "  <tbody>\n",
       "    <tr>\n",
       "      <th>1</th>\n",
       "      <td>315</td>\n",
       "      <td>81</td>\n",
       "      <td>7</td>\n",
       "      <td>24</td>\n",
       "      <td>38</td>\n",
       "      <td>39</td>\n",
       "      <td>14</td>\n",
       "      <td>3449</td>\n",
       "      <td>835</td>\n",
       "      <td>69</td>\n",
       "      <td>321</td>\n",
       "      <td>414</td>\n",
       "      <td>375</td>\n",
       "      <td>N</td>\n",
       "      <td>W</td>\n",
       "      <td>632</td>\n",
       "      <td>43</td>\n",
       "      <td>10</td>\n",
       "      <td>475.0</td>\n",
       "      <td>N</td>\n",
       "    </tr>\n",
       "    <tr>\n",
       "      <th>2</th>\n",
       "      <td>479</td>\n",
       "      <td>130</td>\n",
       "      <td>18</td>\n",
       "      <td>66</td>\n",
       "      <td>72</td>\n",
       "      <td>76</td>\n",
       "      <td>3</td>\n",
       "      <td>1624</td>\n",
       "      <td>457</td>\n",
       "      <td>63</td>\n",
       "      <td>224</td>\n",
       "      <td>266</td>\n",
       "      <td>263</td>\n",
       "      <td>A</td>\n",
       "      <td>W</td>\n",
       "      <td>880</td>\n",
       "      <td>82</td>\n",
       "      <td>14</td>\n",
       "      <td>480.0</td>\n",
       "      <td>A</td>\n",
       "    </tr>\n",
       "    <tr>\n",
       "      <th>3</th>\n",
       "      <td>496</td>\n",
       "      <td>141</td>\n",
       "      <td>20</td>\n",
       "      <td>65</td>\n",
       "      <td>78</td>\n",
       "      <td>37</td>\n",
       "      <td>11</td>\n",
       "      <td>5628</td>\n",
       "      <td>1575</td>\n",
       "      <td>225</td>\n",
       "      <td>828</td>\n",
       "      <td>838</td>\n",
       "      <td>354</td>\n",
       "      <td>N</td>\n",
       "      <td>E</td>\n",
       "      <td>200</td>\n",
       "      <td>11</td>\n",
       "      <td>3</td>\n",
       "      <td>500.0</td>\n",
       "      <td>N</td>\n",
       "    </tr>\n",
       "    <tr>\n",
       "      <th>4</th>\n",
       "      <td>321</td>\n",
       "      <td>87</td>\n",
       "      <td>10</td>\n",
       "      <td>39</td>\n",
       "      <td>42</td>\n",
       "      <td>30</td>\n",
       "      <td>2</td>\n",
       "      <td>396</td>\n",
       "      <td>101</td>\n",
       "      <td>12</td>\n",
       "      <td>48</td>\n",
       "      <td>46</td>\n",
       "      <td>33</td>\n",
       "      <td>N</td>\n",
       "      <td>E</td>\n",
       "      <td>805</td>\n",
       "      <td>40</td>\n",
       "      <td>4</td>\n",
       "      <td>91.5</td>\n",
       "      <td>N</td>\n",
       "    </tr>\n",
       "    <tr>\n",
       "      <th>5</th>\n",
       "      <td>594</td>\n",
       "      <td>169</td>\n",
       "      <td>4</td>\n",
       "      <td>74</td>\n",
       "      <td>51</td>\n",
       "      <td>35</td>\n",
       "      <td>11</td>\n",
       "      <td>4408</td>\n",
       "      <td>1133</td>\n",
       "      <td>19</td>\n",
       "      <td>501</td>\n",
       "      <td>336</td>\n",
       "      <td>194</td>\n",
       "      <td>A</td>\n",
       "      <td>W</td>\n",
       "      <td>282</td>\n",
       "      <td>421</td>\n",
       "      <td>25</td>\n",
       "      <td>750.0</td>\n",
       "      <td>A</td>\n",
       "    </tr>\n",
       "  </tbody>\n",
       "</table>\n",
       "</div>"
      ],
      "text/plain": [
       "   AtBat  Hits  HmRun  Runs  RBI  Walks  Years  CAtBat  CHits  CHmRun  CRuns  \\\n",
       "1    315    81      7    24   38     39     14    3449    835      69    321   \n",
       "2    479   130     18    66   72     76      3    1624    457      63    224   \n",
       "3    496   141     20    65   78     37     11    5628   1575     225    828   \n",
       "4    321    87     10    39   42     30      2     396    101      12     48   \n",
       "5    594   169      4    74   51     35     11    4408   1133      19    501   \n",
       "\n",
       "   CRBI  CWalks League Division  PutOuts  Assists  Errors  Salary NewLeague  \n",
       "1   414     375      N        W      632       43      10   475.0         N  \n",
       "2   266     263      A        W      880       82      14   480.0         A  \n",
       "3   838     354      N        E      200       11       3   500.0         N  \n",
       "4    46      33      N        E      805       40       4    91.5         N  \n",
       "5   336     194      A        W      282      421      25   750.0         A  "
      ]
     },
     "execution_count": 78,
     "metadata": {},
     "output_type": "execute_result"
    }
   ],
   "source": [
    "#dataset beyzbol ile ilgili biz maaş değişkenine odaklanıyoruz\n",
    "df=pd.read_csv(\"data/Hitters.csv\")\n",
    "df=df.dropna()\n",
    "#aşağıdaki satırda kategorik değişkenler dummiye çevrildi one-hot encoding\n",
    "dms=pd.get_dummies(df[[\"League\",\"Division\",\"NewLeague\"]])\n",
    "y=df[\"Salary\"]\n",
    "#kategorik değikenleri ve bağımlı değişkeni bağımsız değişkelrin içinden çıkartıyoruz\n",
    "X_=df.drop([\"Salary\",\"League\",\"Division\",\"NewLeague\"],axis=1).astype(\"float64\")\n",
    "X=pd.concat([X_,dms[[\"League_N\",\"Division_W\",\"NewLeague_N\"]]],axis=1)\n",
    "X_train,X_test,y_train,y_test=train_test_split(X,y,test_size=0.25,\n",
    "                                              random_state=42)\n",
    "print(\"df shape:\",df.shape)\n",
    "df.head()"
   ]
  },
  {
   "cell_type": "code",
   "execution_count": 79,
   "metadata": {},
   "outputs": [],
   "source": [
    "#!pip install catboost\n",
    "from catboost import CatBoostRegressor"
   ]
  },
  {
   "cell_type": "code",
   "execution_count": 80,
   "metadata": {
    "collapsed": true
   },
   "outputs": [
    {
     "name": "stdout",
     "output_type": "stream",
     "text": [
      "Learning rate set to 0.029229\n",
      "0:\tlearn: 438.1942308\ttotal: 54.7ms\tremaining: 54.7s\n",
      "1:\tlearn: 432.4080489\ttotal: 56.6ms\tremaining: 28.2s\n",
      "2:\tlearn: 426.4284454\ttotal: 58.9ms\tremaining: 19.6s\n",
      "3:\tlearn: 420.2654774\ttotal: 60.9ms\tremaining: 15.2s\n",
      "4:\tlearn: 414.0515276\ttotal: 63.3ms\tremaining: 12.6s\n",
      "5:\tlearn: 409.2442808\ttotal: 65.2ms\tremaining: 10.8s\n",
      "6:\tlearn: 403.3717310\ttotal: 67ms\tremaining: 9.5s\n",
      "7:\tlearn: 397.8646959\ttotal: 68.6ms\tremaining: 8.51s\n",
      "8:\tlearn: 392.2419888\ttotal: 70.2ms\tremaining: 7.73s\n",
      "9:\tlearn: 387.2019582\ttotal: 71.8ms\tremaining: 7.11s\n",
      "10:\tlearn: 381.9852190\ttotal: 73.7ms\tremaining: 6.62s\n",
      "11:\tlearn: 377.3994777\ttotal: 75.9ms\tremaining: 6.25s\n",
      "12:\tlearn: 372.5056201\ttotal: 78.5ms\tremaining: 5.96s\n",
      "13:\tlearn: 368.4425005\ttotal: 80.2ms\tremaining: 5.65s\n",
      "14:\tlearn: 364.0366203\ttotal: 81.7ms\tremaining: 5.36s\n",
      "15:\tlearn: 359.7061133\ttotal: 83.7ms\tremaining: 5.15s\n",
      "16:\tlearn: 355.3448847\ttotal: 85.2ms\tremaining: 4.93s\n",
      "17:\tlearn: 350.4851173\ttotal: 86.8ms\tremaining: 4.73s\n",
      "18:\tlearn: 346.6233505\ttotal: 88.9ms\tremaining: 4.59s\n",
      "19:\tlearn: 342.1344476\ttotal: 90.3ms\tremaining: 4.43s\n",
      "20:\tlearn: 338.2627624\ttotal: 92.1ms\tremaining: 4.29s\n",
      "21:\tlearn: 334.3950245\ttotal: 93.7ms\tremaining: 4.16s\n",
      "22:\tlearn: 330.8080204\ttotal: 95.2ms\tremaining: 4.04s\n",
      "23:\tlearn: 327.1123701\ttotal: 96.7ms\tremaining: 3.93s\n",
      "24:\tlearn: 323.7816748\ttotal: 98.2ms\tremaining: 3.83s\n",
      "25:\tlearn: 320.7153564\ttotal: 99.9ms\tremaining: 3.74s\n",
      "26:\tlearn: 317.7234558\ttotal: 102ms\tremaining: 3.69s\n",
      "27:\tlearn: 314.6407050\ttotal: 104ms\tremaining: 3.62s\n",
      "28:\tlearn: 311.4522701\ttotal: 106ms\tremaining: 3.54s\n",
      "29:\tlearn: 308.7468621\ttotal: 107ms\tremaining: 3.46s\n",
      "30:\tlearn: 306.2868542\ttotal: 109ms\tremaining: 3.4s\n",
      "31:\tlearn: 303.4996994\ttotal: 111ms\tremaining: 3.34s\n",
      "32:\tlearn: 300.7527933\ttotal: 113ms\tremaining: 3.3s\n",
      "33:\tlearn: 298.0782082\ttotal: 114ms\tremaining: 3.24s\n",
      "34:\tlearn: 295.2545007\ttotal: 116ms\tremaining: 3.21s\n",
      "35:\tlearn: 292.4187859\ttotal: 118ms\tremaining: 3.16s\n",
      "36:\tlearn: 289.8894026\ttotal: 120ms\tremaining: 3.11s\n",
      "37:\tlearn: 287.3774425\ttotal: 122ms\tremaining: 3.08s\n",
      "38:\tlearn: 284.6942580\ttotal: 124ms\tremaining: 3.05s\n",
      "39:\tlearn: 281.9682739\ttotal: 126ms\tremaining: 3.03s\n",
      "40:\tlearn: 279.9057967\ttotal: 128ms\tremaining: 3s\n",
      "41:\tlearn: 277.7238606\ttotal: 130ms\tremaining: 2.98s\n",
      "42:\tlearn: 275.3517281\ttotal: 134ms\tremaining: 2.98s\n",
      "43:\tlearn: 272.9009994\ttotal: 136ms\tremaining: 2.95s\n",
      "44:\tlearn: 270.4893345\ttotal: 138ms\tremaining: 2.93s\n",
      "45:\tlearn: 267.7570740\ttotal: 140ms\tremaining: 2.91s\n",
      "46:\tlearn: 265.4375000\ttotal: 143ms\tremaining: 2.89s\n",
      "47:\tlearn: 263.5908475\ttotal: 145ms\tremaining: 2.87s\n",
      "48:\tlearn: 261.4435301\ttotal: 148ms\tremaining: 2.88s\n",
      "49:\tlearn: 259.5232697\ttotal: 151ms\tremaining: 2.87s\n",
      "50:\tlearn: 257.7353406\ttotal: 153ms\tremaining: 2.84s\n",
      "51:\tlearn: 256.0595841\ttotal: 155ms\tremaining: 2.83s\n",
      "52:\tlearn: 253.8915852\ttotal: 157ms\tremaining: 2.81s\n",
      "53:\tlearn: 252.2593177\ttotal: 160ms\tremaining: 2.79s\n",
      "54:\tlearn: 250.4770454\ttotal: 161ms\tremaining: 2.77s\n",
      "55:\tlearn: 248.4294096\ttotal: 163ms\tremaining: 2.75s\n",
      "56:\tlearn: 246.9046459\ttotal: 166ms\tremaining: 2.74s\n",
      "57:\tlearn: 245.1386595\ttotal: 168ms\tremaining: 2.72s\n",
      "58:\tlearn: 243.3558557\ttotal: 171ms\tremaining: 2.72s\n",
      "59:\tlearn: 241.9449472\ttotal: 173ms\tremaining: 2.7s\n",
      "60:\tlearn: 240.3861591\ttotal: 174ms\tremaining: 2.68s\n",
      "61:\tlearn: 238.6681953\ttotal: 176ms\tremaining: 2.66s\n",
      "62:\tlearn: 237.0466366\ttotal: 179ms\tremaining: 2.66s\n",
      "63:\tlearn: 235.1273749\ttotal: 181ms\tremaining: 2.65s\n",
      "64:\tlearn: 233.5126847\ttotal: 186ms\tremaining: 2.68s\n",
      "65:\tlearn: 232.0441286\ttotal: 189ms\tremaining: 2.67s\n",
      "66:\tlearn: 230.5890445\ttotal: 191ms\tremaining: 2.65s\n",
      "67:\tlearn: 229.3086992\ttotal: 192ms\tremaining: 2.64s\n",
      "68:\tlearn: 227.7139219\ttotal: 194ms\tremaining: 2.62s\n",
      "69:\tlearn: 226.2246080\ttotal: 196ms\tremaining: 2.61s\n",
      "70:\tlearn: 224.7548085\ttotal: 199ms\tremaining: 2.61s\n",
      "71:\tlearn: 223.2303404\ttotal: 201ms\tremaining: 2.6s\n",
      "72:\tlearn: 222.0798359\ttotal: 203ms\tremaining: 2.58s\n",
      "73:\tlearn: 220.7812739\ttotal: 205ms\tremaining: 2.56s\n",
      "74:\tlearn: 219.5111493\ttotal: 206ms\tremaining: 2.54s\n",
      "75:\tlearn: 217.9146962\ttotal: 208ms\tremaining: 2.52s\n",
      "76:\tlearn: 216.6759806\ttotal: 209ms\tremaining: 2.5s\n",
      "77:\tlearn: 215.6988370\ttotal: 212ms\tremaining: 2.5s\n",
      "78:\tlearn: 214.6176439\ttotal: 214ms\tremaining: 2.5s\n",
      "79:\tlearn: 213.6841031\ttotal: 216ms\tremaining: 2.48s\n",
      "80:\tlearn: 212.4519329\ttotal: 217ms\tremaining: 2.46s\n",
      "81:\tlearn: 211.4266740\ttotal: 218ms\tremaining: 2.44s\n",
      "82:\tlearn: 210.2793104\ttotal: 220ms\tremaining: 2.43s\n",
      "83:\tlearn: 208.8816603\ttotal: 221ms\tremaining: 2.41s\n",
      "84:\tlearn: 207.6439963\ttotal: 223ms\tremaining: 2.4s\n",
      "85:\tlearn: 206.3649985\ttotal: 224ms\tremaining: 2.38s\n",
      "86:\tlearn: 205.4376621\ttotal: 226ms\tremaining: 2.37s\n",
      "87:\tlearn: 204.3419900\ttotal: 227ms\tremaining: 2.36s\n",
      "88:\tlearn: 203.2833581\ttotal: 229ms\tremaining: 2.34s\n",
      "89:\tlearn: 202.1924127\ttotal: 230ms\tremaining: 2.33s\n",
      "90:\tlearn: 201.0363288\ttotal: 232ms\tremaining: 2.31s\n",
      "91:\tlearn: 200.2503033\ttotal: 233ms\tremaining: 2.3s\n",
      "92:\tlearn: 199.1347018\ttotal: 234ms\tremaining: 2.29s\n",
      "93:\tlearn: 198.3885741\ttotal: 236ms\tremaining: 2.27s\n",
      "94:\tlearn: 197.3526038\ttotal: 237ms\tremaining: 2.26s\n",
      "95:\tlearn: 196.2149043\ttotal: 239ms\tremaining: 2.25s\n",
      "96:\tlearn: 195.3027186\ttotal: 242ms\tremaining: 2.25s\n",
      "97:\tlearn: 194.1563193\ttotal: 243ms\tremaining: 2.24s\n",
      "98:\tlearn: 193.4048987\ttotal: 245ms\tremaining: 2.23s\n",
      "99:\tlearn: 192.2819211\ttotal: 246ms\tremaining: 2.21s\n",
      "100:\tlearn: 191.3295243\ttotal: 247ms\tremaining: 2.2s\n",
      "101:\tlearn: 190.1957194\ttotal: 249ms\tremaining: 2.19s\n",
      "102:\tlearn: 189.2596130\ttotal: 250ms\tremaining: 2.18s\n",
      "103:\tlearn: 188.4241559\ttotal: 252ms\tremaining: 2.17s\n",
      "104:\tlearn: 187.6974801\ttotal: 254ms\tremaining: 2.16s\n",
      "105:\tlearn: 187.1471610\ttotal: 255ms\tremaining: 2.15s\n",
      "106:\tlearn: 185.9089892\ttotal: 257ms\tremaining: 2.14s\n",
      "107:\tlearn: 184.9419274\ttotal: 258ms\tremaining: 2.13s\n",
      "108:\tlearn: 183.9176194\ttotal: 260ms\tremaining: 2.12s\n",
      "109:\tlearn: 182.8134950\ttotal: 261ms\tremaining: 2.11s\n",
      "110:\tlearn: 181.9558725\ttotal: 262ms\tremaining: 2.1s\n",
      "111:\tlearn: 181.1607636\ttotal: 264ms\tremaining: 2.09s\n",
      "112:\tlearn: 180.1367849\ttotal: 267ms\tremaining: 2.09s\n",
      "113:\tlearn: 179.4743508\ttotal: 268ms\tremaining: 2.08s\n",
      "114:\tlearn: 178.9581035\ttotal: 269ms\tremaining: 2.07s\n",
      "115:\tlearn: 178.1651396\ttotal: 271ms\tremaining: 2.06s\n",
      "116:\tlearn: 177.9656598\ttotal: 272ms\tremaining: 2.05s\n",
      "117:\tlearn: 177.2315450\ttotal: 273ms\tremaining: 2.04s\n",
      "118:\tlearn: 176.5088570\ttotal: 275ms\tremaining: 2.03s\n",
      "119:\tlearn: 175.5975409\ttotal: 276ms\tremaining: 2.02s\n",
      "120:\tlearn: 174.6817130\ttotal: 277ms\tremaining: 2.01s\n",
      "121:\tlearn: 174.1049899\ttotal: 279ms\tremaining: 2.01s\n",
      "122:\tlearn: 173.2056726\ttotal: 281ms\tremaining: 2s\n",
      "123:\tlearn: 172.4911272\ttotal: 283ms\tremaining: 2s\n",
      "124:\tlearn: 171.9454825\ttotal: 284ms\tremaining: 1.99s\n",
      "125:\tlearn: 171.6911221\ttotal: 286ms\tremaining: 1.98s\n",
      "126:\tlearn: 170.5840325\ttotal: 288ms\tremaining: 1.98s\n",
      "127:\tlearn: 169.9344707\ttotal: 289ms\tremaining: 1.97s\n",
      "128:\tlearn: 169.1551411\ttotal: 291ms\tremaining: 1.96s\n",
      "129:\tlearn: 168.4064253\ttotal: 292ms\tremaining: 1.96s\n",
      "130:\tlearn: 167.7622014\ttotal: 294ms\tremaining: 1.95s\n",
      "131:\tlearn: 166.9649564\ttotal: 295ms\tremaining: 1.94s\n",
      "132:\tlearn: 166.3621628\ttotal: 298ms\tremaining: 1.94s\n",
      "133:\tlearn: 166.0534588\ttotal: 300ms\tremaining: 1.94s\n",
      "134:\tlearn: 165.1471506\ttotal: 301ms\tremaining: 1.93s\n",
      "135:\tlearn: 164.6068823\ttotal: 302ms\tremaining: 1.92s\n",
      "136:\tlearn: 163.7833371\ttotal: 304ms\tremaining: 1.91s\n",
      "137:\tlearn: 163.1139534\ttotal: 305ms\tremaining: 1.91s\n",
      "138:\tlearn: 162.5267953\ttotal: 307ms\tremaining: 1.9s\n",
      "139:\tlearn: 161.9371835\ttotal: 308ms\tremaining: 1.89s\n",
      "140:\tlearn: 161.8148031\ttotal: 310ms\tremaining: 1.89s\n",
      "141:\tlearn: 161.2359996\ttotal: 311ms\tremaining: 1.88s\n",
      "142:\tlearn: 160.7881019\ttotal: 313ms\tremaining: 1.88s\n",
      "143:\tlearn: 160.1419165\ttotal: 315ms\tremaining: 1.87s\n",
      "144:\tlearn: 159.7405382\ttotal: 316ms\tremaining: 1.86s\n",
      "145:\tlearn: 159.3056451\ttotal: 317ms\tremaining: 1.86s\n",
      "146:\tlearn: 158.6654724\ttotal: 319ms\tremaining: 1.85s\n",
      "147:\tlearn: 157.8199783\ttotal: 320ms\tremaining: 1.84s\n",
      "148:\tlearn: 157.0580529\ttotal: 322ms\tremaining: 1.84s\n",
      "149:\tlearn: 156.6282377\ttotal: 325ms\tremaining: 1.84s\n",
      "150:\tlearn: 155.9883761\ttotal: 326ms\tremaining: 1.83s\n",
      "151:\tlearn: 155.1439348\ttotal: 327ms\tremaining: 1.83s\n",
      "152:\tlearn: 154.7348094\ttotal: 329ms\tremaining: 1.82s\n",
      "153:\tlearn: 154.0424084\ttotal: 330ms\tremaining: 1.81s\n",
      "154:\tlearn: 153.5843318\ttotal: 332ms\tremaining: 1.81s\n",
      "155:\tlearn: 153.3026651\ttotal: 333ms\tremaining: 1.8s\n",
      "156:\tlearn: 152.7395100\ttotal: 335ms\tremaining: 1.8s\n",
      "157:\tlearn: 152.3273294\ttotal: 336ms\tremaining: 1.79s\n",
      "158:\tlearn: 151.7714052\ttotal: 337ms\tremaining: 1.78s\n",
      "159:\tlearn: 151.6356509\ttotal: 339ms\tremaining: 1.78s\n",
      "160:\tlearn: 151.1195078\ttotal: 340ms\tremaining: 1.77s\n",
      "161:\tlearn: 150.7263842\ttotal: 342ms\tremaining: 1.77s\n",
      "162:\tlearn: 150.1793007\ttotal: 343ms\tremaining: 1.76s\n",
      "163:\tlearn: 149.5926796\ttotal: 345ms\tremaining: 1.76s\n",
      "164:\tlearn: 148.9362021\ttotal: 346ms\tremaining: 1.75s\n",
      "165:\tlearn: 148.4662509\ttotal: 348ms\tremaining: 1.75s\n",
      "166:\tlearn: 148.3103732\ttotal: 350ms\tremaining: 1.75s\n",
      "167:\tlearn: 147.6560422\ttotal: 353ms\tremaining: 1.75s\n",
      "168:\tlearn: 147.4899855\ttotal: 375ms\tremaining: 1.84s\n",
      "169:\tlearn: 146.7799193\ttotal: 380ms\tremaining: 1.86s\n",
      "170:\tlearn: 146.4608130\ttotal: 387ms\tremaining: 1.87s\n",
      "171:\tlearn: 146.0713289\ttotal: 390ms\tremaining: 1.88s\n",
      "172:\tlearn: 145.5299759\ttotal: 395ms\tremaining: 1.89s\n",
      "173:\tlearn: 144.8604408\ttotal: 396ms\tremaining: 1.88s\n",
      "174:\tlearn: 144.5576514\ttotal: 399ms\tremaining: 1.88s\n",
      "175:\tlearn: 144.4777936\ttotal: 401ms\tremaining: 1.88s\n",
      "176:\tlearn: 143.9108993\ttotal: 402ms\tremaining: 1.87s\n",
      "177:\tlearn: 143.3332794\ttotal: 404ms\tremaining: 1.86s\n",
      "178:\tlearn: 142.8602995\ttotal: 405ms\tremaining: 1.86s\n",
      "179:\tlearn: 142.4089422\ttotal: 407ms\tremaining: 1.85s\n",
      "180:\tlearn: 141.9934529\ttotal: 408ms\tremaining: 1.85s\n",
      "181:\tlearn: 141.4684576\ttotal: 411ms\tremaining: 1.85s\n",
      "182:\tlearn: 141.0944607\ttotal: 413ms\tremaining: 1.84s\n",
      "183:\tlearn: 140.4581624\ttotal: 415ms\tremaining: 1.84s\n",
      "184:\tlearn: 139.7581755\ttotal: 416ms\tremaining: 1.83s\n",
      "185:\tlearn: 139.3929330\ttotal: 418ms\tremaining: 1.83s\n",
      "186:\tlearn: 138.8627234\ttotal: 420ms\tremaining: 1.82s\n",
      "187:\tlearn: 138.2149252\ttotal: 423ms\tremaining: 1.82s\n",
      "188:\tlearn: 137.5773345\ttotal: 424ms\tremaining: 1.82s\n",
      "189:\tlearn: 137.1338847\ttotal: 426ms\tremaining: 1.81s\n",
      "190:\tlearn: 136.9666344\ttotal: 427ms\tremaining: 1.81s\n",
      "191:\tlearn: 136.2975364\ttotal: 429ms\tremaining: 1.8s\n",
      "192:\tlearn: 135.5568882\ttotal: 430ms\tremaining: 1.8s\n",
      "193:\tlearn: 135.0750274\ttotal: 432ms\tremaining: 1.79s\n",
      "194:\tlearn: 134.7045493\ttotal: 434ms\tremaining: 1.79s\n",
      "195:\tlearn: 134.1930112\ttotal: 436ms\tremaining: 1.79s\n",
      "196:\tlearn: 133.7771650\ttotal: 439ms\tremaining: 1.79s\n",
      "197:\tlearn: 133.2004038\ttotal: 440ms\tremaining: 1.78s\n",
      "198:\tlearn: 132.9704007\ttotal: 442ms\tremaining: 1.78s\n",
      "199:\tlearn: 132.3820593\ttotal: 443ms\tremaining: 1.77s\n",
      "200:\tlearn: 131.6401420\ttotal: 445ms\tremaining: 1.77s\n",
      "201:\tlearn: 131.1065373\ttotal: 446ms\tremaining: 1.76s\n",
      "202:\tlearn: 130.7799528\ttotal: 448ms\tremaining: 1.76s\n",
      "203:\tlearn: 130.6515175\ttotal: 449ms\tremaining: 1.75s\n",
      "204:\tlearn: 130.3386787\ttotal: 451ms\tremaining: 1.75s\n",
      "205:\tlearn: 130.1942701\ttotal: 453ms\tremaining: 1.75s\n",
      "206:\tlearn: 129.7522703\ttotal: 455ms\tremaining: 1.74s\n",
      "207:\tlearn: 129.4821509\ttotal: 456ms\tremaining: 1.74s\n",
      "208:\tlearn: 129.2069254\ttotal: 458ms\tremaining: 1.73s\n"
     ]
    },
    {
     "name": "stdout",
     "output_type": "stream",
     "text": [
      "209:\tlearn: 129.0533884\ttotal: 462ms\tremaining: 1.74s\n",
      "210:\tlearn: 128.7143737\ttotal: 465ms\tremaining: 1.74s\n",
      "211:\tlearn: 128.5500857\ttotal: 467ms\tremaining: 1.74s\n",
      "212:\tlearn: 128.2733096\ttotal: 470ms\tremaining: 1.74s\n",
      "213:\tlearn: 127.9559819\ttotal: 473ms\tremaining: 1.74s\n",
      "214:\tlearn: 127.7264048\ttotal: 475ms\tremaining: 1.73s\n",
      "215:\tlearn: 127.5996897\ttotal: 479ms\tremaining: 1.74s\n",
      "216:\tlearn: 127.3057580\ttotal: 482ms\tremaining: 1.74s\n",
      "217:\tlearn: 126.5641450\ttotal: 484ms\tremaining: 1.74s\n",
      "218:\tlearn: 125.9921861\ttotal: 486ms\tremaining: 1.73s\n",
      "219:\tlearn: 125.6127626\ttotal: 487ms\tremaining: 1.73s\n",
      "220:\tlearn: 125.4263769\ttotal: 489ms\tremaining: 1.72s\n",
      "221:\tlearn: 124.9721719\ttotal: 492ms\tremaining: 1.72s\n",
      "222:\tlearn: 124.8147678\ttotal: 493ms\tremaining: 1.72s\n",
      "223:\tlearn: 124.5249507\ttotal: 495ms\tremaining: 1.71s\n",
      "224:\tlearn: 124.2605128\ttotal: 496ms\tremaining: 1.71s\n",
      "225:\tlearn: 123.9103045\ttotal: 497ms\tremaining: 1.7s\n",
      "226:\tlearn: 123.4621463\ttotal: 505ms\tremaining: 1.72s\n",
      "227:\tlearn: 123.0366486\ttotal: 506ms\tremaining: 1.71s\n",
      "228:\tlearn: 122.7651857\ttotal: 509ms\tremaining: 1.71s\n",
      "229:\tlearn: 122.2286867\ttotal: 511ms\tremaining: 1.71s\n",
      "230:\tlearn: 121.7784552\ttotal: 512ms\tremaining: 1.71s\n",
      "231:\tlearn: 121.4882497\ttotal: 514ms\tremaining: 1.7s\n",
      "232:\tlearn: 121.4018976\ttotal: 515ms\tremaining: 1.7s\n",
      "233:\tlearn: 121.2319567\ttotal: 516ms\tremaining: 1.69s\n",
      "234:\tlearn: 120.9870137\ttotal: 518ms\tremaining: 1.69s\n",
      "235:\tlearn: 120.7367177\ttotal: 521ms\tremaining: 1.69s\n",
      "236:\tlearn: 120.1687600\ttotal: 523ms\tremaining: 1.68s\n",
      "237:\tlearn: 119.7434521\ttotal: 524ms\tremaining: 1.68s\n",
      "238:\tlearn: 119.4091298\ttotal: 526ms\tremaining: 1.67s\n",
      "239:\tlearn: 118.9073875\ttotal: 527ms\tremaining: 1.67s\n",
      "240:\tlearn: 118.7610986\ttotal: 529ms\tremaining: 1.67s\n",
      "241:\tlearn: 118.4845033\ttotal: 530ms\tremaining: 1.66s\n",
      "242:\tlearn: 118.3691989\ttotal: 532ms\tremaining: 1.66s\n",
      "243:\tlearn: 117.9228043\ttotal: 534ms\tremaining: 1.65s\n",
      "244:\tlearn: 117.3897701\ttotal: 535ms\tremaining: 1.65s\n",
      "245:\tlearn: 117.1037077\ttotal: 537ms\tremaining: 1.64s\n",
      "246:\tlearn: 116.8314793\ttotal: 539ms\tremaining: 1.64s\n",
      "247:\tlearn: 116.2329253\ttotal: 540ms\tremaining: 1.64s\n",
      "248:\tlearn: 115.9208528\ttotal: 542ms\tremaining: 1.63s\n",
      "249:\tlearn: 115.6142824\ttotal: 543ms\tremaining: 1.63s\n",
      "250:\tlearn: 115.4663209\ttotal: 545ms\tremaining: 1.62s\n",
      "251:\tlearn: 115.0302639\ttotal: 546ms\tremaining: 1.62s\n",
      "252:\tlearn: 114.8513014\ttotal: 548ms\tremaining: 1.62s\n",
      "253:\tlearn: 114.6713315\ttotal: 550ms\tremaining: 1.61s\n",
      "254:\tlearn: 114.0146443\ttotal: 551ms\tremaining: 1.61s\n",
      "255:\tlearn: 113.9514020\ttotal: 553ms\tremaining: 1.61s\n",
      "256:\tlearn: 113.2599238\ttotal: 554ms\tremaining: 1.6s\n",
      "257:\tlearn: 113.1854917\ttotal: 556ms\tremaining: 1.6s\n",
      "258:\tlearn: 112.8571464\ttotal: 557ms\tremaining: 1.59s\n",
      "259:\tlearn: 112.6285246\ttotal: 558ms\tremaining: 1.59s\n",
      "260:\tlearn: 112.0541673\ttotal: 560ms\tremaining: 1.59s\n",
      "261:\tlearn: 111.4152461\ttotal: 562ms\tremaining: 1.58s\n",
      "262:\tlearn: 111.2133905\ttotal: 563ms\tremaining: 1.58s\n",
      "263:\tlearn: 110.7472202\ttotal: 564ms\tremaining: 1.57s\n",
      "264:\tlearn: 110.3489700\ttotal: 567ms\tremaining: 1.57s\n",
      "265:\tlearn: 109.6700042\ttotal: 569ms\tremaining: 1.57s\n",
      "266:\tlearn: 109.0923107\ttotal: 570ms\tremaining: 1.57s\n",
      "267:\tlearn: 108.5193305\ttotal: 572ms\tremaining: 1.56s\n",
      "268:\tlearn: 108.3316956\ttotal: 574ms\tremaining: 1.56s\n",
      "269:\tlearn: 108.0017033\ttotal: 578ms\tremaining: 1.56s\n",
      "270:\tlearn: 107.7754373\ttotal: 579ms\tremaining: 1.56s\n",
      "271:\tlearn: 107.6163030\ttotal: 581ms\tremaining: 1.55s\n",
      "272:\tlearn: 107.3545715\ttotal: 583ms\tremaining: 1.55s\n",
      "273:\tlearn: 107.1630655\ttotal: 585ms\tremaining: 1.55s\n",
      "274:\tlearn: 106.6559252\ttotal: 587ms\tremaining: 1.55s\n",
      "275:\tlearn: 106.5371814\ttotal: 589ms\tremaining: 1.54s\n",
      "276:\tlearn: 106.0236732\ttotal: 591ms\tremaining: 1.54s\n",
      "277:\tlearn: 105.6863651\ttotal: 593ms\tremaining: 1.54s\n",
      "278:\tlearn: 105.4231526\ttotal: 595ms\tremaining: 1.54s\n",
      "279:\tlearn: 105.1247247\ttotal: 596ms\tremaining: 1.53s\n",
      "280:\tlearn: 104.5916737\ttotal: 598ms\tremaining: 1.53s\n",
      "281:\tlearn: 104.3932797\ttotal: 599ms\tremaining: 1.52s\n",
      "282:\tlearn: 104.2261439\ttotal: 601ms\tremaining: 1.52s\n",
      "283:\tlearn: 103.7471896\ttotal: 603ms\tremaining: 1.52s\n",
      "284:\tlearn: 103.5338696\ttotal: 605ms\tremaining: 1.52s\n",
      "285:\tlearn: 103.0524274\ttotal: 606ms\tremaining: 1.51s\n",
      "286:\tlearn: 102.4670001\ttotal: 607ms\tremaining: 1.51s\n",
      "287:\tlearn: 102.2427452\ttotal: 609ms\tremaining: 1.5s\n",
      "288:\tlearn: 101.5491832\ttotal: 610ms\tremaining: 1.5s\n",
      "289:\tlearn: 101.2821578\ttotal: 612ms\tremaining: 1.5s\n",
      "290:\tlearn: 100.9875923\ttotal: 614ms\tremaining: 1.5s\n",
      "291:\tlearn: 100.7711184\ttotal: 616ms\tremaining: 1.49s\n",
      "292:\tlearn: 100.4938374\ttotal: 619ms\tremaining: 1.49s\n",
      "293:\tlearn: 100.2836666\ttotal: 620ms\tremaining: 1.49s\n",
      "294:\tlearn: 99.7746081\ttotal: 621ms\tremaining: 1.49s\n",
      "295:\tlearn: 99.5765578\ttotal: 623ms\tremaining: 1.48s\n",
      "296:\tlearn: 99.2422687\ttotal: 624ms\tremaining: 1.48s\n",
      "297:\tlearn: 98.8800006\ttotal: 626ms\tremaining: 1.48s\n",
      "298:\tlearn: 98.6338522\ttotal: 628ms\tremaining: 1.47s\n",
      "299:\tlearn: 98.1296052\ttotal: 629ms\tremaining: 1.47s\n",
      "300:\tlearn: 97.6852341\ttotal: 631ms\tremaining: 1.47s\n",
      "301:\tlearn: 97.1128011\ttotal: 633ms\tremaining: 1.46s\n",
      "302:\tlearn: 96.7135402\ttotal: 634ms\tremaining: 1.46s\n",
      "303:\tlearn: 96.4998970\ttotal: 636ms\tremaining: 1.46s\n",
      "304:\tlearn: 96.2617712\ttotal: 638ms\tremaining: 1.45s\n",
      "305:\tlearn: 95.7909246\ttotal: 640ms\tremaining: 1.45s\n",
      "306:\tlearn: 95.2987628\ttotal: 642ms\tremaining: 1.45s\n",
      "307:\tlearn: 94.8282095\ttotal: 644ms\tremaining: 1.45s\n",
      "308:\tlearn: 94.4184669\ttotal: 646ms\tremaining: 1.44s\n",
      "309:\tlearn: 94.0538116\ttotal: 647ms\tremaining: 1.44s\n",
      "310:\tlearn: 93.6659170\ttotal: 650ms\tremaining: 1.44s\n",
      "311:\tlearn: 92.9912266\ttotal: 651ms\tremaining: 1.44s\n",
      "312:\tlearn: 92.5858808\ttotal: 653ms\tremaining: 1.43s\n",
      "313:\tlearn: 92.2228039\ttotal: 654ms\tremaining: 1.43s\n",
      "314:\tlearn: 91.8494155\ttotal: 656ms\tremaining: 1.43s\n",
      "315:\tlearn: 91.7097256\ttotal: 659ms\tremaining: 1.43s\n",
      "316:\tlearn: 91.2406918\ttotal: 661ms\tremaining: 1.42s\n",
      "317:\tlearn: 91.0152353\ttotal: 663ms\tremaining: 1.42s\n",
      "318:\tlearn: 90.5725083\ttotal: 664ms\tremaining: 1.42s\n",
      "319:\tlearn: 90.3545317\ttotal: 665ms\tremaining: 1.41s\n",
      "320:\tlearn: 90.2433689\ttotal: 667ms\tremaining: 1.41s\n",
      "321:\tlearn: 90.1127541\ttotal: 668ms\tremaining: 1.41s\n",
      "322:\tlearn: 90.0352057\ttotal: 669ms\tremaining: 1.4s\n",
      "323:\tlearn: 89.6300086\ttotal: 672ms\tremaining: 1.4s\n",
      "324:\tlearn: 89.5519312\ttotal: 674ms\tremaining: 1.4s\n",
      "325:\tlearn: 89.4842621\ttotal: 675ms\tremaining: 1.4s\n",
      "326:\tlearn: 88.9984242\ttotal: 677ms\tremaining: 1.39s\n",
      "327:\tlearn: 88.9234409\ttotal: 678ms\tremaining: 1.39s\n",
      "328:\tlearn: 88.4645024\ttotal: 679ms\tremaining: 1.39s\n",
      "329:\tlearn: 88.1226364\ttotal: 681ms\tremaining: 1.38s\n",
      "330:\tlearn: 87.6645908\ttotal: 682ms\tremaining: 1.38s\n",
      "331:\tlearn: 87.3501656\ttotal: 684ms\tremaining: 1.38s\n",
      "332:\tlearn: 86.9121107\ttotal: 685ms\tremaining: 1.37s\n",
      "333:\tlearn: 86.5290207\ttotal: 688ms\tremaining: 1.37s\n",
      "334:\tlearn: 86.0785042\ttotal: 689ms\tremaining: 1.37s\n",
      "335:\tlearn: 85.7264815\ttotal: 690ms\tremaining: 1.36s\n",
      "336:\tlearn: 85.4266199\ttotal: 692ms\tremaining: 1.36s\n",
      "337:\tlearn: 85.0114579\ttotal: 693ms\tremaining: 1.36s\n",
      "338:\tlearn: 84.6806246\ttotal: 695ms\tremaining: 1.35s\n",
      "339:\tlearn: 84.1725773\ttotal: 696ms\tremaining: 1.35s\n",
      "340:\tlearn: 83.7553231\ttotal: 698ms\tremaining: 1.35s\n",
      "341:\tlearn: 83.7016114\ttotal: 699ms\tremaining: 1.34s\n",
      "342:\tlearn: 83.4523314\ttotal: 701ms\tremaining: 1.34s\n",
      "343:\tlearn: 83.2384444\ttotal: 703ms\tremaining: 1.34s\n",
      "344:\tlearn: 83.1502600\ttotal: 704ms\tremaining: 1.34s\n",
      "345:\tlearn: 82.7165680\ttotal: 706ms\tremaining: 1.33s\n",
      "346:\tlearn: 82.2221241\ttotal: 707ms\tremaining: 1.33s\n",
      "347:\tlearn: 82.1585573\ttotal: 709ms\tremaining: 1.33s\n",
      "348:\tlearn: 81.8497806\ttotal: 711ms\tremaining: 1.32s\n",
      "349:\tlearn: 81.5377158\ttotal: 712ms\tremaining: 1.32s\n",
      "350:\tlearn: 81.4557726\ttotal: 714ms\tremaining: 1.32s\n",
      "351:\tlearn: 81.3276734\ttotal: 715ms\tremaining: 1.32s\n",
      "352:\tlearn: 80.9959667\ttotal: 717ms\tremaining: 1.31s\n",
      "353:\tlearn: 80.9259884\ttotal: 718ms\tremaining: 1.31s\n",
      "354:\tlearn: 80.7690963\ttotal: 720ms\tremaining: 1.31s\n",
      "355:\tlearn: 80.4408103\ttotal: 721ms\tremaining: 1.3s\n",
      "356:\tlearn: 80.1408203\ttotal: 722ms\tremaining: 1.3s\n",
      "357:\tlearn: 79.8785395\ttotal: 724ms\tremaining: 1.3s\n",
      "358:\tlearn: 79.6911169\ttotal: 725ms\tremaining: 1.29s\n",
      "359:\tlearn: 79.3124876\ttotal: 727ms\tremaining: 1.29s\n",
      "360:\tlearn: 79.1975675\ttotal: 729ms\tremaining: 1.29s\n",
      "361:\tlearn: 78.9079005\ttotal: 730ms\tremaining: 1.29s\n",
      "362:\tlearn: 78.4938074\ttotal: 732ms\tremaining: 1.28s\n",
      "363:\tlearn: 78.4364726\ttotal: 733ms\tremaining: 1.28s\n",
      "364:\tlearn: 78.0700978\ttotal: 735ms\tremaining: 1.28s\n",
      "365:\tlearn: 77.8025331\ttotal: 737ms\tremaining: 1.27s\n",
      "366:\tlearn: 77.7476914\ttotal: 738ms\tremaining: 1.27s\n",
      "367:\tlearn: 77.3767576\ttotal: 741ms\tremaining: 1.27s\n",
      "368:\tlearn: 77.3043424\ttotal: 743ms\tremaining: 1.27s\n",
      "369:\tlearn: 76.9966783\ttotal: 745ms\tremaining: 1.27s\n",
      "370:\tlearn: 76.9421044\ttotal: 747ms\tremaining: 1.27s\n",
      "371:\tlearn: 76.6969739\ttotal: 749ms\tremaining: 1.26s\n",
      "372:\tlearn: 76.6338372\ttotal: 751ms\tremaining: 1.26s\n",
      "373:\tlearn: 76.4959695\ttotal: 753ms\tremaining: 1.26s\n",
      "374:\tlearn: 76.0734805\ttotal: 755ms\tremaining: 1.26s\n",
      "375:\tlearn: 75.7772766\ttotal: 757ms\tremaining: 1.26s\n",
      "376:\tlearn: 75.4855231\ttotal: 759ms\tremaining: 1.25s\n",
      "377:\tlearn: 75.0299438\ttotal: 761ms\tremaining: 1.25s\n",
      "378:\tlearn: 74.7163159\ttotal: 762ms\tremaining: 1.25s\n",
      "379:\tlearn: 74.3868861\ttotal: 764ms\tremaining: 1.25s\n",
      "380:\tlearn: 74.1377526\ttotal: 765ms\tremaining: 1.24s\n",
      "381:\tlearn: 74.0831910\ttotal: 768ms\tremaining: 1.24s\n"
     ]
    },
    {
     "name": "stdout",
     "output_type": "stream",
     "text": [
      "382:\tlearn: 73.9700290\ttotal: 770ms\tremaining: 1.24s\n",
      "383:\tlearn: 73.6314278\ttotal: 772ms\tremaining: 1.24s\n",
      "384:\tlearn: 73.3291771\ttotal: 773ms\tremaining: 1.24s\n",
      "385:\tlearn: 72.9524617\ttotal: 775ms\tremaining: 1.23s\n",
      "386:\tlearn: 72.5672790\ttotal: 776ms\tremaining: 1.23s\n",
      "387:\tlearn: 72.2522037\ttotal: 778ms\tremaining: 1.23s\n",
      "388:\tlearn: 72.0012292\ttotal: 779ms\tremaining: 1.22s\n",
      "389:\tlearn: 71.7497011\ttotal: 781ms\tremaining: 1.22s\n",
      "390:\tlearn: 71.6630904\ttotal: 783ms\tremaining: 1.22s\n",
      "391:\tlearn: 71.2610327\ttotal: 785ms\tremaining: 1.22s\n",
      "392:\tlearn: 70.9938329\ttotal: 788ms\tremaining: 1.22s\n",
      "393:\tlearn: 70.6786024\ttotal: 790ms\tremaining: 1.21s\n",
      "394:\tlearn: 70.5749681\ttotal: 792ms\tremaining: 1.21s\n",
      "395:\tlearn: 70.5149770\ttotal: 794ms\tremaining: 1.21s\n",
      "396:\tlearn: 70.2154877\ttotal: 798ms\tremaining: 1.21s\n",
      "397:\tlearn: 69.9626015\ttotal: 800ms\tremaining: 1.21s\n",
      "398:\tlearn: 69.6899507\ttotal: 802ms\tremaining: 1.21s\n",
      "399:\tlearn: 69.1838532\ttotal: 804ms\tremaining: 1.21s\n",
      "400:\tlearn: 68.9930198\ttotal: 806ms\tremaining: 1.2s\n",
      "401:\tlearn: 68.7123659\ttotal: 809ms\tremaining: 1.2s\n",
      "402:\tlearn: 68.4646124\ttotal: 812ms\tremaining: 1.2s\n",
      "403:\tlearn: 68.2370602\ttotal: 814ms\tremaining: 1.2s\n",
      "404:\tlearn: 68.1847475\ttotal: 816ms\tremaining: 1.2s\n",
      "405:\tlearn: 68.1310351\ttotal: 818ms\tremaining: 1.2s\n",
      "406:\tlearn: 68.0816040\ttotal: 821ms\tremaining: 1.2s\n",
      "407:\tlearn: 67.8669150\ttotal: 824ms\tremaining: 1.2s\n",
      "408:\tlearn: 67.6483987\ttotal: 828ms\tremaining: 1.2s\n",
      "409:\tlearn: 67.4238619\ttotal: 832ms\tremaining: 1.2s\n",
      "410:\tlearn: 67.1478957\ttotal: 834ms\tremaining: 1.2s\n",
      "411:\tlearn: 66.8991038\ttotal: 836ms\tremaining: 1.19s\n",
      "412:\tlearn: 66.5716302\ttotal: 839ms\tremaining: 1.19s\n",
      "413:\tlearn: 66.2196161\ttotal: 842ms\tremaining: 1.19s\n",
      "414:\tlearn: 65.9558994\ttotal: 844ms\tremaining: 1.19s\n",
      "415:\tlearn: 65.6117519\ttotal: 847ms\tremaining: 1.19s\n",
      "416:\tlearn: 65.3194296\ttotal: 850ms\tremaining: 1.19s\n",
      "417:\tlearn: 64.9609359\ttotal: 854ms\tremaining: 1.19s\n",
      "418:\tlearn: 64.8973507\ttotal: 856ms\tremaining: 1.19s\n",
      "419:\tlearn: 64.8149092\ttotal: 858ms\tremaining: 1.18s\n",
      "420:\tlearn: 64.7344736\ttotal: 861ms\tremaining: 1.18s\n",
      "421:\tlearn: 64.4500185\ttotal: 863ms\tremaining: 1.18s\n",
      "422:\tlearn: 64.3743922\ttotal: 865ms\tremaining: 1.18s\n",
      "423:\tlearn: 64.2060283\ttotal: 870ms\tremaining: 1.18s\n",
      "424:\tlearn: 63.8774957\ttotal: 872ms\tremaining: 1.18s\n",
      "425:\tlearn: 63.7378684\ttotal: 873ms\tremaining: 1.18s\n",
      "426:\tlearn: 63.4880117\ttotal: 875ms\tremaining: 1.17s\n",
      "427:\tlearn: 63.2837237\ttotal: 877ms\tremaining: 1.17s\n",
      "428:\tlearn: 63.2206194\ttotal: 879ms\tremaining: 1.17s\n",
      "429:\tlearn: 62.9670901\ttotal: 881ms\tremaining: 1.17s\n",
      "430:\tlearn: 62.9187648\ttotal: 883ms\tremaining: 1.17s\n",
      "431:\tlearn: 62.6312786\ttotal: 885ms\tremaining: 1.16s\n",
      "432:\tlearn: 62.5884533\ttotal: 887ms\tremaining: 1.16s\n",
      "433:\tlearn: 62.3610597\ttotal: 888ms\tremaining: 1.16s\n",
      "434:\tlearn: 62.0419808\ttotal: 890ms\tremaining: 1.16s\n",
      "435:\tlearn: 61.7319249\ttotal: 893ms\tremaining: 1.15s\n",
      "436:\tlearn: 61.3537279\ttotal: 894ms\tremaining: 1.15s\n",
      "437:\tlearn: 61.0970897\ttotal: 896ms\tremaining: 1.15s\n",
      "438:\tlearn: 60.9033759\ttotal: 898ms\tremaining: 1.15s\n",
      "439:\tlearn: 60.6775431\ttotal: 900ms\tremaining: 1.15s\n",
      "440:\tlearn: 60.4765298\ttotal: 902ms\tremaining: 1.14s\n",
      "441:\tlearn: 60.2110438\ttotal: 904ms\tremaining: 1.14s\n",
      "442:\tlearn: 59.9655916\ttotal: 906ms\tremaining: 1.14s\n",
      "443:\tlearn: 59.9207687\ttotal: 908ms\tremaining: 1.14s\n",
      "444:\tlearn: 59.8715513\ttotal: 911ms\tremaining: 1.14s\n",
      "445:\tlearn: 59.5204652\ttotal: 913ms\tremaining: 1.13s\n",
      "446:\tlearn: 59.4439499\ttotal: 915ms\tremaining: 1.13s\n",
      "447:\tlearn: 59.1777031\ttotal: 918ms\tremaining: 1.13s\n",
      "448:\tlearn: 59.1230024\ttotal: 920ms\tremaining: 1.13s\n",
      "449:\tlearn: 58.9477715\ttotal: 923ms\tremaining: 1.13s\n",
      "450:\tlearn: 58.6407763\ttotal: 924ms\tremaining: 1.12s\n",
      "451:\tlearn: 58.5231967\ttotal: 926ms\tremaining: 1.12s\n",
      "452:\tlearn: 58.1924326\ttotal: 927ms\tremaining: 1.12s\n",
      "453:\tlearn: 57.9427627\ttotal: 928ms\tremaining: 1.12s\n",
      "454:\tlearn: 57.7632386\ttotal: 931ms\tremaining: 1.11s\n",
      "455:\tlearn: 57.6387206\ttotal: 934ms\tremaining: 1.11s\n",
      "456:\tlearn: 57.4534798\ttotal: 936ms\tremaining: 1.11s\n",
      "457:\tlearn: 57.2336609\ttotal: 937ms\tremaining: 1.11s\n",
      "458:\tlearn: 57.0061365\ttotal: 938ms\tremaining: 1.11s\n",
      "459:\tlearn: 56.7064576\ttotal: 940ms\tremaining: 1.1s\n",
      "460:\tlearn: 56.6294905\ttotal: 941ms\tremaining: 1.1s\n",
      "461:\tlearn: 56.3766942\ttotal: 943ms\tremaining: 1.1s\n",
      "462:\tlearn: 56.1360615\ttotal: 945ms\tremaining: 1.1s\n",
      "463:\tlearn: 56.0653484\ttotal: 947ms\tremaining: 1.09s\n",
      "464:\tlearn: 55.7682822\ttotal: 949ms\tremaining: 1.09s\n",
      "465:\tlearn: 55.5532560\ttotal: 951ms\tremaining: 1.09s\n",
      "466:\tlearn: 55.3485460\ttotal: 952ms\tremaining: 1.09s\n",
      "467:\tlearn: 55.2089037\ttotal: 953ms\tremaining: 1.08s\n",
      "468:\tlearn: 55.1607586\ttotal: 955ms\tremaining: 1.08s\n",
      "469:\tlearn: 55.0597505\ttotal: 956ms\tremaining: 1.08s\n",
      "470:\tlearn: 54.7183737\ttotal: 959ms\tremaining: 1.08s\n",
      "471:\tlearn: 54.4691580\ttotal: 961ms\tremaining: 1.07s\n",
      "472:\tlearn: 54.2307358\ttotal: 962ms\tremaining: 1.07s\n",
      "473:\tlearn: 54.0674948\ttotal: 964ms\tremaining: 1.07s\n",
      "474:\tlearn: 54.0022829\ttotal: 966ms\tremaining: 1.07s\n",
      "475:\tlearn: 53.7729837\ttotal: 968ms\tremaining: 1.06s\n",
      "476:\tlearn: 53.5167486\ttotal: 969ms\tremaining: 1.06s\n",
      "477:\tlearn: 53.4774348\ttotal: 971ms\tremaining: 1.06s\n",
      "478:\tlearn: 53.2920440\ttotal: 973ms\tremaining: 1.06s\n",
      "479:\tlearn: 53.2619605\ttotal: 975ms\tremaining: 1.05s\n",
      "480:\tlearn: 53.0638798\ttotal: 976ms\tremaining: 1.05s\n",
      "481:\tlearn: 52.8529782\ttotal: 977ms\tremaining: 1.05s\n",
      "482:\tlearn: 52.5804659\ttotal: 979ms\tremaining: 1.05s\n",
      "483:\tlearn: 52.4355951\ttotal: 981ms\tremaining: 1.04s\n",
      "484:\tlearn: 52.3476825\ttotal: 982ms\tremaining: 1.04s\n",
      "485:\tlearn: 52.1511483\ttotal: 985ms\tremaining: 1.04s\n",
      "486:\tlearn: 51.8758500\ttotal: 988ms\tremaining: 1.04s\n",
      "487:\tlearn: 51.7069469\ttotal: 990ms\tremaining: 1.04s\n",
      "488:\tlearn: 51.6723111\ttotal: 991ms\tremaining: 1.03s\n",
      "489:\tlearn: 51.4372434\ttotal: 993ms\tremaining: 1.03s\n",
      "490:\tlearn: 51.2001373\ttotal: 994ms\tremaining: 1.03s\n",
      "491:\tlearn: 51.0201577\ttotal: 995ms\tremaining: 1.03s\n",
      "492:\tlearn: 50.9469878\ttotal: 997ms\tremaining: 1.02s\n",
      "493:\tlearn: 50.7124249\ttotal: 1000ms\tremaining: 1.02s\n",
      "494:\tlearn: 50.6675446\ttotal: 1s\tremaining: 1.02s\n",
      "495:\tlearn: 50.6229000\ttotal: 1s\tremaining: 1.02s\n",
      "496:\tlearn: 50.5149295\ttotal: 1s\tremaining: 1.02s\n",
      "497:\tlearn: 50.4046702\ttotal: 1s\tremaining: 1.01s\n",
      "498:\tlearn: 50.3665027\ttotal: 1.01s\tremaining: 1.01s\n",
      "499:\tlearn: 50.1918047\ttotal: 1.01s\tremaining: 1.01s\n",
      "500:\tlearn: 49.9718344\ttotal: 1.01s\tremaining: 1.01s\n",
      "501:\tlearn: 49.9312092\ttotal: 1.01s\tremaining: 1.01s\n",
      "502:\tlearn: 49.7341214\ttotal: 1.01s\tremaining: 1s\n",
      "503:\tlearn: 49.5309417\ttotal: 1.02s\tremaining: 1s\n",
      "504:\tlearn: 49.3541249\ttotal: 1.02s\tremaining: 999ms\n",
      "505:\tlearn: 49.1328888\ttotal: 1.02s\tremaining: 996ms\n",
      "506:\tlearn: 48.8932300\ttotal: 1.02s\tremaining: 994ms\n",
      "507:\tlearn: 48.8522221\ttotal: 1.02s\tremaining: 991ms\n",
      "508:\tlearn: 48.7010339\ttotal: 1.02s\tremaining: 988ms\n",
      "509:\tlearn: 48.6525125\ttotal: 1.03s\tremaining: 987ms\n",
      "510:\tlearn: 48.5951005\ttotal: 1.03s\tremaining: 984ms\n",
      "511:\tlearn: 48.5622910\ttotal: 1.03s\tremaining: 982ms\n",
      "512:\tlearn: 48.5110129\ttotal: 1.03s\tremaining: 979ms\n",
      "513:\tlearn: 48.4734498\ttotal: 1.03s\tremaining: 977ms\n",
      "514:\tlearn: 48.2664433\ttotal: 1.03s\tremaining: 974ms\n",
      "515:\tlearn: 48.0837826\ttotal: 1.03s\tremaining: 971ms\n",
      "516:\tlearn: 47.9014735\ttotal: 1.04s\tremaining: 969ms\n",
      "517:\tlearn: 47.7860868\ttotal: 1.04s\tremaining: 966ms\n",
      "518:\tlearn: 47.6128072\ttotal: 1.04s\tremaining: 965ms\n",
      "519:\tlearn: 47.5310115\ttotal: 1.04s\tremaining: 963ms\n",
      "520:\tlearn: 47.4018270\ttotal: 1.04s\tremaining: 960ms\n",
      "521:\tlearn: 47.2716802\ttotal: 1.05s\tremaining: 958ms\n",
      "522:\tlearn: 47.2368503\ttotal: 1.05s\tremaining: 956ms\n",
      "523:\tlearn: 47.1209128\ttotal: 1.05s\tremaining: 954ms\n",
      "524:\tlearn: 46.9355718\ttotal: 1.05s\tremaining: 952ms\n",
      "525:\tlearn: 46.8982731\ttotal: 1.05s\tremaining: 950ms\n",
      "526:\tlearn: 46.7247162\ttotal: 1.06s\tremaining: 949ms\n",
      "527:\tlearn: 46.6767888\ttotal: 1.06s\tremaining: 946ms\n",
      "528:\tlearn: 46.6205928\ttotal: 1.06s\tremaining: 944ms\n",
      "529:\tlearn: 46.5924375\ttotal: 1.06s\tremaining: 942ms\n",
      "530:\tlearn: 46.4916317\ttotal: 1.06s\tremaining: 940ms\n",
      "531:\tlearn: 46.2954377\ttotal: 1.07s\tremaining: 939ms\n",
      "532:\tlearn: 46.1854979\ttotal: 1.07s\tremaining: 937ms\n",
      "533:\tlearn: 46.1248379\ttotal: 1.07s\tremaining: 934ms\n",
      "534:\tlearn: 46.0776353\ttotal: 1.07s\tremaining: 933ms\n",
      "535:\tlearn: 46.0532262\ttotal: 1.07s\tremaining: 930ms\n",
      "536:\tlearn: 45.9244260\ttotal: 1.08s\tremaining: 929ms\n",
      "537:\tlearn: 45.7185760\ttotal: 1.08s\tremaining: 926ms\n",
      "538:\tlearn: 45.5651158\ttotal: 1.08s\tremaining: 924ms\n",
      "539:\tlearn: 45.4946409\ttotal: 1.08s\tremaining: 922ms\n",
      "540:\tlearn: 45.3355699\ttotal: 1.08s\tremaining: 920ms\n",
      "541:\tlearn: 45.1801195\ttotal: 1.08s\tremaining: 917ms\n",
      "542:\tlearn: 45.0243072\ttotal: 1.09s\tremaining: 915ms\n",
      "543:\tlearn: 44.8801984\ttotal: 1.09s\tremaining: 913ms\n",
      "544:\tlearn: 44.8522594\ttotal: 1.09s\tremaining: 910ms\n",
      "545:\tlearn: 44.7738592\ttotal: 1.09s\tremaining: 908ms\n",
      "546:\tlearn: 44.5554916\ttotal: 1.09s\tremaining: 906ms\n",
      "547:\tlearn: 44.3664793\ttotal: 1.09s\tremaining: 904ms\n",
      "548:\tlearn: 44.1611704\ttotal: 1.1s\tremaining: 902ms\n",
      "549:\tlearn: 44.1395554\ttotal: 1.1s\tremaining: 899ms\n",
      "550:\tlearn: 43.9898645\ttotal: 1.1s\tremaining: 897ms\n",
      "551:\tlearn: 43.8992054\ttotal: 1.1s\tremaining: 895ms\n",
      "552:\tlearn: 43.6996079\ttotal: 1.1s\tremaining: 893ms\n",
      "553:\tlearn: 43.5779612\ttotal: 1.11s\tremaining: 891ms\n",
      "554:\tlearn: 43.3236045\ttotal: 1.11s\tremaining: 888ms\n",
      "555:\tlearn: 43.1414930\ttotal: 1.11s\tremaining: 886ms\n",
      "556:\tlearn: 42.9403949\ttotal: 1.11s\tremaining: 884ms\n",
      "557:\tlearn: 42.8092521\ttotal: 1.11s\tremaining: 882ms\n",
      "558:\tlearn: 42.6378175\ttotal: 1.11s\tremaining: 880ms\n",
      "559:\tlearn: 42.5191490\ttotal: 1.12s\tremaining: 878ms\n",
      "560:\tlearn: 42.4804750\ttotal: 1.12s\tremaining: 877ms\n",
      "561:\tlearn: 42.3221341\ttotal: 1.13s\tremaining: 878ms\n",
      "562:\tlearn: 42.2151665\ttotal: 1.13s\tremaining: 876ms\n",
      "563:\tlearn: 42.1097273\ttotal: 1.13s\tremaining: 874ms\n",
      "564:\tlearn: 41.9675605\ttotal: 1.13s\tremaining: 872ms\n",
      "565:\tlearn: 41.7632851\ttotal: 1.13s\tremaining: 869ms\n",
      "566:\tlearn: 41.6338611\ttotal: 1.13s\tremaining: 867ms\n",
      "567:\tlearn: 41.4061258\ttotal: 1.14s\tremaining: 865ms\n",
      "568:\tlearn: 41.3763750\ttotal: 1.14s\tremaining: 863ms\n",
      "569:\tlearn: 41.2425573\ttotal: 1.14s\tremaining: 861ms\n",
      "570:\tlearn: 41.0307126\ttotal: 1.14s\tremaining: 859ms\n",
      "571:\tlearn: 40.8703506\ttotal: 1.14s\tremaining: 856ms\n",
      "572:\tlearn: 40.8103327\ttotal: 1.15s\tremaining: 854ms\n",
      "573:\tlearn: 40.6658509\ttotal: 1.15s\tremaining: 852ms\n",
      "574:\tlearn: 40.5821690\ttotal: 1.15s\tremaining: 853ms\n",
      "575:\tlearn: 40.4407205\ttotal: 1.16s\tremaining: 851ms\n",
      "576:\tlearn: 40.2966497\ttotal: 1.16s\tremaining: 849ms\n",
      "577:\tlearn: 40.1887763\ttotal: 1.16s\tremaining: 847ms\n",
      "578:\tlearn: 40.0740819\ttotal: 1.16s\tremaining: 844ms\n",
      "579:\tlearn: 40.0328191\ttotal: 1.16s\tremaining: 844ms\n",
      "580:\tlearn: 39.8802140\ttotal: 1.17s\tremaining: 842ms\n",
      "581:\tlearn: 39.7704237\ttotal: 1.17s\tremaining: 840ms\n",
      "582:\tlearn: 39.5957763\ttotal: 1.17s\tremaining: 838ms\n",
      "583:\tlearn: 39.5643433\ttotal: 1.17s\tremaining: 836ms\n",
      "584:\tlearn: 39.4397413\ttotal: 1.18s\tremaining: 834ms\n",
      "585:\tlearn: 39.3648724\ttotal: 1.18s\tremaining: 831ms\n",
      "586:\tlearn: 39.2277586\ttotal: 1.18s\tremaining: 830ms\n",
      "587:\tlearn: 39.2138279\ttotal: 1.18s\tremaining: 828ms\n",
      "588:\tlearn: 39.0805457\ttotal: 1.18s\tremaining: 826ms\n",
      "589:\tlearn: 38.9749095\ttotal: 1.19s\tremaining: 824ms\n",
      "590:\tlearn: 38.8668162\ttotal: 1.19s\tremaining: 822ms\n",
      "591:\tlearn: 38.7950176\ttotal: 1.19s\tremaining: 819ms\n",
      "592:\tlearn: 38.7039386\ttotal: 1.19s\tremaining: 817ms\n",
      "593:\tlearn: 38.5428719\ttotal: 1.19s\tremaining: 815ms\n",
      "594:\tlearn: 38.4228563\ttotal: 1.2s\tremaining: 814ms\n",
      "595:\tlearn: 38.3988004\ttotal: 1.2s\tremaining: 812ms\n",
      "596:\tlearn: 38.2276513\ttotal: 1.2s\tremaining: 811ms\n",
      "597:\tlearn: 38.1106211\ttotal: 1.2s\tremaining: 809ms\n",
      "598:\tlearn: 38.0654055\ttotal: 1.21s\tremaining: 807ms\n",
      "599:\tlearn: 37.9321420\ttotal: 1.21s\tremaining: 805ms\n",
      "600:\tlearn: 37.7754987\ttotal: 1.21s\tremaining: 803ms\n",
      "601:\tlearn: 37.7271754\ttotal: 1.21s\tremaining: 802ms\n",
      "602:\tlearn: 37.6318556\ttotal: 1.22s\tremaining: 800ms\n",
      "603:\tlearn: 37.6109431\ttotal: 1.22s\tremaining: 798ms\n"
     ]
    },
    {
     "name": "stdout",
     "output_type": "stream",
     "text": [
      "604:\tlearn: 37.4149434\ttotal: 1.22s\tremaining: 799ms\n",
      "605:\tlearn: 37.3484889\ttotal: 1.23s\tremaining: 797ms\n",
      "606:\tlearn: 37.2179409\ttotal: 1.23s\tremaining: 795ms\n",
      "607:\tlearn: 37.0690289\ttotal: 1.23s\tremaining: 793ms\n",
      "608:\tlearn: 36.9396275\ttotal: 1.23s\tremaining: 791ms\n",
      "609:\tlearn: 36.7431384\ttotal: 1.24s\tremaining: 790ms\n",
      "610:\tlearn: 36.5580140\ttotal: 1.24s\tremaining: 788ms\n",
      "611:\tlearn: 36.4754614\ttotal: 1.24s\tremaining: 786ms\n",
      "612:\tlearn: 36.3065094\ttotal: 1.24s\tremaining: 784ms\n",
      "613:\tlearn: 36.2253461\ttotal: 1.25s\tremaining: 783ms\n",
      "614:\tlearn: 36.1101090\ttotal: 1.25s\tremaining: 782ms\n",
      "615:\tlearn: 36.0192640\ttotal: 1.25s\tremaining: 780ms\n",
      "616:\tlearn: 35.9084903\ttotal: 1.25s\tremaining: 778ms\n",
      "617:\tlearn: 35.8170389\ttotal: 1.25s\tremaining: 776ms\n",
      "618:\tlearn: 35.7498493\ttotal: 1.26s\tremaining: 775ms\n",
      "619:\tlearn: 35.5878768\ttotal: 1.26s\tremaining: 775ms\n",
      "620:\tlearn: 35.5322541\ttotal: 1.27s\tremaining: 775ms\n",
      "621:\tlearn: 35.3134543\ttotal: 1.27s\tremaining: 773ms\n",
      "622:\tlearn: 35.1854892\ttotal: 1.28s\tremaining: 775ms\n",
      "623:\tlearn: 35.1256339\ttotal: 1.28s\tremaining: 773ms\n",
      "624:\tlearn: 34.9480935\ttotal: 1.28s\tremaining: 771ms\n",
      "625:\tlearn: 34.8037576\ttotal: 1.29s\tremaining: 768ms\n",
      "626:\tlearn: 34.7219180\ttotal: 1.29s\tremaining: 766ms\n",
      "627:\tlearn: 34.6057587\ttotal: 1.29s\tremaining: 765ms\n",
      "628:\tlearn: 34.5356366\ttotal: 1.29s\tremaining: 763ms\n",
      "629:\tlearn: 34.4947875\ttotal: 1.29s\tremaining: 760ms\n",
      "630:\tlearn: 34.3886708\ttotal: 1.3s\tremaining: 758ms\n",
      "631:\tlearn: 34.3724652\ttotal: 1.3s\tremaining: 756ms\n",
      "632:\tlearn: 34.1579202\ttotal: 1.3s\tremaining: 753ms\n",
      "633:\tlearn: 34.0038357\ttotal: 1.3s\tremaining: 751ms\n",
      "634:\tlearn: 33.9887120\ttotal: 1.3s\tremaining: 749ms\n",
      "635:\tlearn: 33.8602168\ttotal: 1.3s\tremaining: 747ms\n",
      "636:\tlearn: 33.8271080\ttotal: 1.31s\tremaining: 745ms\n",
      "637:\tlearn: 33.6561454\ttotal: 1.31s\tremaining: 744ms\n",
      "638:\tlearn: 33.5268702\ttotal: 1.31s\tremaining: 743ms\n",
      "639:\tlearn: 33.4911438\ttotal: 1.32s\tremaining: 742ms\n",
      "640:\tlearn: 33.3827435\ttotal: 1.32s\tremaining: 740ms\n",
      "641:\tlearn: 33.2921717\ttotal: 1.32s\tremaining: 738ms\n",
      "642:\tlearn: 33.2470004\ttotal: 1.32s\tremaining: 736ms\n",
      "643:\tlearn: 33.1392348\ttotal: 1.33s\tremaining: 734ms\n",
      "644:\tlearn: 33.0392581\ttotal: 1.33s\tremaining: 732ms\n",
      "645:\tlearn: 32.9588021\ttotal: 1.33s\tremaining: 730ms\n",
      "646:\tlearn: 32.9402348\ttotal: 1.33s\tremaining: 728ms\n",
      "647:\tlearn: 32.8021385\ttotal: 1.33s\tremaining: 725ms\n",
      "648:\tlearn: 32.7151965\ttotal: 1.34s\tremaining: 723ms\n",
      "649:\tlearn: 32.6942905\ttotal: 1.34s\tremaining: 721ms\n",
      "650:\tlearn: 32.5325985\ttotal: 1.34s\tremaining: 719ms\n",
      "651:\tlearn: 32.3859555\ttotal: 1.34s\tremaining: 717ms\n",
      "652:\tlearn: 32.3268072\ttotal: 1.34s\tremaining: 715ms\n",
      "653:\tlearn: 32.2411880\ttotal: 1.35s\tremaining: 713ms\n",
      "654:\tlearn: 32.1762502\ttotal: 1.35s\tremaining: 711ms\n",
      "655:\tlearn: 32.0742002\ttotal: 1.35s\tremaining: 709ms\n",
      "656:\tlearn: 31.9264749\ttotal: 1.35s\tremaining: 706ms\n",
      "657:\tlearn: 31.7389895\ttotal: 1.35s\tremaining: 704ms\n",
      "658:\tlearn: 31.6456530\ttotal: 1.36s\tremaining: 702ms\n",
      "659:\tlearn: 31.4611030\ttotal: 1.36s\tremaining: 700ms\n",
      "660:\tlearn: 31.2853581\ttotal: 1.36s\tremaining: 697ms\n",
      "661:\tlearn: 31.2601142\ttotal: 1.36s\tremaining: 695ms\n",
      "662:\tlearn: 31.1584362\ttotal: 1.36s\tremaining: 694ms\n",
      "663:\tlearn: 31.0199148\ttotal: 1.37s\tremaining: 691ms\n",
      "664:\tlearn: 30.9760084\ttotal: 1.37s\tremaining: 689ms\n",
      "665:\tlearn: 30.9399874\ttotal: 1.37s\tremaining: 687ms\n",
      "666:\tlearn: 30.8702074\ttotal: 1.37s\tremaining: 685ms\n",
      "667:\tlearn: 30.8487239\ttotal: 1.38s\tremaining: 684ms\n",
      "668:\tlearn: 30.7689597\ttotal: 1.38s\tremaining: 682ms\n",
      "669:\tlearn: 30.7117722\ttotal: 1.38s\tremaining: 681ms\n",
      "670:\tlearn: 30.6157520\ttotal: 1.39s\tremaining: 682ms\n",
      "671:\tlearn: 30.5151299\ttotal: 1.39s\tremaining: 679ms\n",
      "672:\tlearn: 30.3912291\ttotal: 1.39s\tremaining: 677ms\n",
      "673:\tlearn: 30.2711257\ttotal: 1.4s\tremaining: 675ms\n",
      "674:\tlearn: 30.1601987\ttotal: 1.4s\tremaining: 673ms\n",
      "675:\tlearn: 30.0671572\ttotal: 1.4s\tremaining: 671ms\n",
      "676:\tlearn: 29.9549054\ttotal: 1.4s\tremaining: 669ms\n",
      "677:\tlearn: 29.8915833\ttotal: 1.4s\tremaining: 666ms\n",
      "678:\tlearn: 29.8265621\ttotal: 1.4s\tremaining: 664ms\n",
      "679:\tlearn: 29.7166206\ttotal: 1.41s\tremaining: 662ms\n",
      "680:\tlearn: 29.6442002\ttotal: 1.41s\tremaining: 659ms\n",
      "681:\tlearn: 29.5596419\ttotal: 1.41s\tremaining: 657ms\n",
      "682:\tlearn: 29.4566928\ttotal: 1.41s\tremaining: 655ms\n",
      "683:\tlearn: 29.3976484\ttotal: 1.41s\tremaining: 653ms\n",
      "684:\tlearn: 29.3272331\ttotal: 1.42s\tremaining: 651ms\n",
      "685:\tlearn: 29.2991369\ttotal: 1.42s\tremaining: 649ms\n",
      "686:\tlearn: 29.2180074\ttotal: 1.42s\tremaining: 646ms\n",
      "687:\tlearn: 29.1704473\ttotal: 1.42s\tremaining: 644ms\n",
      "688:\tlearn: 29.1275939\ttotal: 1.42s\tremaining: 642ms\n",
      "689:\tlearn: 29.1087802\ttotal: 1.42s\tremaining: 639ms\n",
      "690:\tlearn: 28.9483782\ttotal: 1.42s\tremaining: 637ms\n",
      "691:\tlearn: 28.8730253\ttotal: 1.43s\tremaining: 635ms\n",
      "692:\tlearn: 28.7721309\ttotal: 1.43s\tremaining: 633ms\n",
      "693:\tlearn: 28.7584222\ttotal: 1.43s\tremaining: 631ms\n",
      "694:\tlearn: 28.6911947\ttotal: 1.43s\tremaining: 629ms\n",
      "695:\tlearn: 28.6780936\ttotal: 1.44s\tremaining: 627ms\n",
      "696:\tlearn: 28.5641150\ttotal: 1.44s\tremaining: 625ms\n",
      "697:\tlearn: 28.4523999\ttotal: 1.44s\tremaining: 623ms\n",
      "698:\tlearn: 28.3115213\ttotal: 1.44s\tremaining: 621ms\n",
      "699:\tlearn: 28.2068665\ttotal: 1.44s\tremaining: 619ms\n",
      "700:\tlearn: 28.1083601\ttotal: 1.45s\tremaining: 616ms\n",
      "701:\tlearn: 28.1015904\ttotal: 1.45s\tremaining: 614ms\n",
      "702:\tlearn: 28.0792740\ttotal: 1.45s\tremaining: 612ms\n",
      "703:\tlearn: 27.9921962\ttotal: 1.45s\tremaining: 610ms\n",
      "704:\tlearn: 27.9733968\ttotal: 1.45s\tremaining: 607ms\n",
      "705:\tlearn: 27.8508101\ttotal: 1.45s\tremaining: 605ms\n",
      "706:\tlearn: 27.7071859\ttotal: 1.45s\tremaining: 603ms\n",
      "707:\tlearn: 27.6164986\ttotal: 1.46s\tremaining: 601ms\n",
      "708:\tlearn: 27.5457686\ttotal: 1.46s\tremaining: 599ms\n",
      "709:\tlearn: 27.4589076\ttotal: 1.46s\tremaining: 597ms\n",
      "710:\tlearn: 27.3817723\ttotal: 1.46s\tremaining: 595ms\n",
      "711:\tlearn: 27.3068275\ttotal: 1.47s\tremaining: 593ms\n",
      "712:\tlearn: 27.2377514\ttotal: 1.47s\tremaining: 590ms\n",
      "713:\tlearn: 27.1686892\ttotal: 1.47s\tremaining: 588ms\n",
      "714:\tlearn: 27.1482351\ttotal: 1.47s\tremaining: 586ms\n",
      "715:\tlearn: 27.0496633\ttotal: 1.47s\tremaining: 584ms\n",
      "716:\tlearn: 26.9764242\ttotal: 1.48s\tremaining: 583ms\n",
      "717:\tlearn: 26.8582121\ttotal: 1.48s\tremaining: 580ms\n",
      "718:\tlearn: 26.7545163\ttotal: 1.48s\tremaining: 578ms\n",
      "719:\tlearn: 26.6359842\ttotal: 1.48s\tremaining: 576ms\n",
      "720:\tlearn: 26.5957027\ttotal: 1.48s\tremaining: 574ms\n",
      "721:\tlearn: 26.5498766\ttotal: 1.49s\tremaining: 572ms\n",
      "722:\tlearn: 26.4949841\ttotal: 1.49s\tremaining: 570ms\n",
      "723:\tlearn: 26.4784693\ttotal: 1.49s\tremaining: 568ms\n",
      "724:\tlearn: 26.4591117\ttotal: 1.49s\tremaining: 565ms\n",
      "725:\tlearn: 26.3664006\ttotal: 1.49s\tremaining: 563ms\n",
      "726:\tlearn: 26.3065031\ttotal: 1.49s\tremaining: 561ms\n",
      "727:\tlearn: 26.2296082\ttotal: 1.5s\tremaining: 559ms\n",
      "728:\tlearn: 26.1221658\ttotal: 1.5s\tremaining: 557ms\n",
      "729:\tlearn: 26.0431651\ttotal: 1.5s\tremaining: 555ms\n",
      "730:\tlearn: 25.9893734\ttotal: 1.5s\tremaining: 552ms\n",
      "731:\tlearn: 25.9145925\ttotal: 1.5s\tremaining: 550ms\n",
      "732:\tlearn: 25.8517185\ttotal: 1.5s\tremaining: 548ms\n",
      "733:\tlearn: 25.8382452\ttotal: 1.5s\tremaining: 545ms\n",
      "734:\tlearn: 25.7714099\ttotal: 1.51s\tremaining: 543ms\n",
      "735:\tlearn: 25.7009421\ttotal: 1.51s\tremaining: 541ms\n",
      "736:\tlearn: 25.6553557\ttotal: 1.51s\tremaining: 539ms\n",
      "737:\tlearn: 25.5487458\ttotal: 1.51s\tremaining: 537ms\n",
      "738:\tlearn: 25.4611242\ttotal: 1.51s\tremaining: 535ms\n",
      "739:\tlearn: 25.3854225\ttotal: 1.52s\tremaining: 533ms\n",
      "740:\tlearn: 25.3648368\ttotal: 1.52s\tremaining: 530ms\n",
      "741:\tlearn: 25.3302374\ttotal: 1.52s\tremaining: 528ms\n",
      "742:\tlearn: 25.3151975\ttotal: 1.52s\tremaining: 526ms\n",
      "743:\tlearn: 25.2549137\ttotal: 1.52s\tremaining: 525ms\n",
      "744:\tlearn: 25.1610625\ttotal: 1.53s\tremaining: 523ms\n",
      "745:\tlearn: 25.1270482\ttotal: 1.53s\tremaining: 521ms\n",
      "746:\tlearn: 25.0697827\ttotal: 1.53s\tremaining: 519ms\n",
      "747:\tlearn: 24.9691178\ttotal: 1.53s\tremaining: 517ms\n",
      "748:\tlearn: 24.9439821\ttotal: 1.54s\tremaining: 516ms\n",
      "749:\tlearn: 24.8588674\ttotal: 1.54s\tremaining: 514ms\n",
      "750:\tlearn: 24.7904403\ttotal: 1.54s\tremaining: 512ms\n",
      "751:\tlearn: 24.6954067\ttotal: 1.55s\tremaining: 510ms\n",
      "752:\tlearn: 24.5918684\ttotal: 1.55s\tremaining: 508ms\n",
      "753:\tlearn: 24.5522337\ttotal: 1.55s\tremaining: 507ms\n",
      "754:\tlearn: 24.5360641\ttotal: 1.55s\tremaining: 505ms\n",
      "755:\tlearn: 24.5248954\ttotal: 1.56s\tremaining: 503ms\n",
      "756:\tlearn: 24.4679806\ttotal: 1.56s\tremaining: 500ms\n",
      "757:\tlearn: 24.3306689\ttotal: 1.56s\tremaining: 498ms\n",
      "758:\tlearn: 24.2502983\ttotal: 1.56s\tremaining: 496ms\n",
      "759:\tlearn: 24.1773690\ttotal: 1.56s\tremaining: 494ms\n",
      "760:\tlearn: 24.0855481\ttotal: 1.57s\tremaining: 492ms\n",
      "761:\tlearn: 23.9990205\ttotal: 1.57s\tremaining: 490ms\n",
      "762:\tlearn: 23.9014999\ttotal: 1.57s\tremaining: 487ms\n",
      "763:\tlearn: 23.8220992\ttotal: 1.57s\tremaining: 485ms\n",
      "764:\tlearn: 23.7181869\ttotal: 1.57s\tremaining: 483ms\n",
      "765:\tlearn: 23.6313505\ttotal: 1.57s\tremaining: 481ms\n",
      "766:\tlearn: 23.5421500\ttotal: 1.57s\tremaining: 478ms\n",
      "767:\tlearn: 23.4516905\ttotal: 1.58s\tremaining: 476ms\n",
      "768:\tlearn: 23.3973800\ttotal: 1.58s\tremaining: 474ms\n",
      "769:\tlearn: 23.3549655\ttotal: 1.58s\tremaining: 472ms\n",
      "770:\tlearn: 23.3218364\ttotal: 1.58s\tremaining: 470ms\n",
      "771:\tlearn: 23.3012646\ttotal: 1.58s\tremaining: 467ms\n",
      "772:\tlearn: 23.2486712\ttotal: 1.58s\tremaining: 465ms\n",
      "773:\tlearn: 23.1687453\ttotal: 1.58s\tremaining: 463ms\n",
      "774:\tlearn: 23.0968130\ttotal: 1.59s\tremaining: 461ms\n",
      "775:\tlearn: 22.9878632\ttotal: 1.59s\tremaining: 459ms\n",
      "776:\tlearn: 22.9180026\ttotal: 1.59s\tremaining: 457ms\n",
      "777:\tlearn: 22.8542933\ttotal: 1.59s\tremaining: 455ms\n",
      "778:\tlearn: 22.7752921\ttotal: 1.6s\tremaining: 453ms\n",
      "779:\tlearn: 22.7227069\ttotal: 1.6s\tremaining: 451ms\n",
      "780:\tlearn: 22.6216832\ttotal: 1.6s\tremaining: 449ms\n",
      "781:\tlearn: 22.5419114\ttotal: 1.6s\tremaining: 446ms\n",
      "782:\tlearn: 22.4220328\ttotal: 1.6s\tremaining: 444ms\n",
      "783:\tlearn: 22.3884334\ttotal: 1.61s\tremaining: 442ms\n",
      "784:\tlearn: 22.3132496\ttotal: 1.61s\tremaining: 440ms\n",
      "785:\tlearn: 22.2989953\ttotal: 1.61s\tremaining: 438ms\n",
      "786:\tlearn: 22.2505207\ttotal: 1.61s\tremaining: 436ms\n",
      "787:\tlearn: 22.1847548\ttotal: 1.61s\tremaining: 434ms\n",
      "788:\tlearn: 22.1109078\ttotal: 1.61s\tremaining: 432ms\n",
      "789:\tlearn: 22.0147086\ttotal: 1.62s\tremaining: 430ms\n",
      "790:\tlearn: 21.9964174\ttotal: 1.62s\tremaining: 428ms\n",
      "791:\tlearn: 21.9818651\ttotal: 1.62s\tremaining: 426ms\n",
      "792:\tlearn: 21.8885309\ttotal: 1.62s\tremaining: 423ms\n",
      "793:\tlearn: 21.8782918\ttotal: 1.62s\tremaining: 421ms\n",
      "794:\tlearn: 21.7977571\ttotal: 1.62s\tremaining: 419ms\n",
      "795:\tlearn: 21.7209377\ttotal: 1.63s\tremaining: 417ms\n",
      "796:\tlearn: 21.6263796\ttotal: 1.63s\tremaining: 415ms\n",
      "797:\tlearn: 21.5740336\ttotal: 1.63s\tremaining: 412ms\n",
      "798:\tlearn: 21.5119040\ttotal: 1.63s\tremaining: 410ms\n",
      "799:\tlearn: 21.4710347\ttotal: 1.63s\tremaining: 408ms\n",
      "800:\tlearn: 21.4054162\ttotal: 1.63s\tremaining: 406ms\n",
      "801:\tlearn: 21.3655841\ttotal: 1.64s\tremaining: 404ms\n",
      "802:\tlearn: 21.3030198\ttotal: 1.64s\tremaining: 402ms\n",
      "803:\tlearn: 21.2526694\ttotal: 1.64s\tremaining: 400ms\n",
      "804:\tlearn: 21.1719909\ttotal: 1.64s\tremaining: 398ms\n",
      "805:\tlearn: 21.1109080\ttotal: 1.64s\tremaining: 395ms\n",
      "806:\tlearn: 21.0479397\ttotal: 1.64s\tremaining: 393ms\n",
      "807:\tlearn: 20.9862780\ttotal: 1.65s\tremaining: 391ms\n",
      "808:\tlearn: 20.9325682\ttotal: 1.65s\tremaining: 389ms\n",
      "809:\tlearn: 20.8487391\ttotal: 1.65s\tremaining: 387ms\n",
      "810:\tlearn: 20.7745301\ttotal: 1.65s\tremaining: 385ms\n",
      "811:\tlearn: 20.7174058\ttotal: 1.65s\tremaining: 382ms\n",
      "812:\tlearn: 20.6543162\ttotal: 1.65s\tremaining: 380ms\n",
      "813:\tlearn: 20.5743356\ttotal: 1.65s\tremaining: 378ms\n",
      "814:\tlearn: 20.5367311\ttotal: 1.66s\tremaining: 376ms\n",
      "815:\tlearn: 20.5272286\ttotal: 1.66s\tremaining: 374ms\n",
      "816:\tlearn: 20.4884687\ttotal: 1.66s\tremaining: 372ms\n",
      "817:\tlearn: 20.3910255\ttotal: 1.66s\tremaining: 369ms\n",
      "818:\tlearn: 20.3029396\ttotal: 1.66s\tremaining: 368ms\n",
      "819:\tlearn: 20.2660325\ttotal: 1.66s\tremaining: 365ms\n",
      "820:\tlearn: 20.2050493\ttotal: 1.67s\tremaining: 363ms\n",
      "821:\tlearn: 20.1894078\ttotal: 1.67s\tremaining: 361ms\n",
      "822:\tlearn: 20.0929012\ttotal: 1.67s\tremaining: 359ms\n",
      "823:\tlearn: 20.0300968\ttotal: 1.67s\tremaining: 357ms\n",
      "824:\tlearn: 19.9913660\ttotal: 1.67s\tremaining: 355ms\n",
      "825:\tlearn: 19.9396524\ttotal: 1.67s\tremaining: 353ms\n",
      "826:\tlearn: 19.8417056\ttotal: 1.68s\tremaining: 351ms\n",
      "827:\tlearn: 19.7897735\ttotal: 1.68s\tremaining: 349ms\n",
      "828:\tlearn: 19.7655615\ttotal: 1.68s\tremaining: 346ms\n",
      "829:\tlearn: 19.7139927\ttotal: 1.68s\tremaining: 344ms\n"
     ]
    },
    {
     "name": "stdout",
     "output_type": "stream",
     "text": [
      "830:\tlearn: 19.6675529\ttotal: 1.68s\tremaining: 342ms\n",
      "831:\tlearn: 19.6367651\ttotal: 1.69s\tremaining: 340ms\n",
      "832:\tlearn: 19.5735680\ttotal: 1.69s\tremaining: 338ms\n",
      "833:\tlearn: 19.5630985\ttotal: 1.69s\tremaining: 336ms\n",
      "834:\tlearn: 19.5147575\ttotal: 1.69s\tremaining: 334ms\n",
      "835:\tlearn: 19.4661740\ttotal: 1.69s\tremaining: 332ms\n",
      "836:\tlearn: 19.4083571\ttotal: 1.7s\tremaining: 330ms\n",
      "837:\tlearn: 19.3700491\ttotal: 1.7s\tremaining: 328ms\n",
      "838:\tlearn: 19.2819868\ttotal: 1.7s\tremaining: 326ms\n",
      "839:\tlearn: 19.2684684\ttotal: 1.7s\tremaining: 324ms\n",
      "840:\tlearn: 19.2494487\ttotal: 1.7s\tremaining: 322ms\n",
      "841:\tlearn: 19.1860879\ttotal: 1.71s\tremaining: 320ms\n",
      "842:\tlearn: 19.1541078\ttotal: 1.71s\tremaining: 318ms\n",
      "843:\tlearn: 19.0799617\ttotal: 1.71s\tremaining: 316ms\n",
      "844:\tlearn: 19.0403715\ttotal: 1.71s\tremaining: 314ms\n",
      "845:\tlearn: 18.9814671\ttotal: 1.71s\tremaining: 311ms\n",
      "846:\tlearn: 18.9055783\ttotal: 1.71s\tremaining: 309ms\n",
      "847:\tlearn: 18.8927984\ttotal: 1.72s\tremaining: 308ms\n",
      "848:\tlearn: 18.8393782\ttotal: 1.72s\tremaining: 306ms\n",
      "849:\tlearn: 18.7916494\ttotal: 1.72s\tremaining: 304ms\n",
      "850:\tlearn: 18.7272714\ttotal: 1.72s\tremaining: 301ms\n",
      "851:\tlearn: 18.6772004\ttotal: 1.72s\tremaining: 299ms\n",
      "852:\tlearn: 18.6001553\ttotal: 1.73s\tremaining: 297ms\n",
      "853:\tlearn: 18.5243650\ttotal: 1.73s\tremaining: 295ms\n",
      "854:\tlearn: 18.4662038\ttotal: 1.73s\tremaining: 293ms\n",
      "855:\tlearn: 18.4178219\ttotal: 1.73s\tremaining: 291ms\n",
      "856:\tlearn: 18.3799093\ttotal: 1.73s\tremaining: 289ms\n",
      "857:\tlearn: 18.3113866\ttotal: 1.73s\tremaining: 287ms\n",
      "858:\tlearn: 18.2408597\ttotal: 1.74s\tremaining: 285ms\n",
      "859:\tlearn: 18.1420574\ttotal: 1.74s\tremaining: 283ms\n",
      "860:\tlearn: 18.0789997\ttotal: 1.74s\tremaining: 281ms\n",
      "861:\tlearn: 18.0196199\ttotal: 1.74s\tremaining: 279ms\n",
      "862:\tlearn: 17.9478816\ttotal: 1.74s\tremaining: 277ms\n",
      "863:\tlearn: 17.8870947\ttotal: 1.75s\tremaining: 275ms\n",
      "864:\tlearn: 17.8436949\ttotal: 1.75s\tremaining: 273ms\n",
      "865:\tlearn: 17.7829957\ttotal: 1.75s\tremaining: 271ms\n",
      "866:\tlearn: 17.7206260\ttotal: 1.75s\tremaining: 269ms\n",
      "867:\tlearn: 17.6498721\ttotal: 1.75s\tremaining: 267ms\n",
      "868:\tlearn: 17.6377351\ttotal: 1.75s\tremaining: 265ms\n",
      "869:\tlearn: 17.5578411\ttotal: 1.76s\tremaining: 263ms\n",
      "870:\tlearn: 17.5144989\ttotal: 1.76s\tremaining: 261ms\n",
      "871:\tlearn: 17.4522588\ttotal: 1.76s\tremaining: 259ms\n",
      "872:\tlearn: 17.4131807\ttotal: 1.76s\tremaining: 257ms\n",
      "873:\tlearn: 17.4080338\ttotal: 1.76s\tremaining: 254ms\n",
      "874:\tlearn: 17.3762830\ttotal: 1.77s\tremaining: 252ms\n",
      "875:\tlearn: 17.3106798\ttotal: 1.77s\tremaining: 250ms\n",
      "876:\tlearn: 17.2499954\ttotal: 1.77s\tremaining: 248ms\n",
      "877:\tlearn: 17.2154853\ttotal: 1.77s\tremaining: 246ms\n",
      "878:\tlearn: 17.1879836\ttotal: 1.77s\tremaining: 244ms\n",
      "879:\tlearn: 17.1749990\ttotal: 1.77s\tremaining: 242ms\n",
      "880:\tlearn: 17.1072852\ttotal: 1.77s\tremaining: 240ms\n",
      "881:\tlearn: 17.0864083\ttotal: 1.78s\tremaining: 238ms\n",
      "882:\tlearn: 17.0769103\ttotal: 1.78s\tremaining: 236ms\n",
      "883:\tlearn: 17.0022530\ttotal: 1.78s\tremaining: 234ms\n",
      "884:\tlearn: 16.9553179\ttotal: 1.78s\tremaining: 231ms\n",
      "885:\tlearn: 16.8933231\ttotal: 1.78s\tremaining: 229ms\n",
      "886:\tlearn: 16.8392801\ttotal: 1.78s\tremaining: 227ms\n",
      "887:\tlearn: 16.7632027\ttotal: 1.78s\tremaining: 225ms\n",
      "888:\tlearn: 16.7494676\ttotal: 1.79s\tremaining: 223ms\n",
      "889:\tlearn: 16.6727564\ttotal: 1.79s\tremaining: 221ms\n",
      "890:\tlearn: 16.6100218\ttotal: 1.79s\tremaining: 219ms\n",
      "891:\tlearn: 16.5743516\ttotal: 1.79s\tremaining: 217ms\n",
      "892:\tlearn: 16.5096242\ttotal: 1.79s\tremaining: 215ms\n",
      "893:\tlearn: 16.4805408\ttotal: 1.79s\tremaining: 213ms\n",
      "894:\tlearn: 16.4514385\ttotal: 1.79s\tremaining: 211ms\n",
      "895:\tlearn: 16.3721305\ttotal: 1.8s\tremaining: 209ms\n",
      "896:\tlearn: 16.3131042\ttotal: 1.8s\tremaining: 207ms\n",
      "897:\tlearn: 16.2447245\ttotal: 1.8s\tremaining: 205ms\n",
      "898:\tlearn: 16.2346388\ttotal: 1.8s\tremaining: 203ms\n",
      "899:\tlearn: 16.1749566\ttotal: 1.8s\tremaining: 200ms\n",
      "900:\tlearn: 16.1312925\ttotal: 1.8s\tremaining: 198ms\n",
      "901:\tlearn: 16.0868404\ttotal: 1.81s\tremaining: 196ms\n",
      "902:\tlearn: 16.0593631\ttotal: 1.81s\tremaining: 194ms\n",
      "903:\tlearn: 16.0039809\ttotal: 1.81s\tremaining: 192ms\n",
      "904:\tlearn: 15.9462342\ttotal: 1.81s\tremaining: 190ms\n",
      "905:\tlearn: 15.8966562\ttotal: 1.81s\tremaining: 188ms\n",
      "906:\tlearn: 15.8861224\ttotal: 1.81s\tremaining: 186ms\n",
      "907:\tlearn: 15.8583685\ttotal: 1.82s\tremaining: 184ms\n",
      "908:\tlearn: 15.8164583\ttotal: 1.82s\tremaining: 182ms\n",
      "909:\tlearn: 15.7616840\ttotal: 1.82s\tremaining: 180ms\n",
      "910:\tlearn: 15.7222703\ttotal: 1.82s\tremaining: 178ms\n",
      "911:\tlearn: 15.6792346\ttotal: 1.82s\tremaining: 176ms\n",
      "912:\tlearn: 15.6271958\ttotal: 1.82s\tremaining: 174ms\n",
      "913:\tlearn: 15.5892939\ttotal: 1.82s\tremaining: 172ms\n",
      "914:\tlearn: 15.5143492\ttotal: 1.83s\tremaining: 170ms\n",
      "915:\tlearn: 15.5008404\ttotal: 1.83s\tremaining: 168ms\n",
      "916:\tlearn: 15.4417606\ttotal: 1.83s\tremaining: 166ms\n",
      "917:\tlearn: 15.4317464\ttotal: 1.83s\tremaining: 164ms\n",
      "918:\tlearn: 15.4223482\ttotal: 1.83s\tremaining: 162ms\n",
      "919:\tlearn: 15.3672223\ttotal: 1.83s\tremaining: 160ms\n",
      "920:\tlearn: 15.3087397\ttotal: 1.84s\tremaining: 157ms\n",
      "921:\tlearn: 15.2520036\ttotal: 1.84s\tremaining: 155ms\n",
      "922:\tlearn: 15.2246575\ttotal: 1.84s\tremaining: 153ms\n",
      "923:\tlearn: 15.1942115\ttotal: 1.85s\tremaining: 152ms\n",
      "924:\tlearn: 15.1639622\ttotal: 1.85s\tremaining: 150ms\n",
      "925:\tlearn: 15.1372381\ttotal: 1.85s\tremaining: 148ms\n",
      "926:\tlearn: 15.0883092\ttotal: 1.86s\tremaining: 146ms\n",
      "927:\tlearn: 15.0480397\ttotal: 1.86s\tremaining: 144ms\n",
      "928:\tlearn: 14.9682420\ttotal: 1.86s\tremaining: 142ms\n",
      "929:\tlearn: 14.9209911\ttotal: 1.86s\tremaining: 140ms\n",
      "930:\tlearn: 14.8606334\ttotal: 1.87s\tremaining: 138ms\n",
      "931:\tlearn: 14.8388405\ttotal: 1.87s\tremaining: 136ms\n",
      "932:\tlearn: 14.8305892\ttotal: 1.87s\tremaining: 134ms\n",
      "933:\tlearn: 14.7895797\ttotal: 1.87s\tremaining: 132ms\n",
      "934:\tlearn: 14.7736969\ttotal: 1.88s\tremaining: 130ms\n",
      "935:\tlearn: 14.7444754\ttotal: 1.88s\tremaining: 128ms\n",
      "936:\tlearn: 14.6909458\ttotal: 1.88s\tremaining: 126ms\n",
      "937:\tlearn: 14.6341037\ttotal: 1.88s\tremaining: 124ms\n",
      "938:\tlearn: 14.5955884\ttotal: 1.89s\tremaining: 123ms\n",
      "939:\tlearn: 14.5524059\ttotal: 1.89s\tremaining: 121ms\n",
      "940:\tlearn: 14.5192583\ttotal: 1.89s\tremaining: 119ms\n",
      "941:\tlearn: 14.4995158\ttotal: 1.89s\tremaining: 117ms\n",
      "942:\tlearn: 14.4335801\ttotal: 1.89s\tremaining: 115ms\n",
      "943:\tlearn: 14.3901194\ttotal: 1.9s\tremaining: 112ms\n",
      "944:\tlearn: 14.3474087\ttotal: 1.9s\tremaining: 110ms\n",
      "945:\tlearn: 14.3277554\ttotal: 1.9s\tremaining: 108ms\n",
      "946:\tlearn: 14.2965271\ttotal: 1.9s\tremaining: 106ms\n",
      "947:\tlearn: 14.2599247\ttotal: 1.9s\tremaining: 104ms\n",
      "948:\tlearn: 14.2102106\ttotal: 1.91s\tremaining: 102ms\n",
      "949:\tlearn: 14.1657204\ttotal: 1.91s\tremaining: 100ms\n",
      "950:\tlearn: 14.1092405\ttotal: 1.91s\tremaining: 98.4ms\n",
      "951:\tlearn: 14.0765150\ttotal: 1.91s\tremaining: 96.4ms\n",
      "952:\tlearn: 14.0318414\ttotal: 1.92s\tremaining: 94.5ms\n",
      "953:\tlearn: 13.9817945\ttotal: 1.92s\tremaining: 92.7ms\n",
      "954:\tlearn: 13.9648426\ttotal: 1.92s\tremaining: 90.7ms\n",
      "955:\tlearn: 13.9335862\ttotal: 1.93s\tremaining: 88.7ms\n",
      "956:\tlearn: 13.9059697\ttotal: 1.93s\tremaining: 86.7ms\n",
      "957:\tlearn: 13.8602660\ttotal: 1.93s\tremaining: 84.7ms\n",
      "958:\tlearn: 13.8190939\ttotal: 1.93s\tremaining: 82.7ms\n",
      "959:\tlearn: 13.7781791\ttotal: 1.93s\tremaining: 80.6ms\n",
      "960:\tlearn: 13.7521771\ttotal: 1.94s\tremaining: 78.6ms\n",
      "961:\tlearn: 13.7062145\ttotal: 1.94s\tremaining: 76.5ms\n",
      "962:\tlearn: 13.6729365\ttotal: 1.94s\tremaining: 74.5ms\n",
      "963:\tlearn: 13.6477353\ttotal: 1.94s\tremaining: 72.5ms\n",
      "964:\tlearn: 13.6001474\ttotal: 1.94s\tremaining: 70.5ms\n",
      "965:\tlearn: 13.5549454\ttotal: 1.94s\tremaining: 68.4ms\n",
      "966:\tlearn: 13.5465448\ttotal: 1.95s\tremaining: 66.4ms\n",
      "967:\tlearn: 13.5178137\ttotal: 1.95s\tremaining: 64.4ms\n",
      "968:\tlearn: 13.4422456\ttotal: 1.95s\tremaining: 62.4ms\n",
      "969:\tlearn: 13.4010411\ttotal: 1.95s\tremaining: 60.3ms\n",
      "970:\tlearn: 13.3739369\ttotal: 1.95s\tremaining: 58.3ms\n",
      "971:\tlearn: 13.3486691\ttotal: 1.96s\tremaining: 56.4ms\n",
      "972:\tlearn: 13.3092453\ttotal: 1.96s\tremaining: 54.4ms\n",
      "973:\tlearn: 13.2892103\ttotal: 1.96s\tremaining: 52.3ms\n",
      "974:\tlearn: 13.2648728\ttotal: 1.96s\tremaining: 50.3ms\n",
      "975:\tlearn: 13.2544639\ttotal: 1.96s\tremaining: 48.3ms\n",
      "976:\tlearn: 13.2055735\ttotal: 1.97s\tremaining: 46.3ms\n",
      "977:\tlearn: 13.1900458\ttotal: 1.97s\tremaining: 44.2ms\n",
      "978:\tlearn: 13.1410400\ttotal: 1.97s\tremaining: 42.3ms\n",
      "979:\tlearn: 13.1323120\ttotal: 1.97s\tremaining: 40.2ms\n",
      "980:\tlearn: 13.1046814\ttotal: 1.97s\tremaining: 38.2ms\n",
      "981:\tlearn: 13.0858124\ttotal: 1.97s\tremaining: 36.2ms\n",
      "982:\tlearn: 13.0805861\ttotal: 1.98s\tremaining: 34.2ms\n",
      "983:\tlearn: 13.0484945\ttotal: 1.98s\tremaining: 32.1ms\n",
      "984:\tlearn: 12.9887969\ttotal: 1.98s\tremaining: 30.1ms\n",
      "985:\tlearn: 12.9387194\ttotal: 1.98s\tremaining: 28.1ms\n",
      "986:\tlearn: 12.9061704\ttotal: 1.98s\tremaining: 26.1ms\n"
     ]
    },
    {
     "name": "stdout",
     "output_type": "stream",
     "text": [
      "987:\tlearn: 12.8919796\ttotal: 1.98s\tremaining: 24.1ms\n",
      "988:\tlearn: 12.8688224\ttotal: 1.99s\tremaining: 22.1ms\n",
      "989:\tlearn: 12.8387959\ttotal: 1.99s\tremaining: 20.1ms\n",
      "990:\tlearn: 12.8252272\ttotal: 1.99s\tremaining: 18.1ms\n",
      "991:\tlearn: 12.8137387\ttotal: 1.99s\tremaining: 16.1ms\n",
      "992:\tlearn: 12.7760157\ttotal: 1.99s\tremaining: 14ms\n",
      "993:\tlearn: 12.7401342\ttotal: 1.99s\tremaining: 12ms\n",
      "994:\tlearn: 12.7140879\ttotal: 2s\tremaining: 10ms\n",
      "995:\tlearn: 12.6844512\ttotal: 2s\tremaining: 8.03ms\n",
      "996:\tlearn: 12.6790868\ttotal: 2s\tremaining: 6.02ms\n",
      "997:\tlearn: 12.6471594\ttotal: 2s\tremaining: 4.01ms\n",
      "998:\tlearn: 12.6137983\ttotal: 2s\tremaining: 2.01ms\n",
      "999:\tlearn: 12.5732447\ttotal: 2.01s\tremaining: 0us\n"
     ]
    },
    {
     "data": {
      "text/plain": [
       "<catboost.core.CatBoostRegressor at 0x20258eee940>"
      ]
     },
     "execution_count": 80,
     "metadata": {},
     "output_type": "execute_result"
    }
   ],
   "source": [
    "cb_model=CatBoostRegressor().fit(X_train,y_train)\n",
    "cb_model"
   ]
  },
  {
   "cell_type": "code",
   "execution_count": 82,
   "metadata": {},
   "outputs": [],
   "source": [
    "#tahmin\n",
    "y_pred=cb_model.predict(X_test)"
   ]
  },
  {
   "cell_type": "code",
   "execution_count": 83,
   "metadata": {},
   "outputs": [
    {
     "name": "stdout",
     "output_type": "stream",
     "text": [
      "RMSE: 354.1424860950047\n"
     ]
    }
   ],
   "source": [
    "#hata\n",
    "RMSE=np.sqrt(mean_squared_error(y_test,y_pred))\n",
    "print(\"RMSE:\",RMSE)"
   ]
  },
  {
   "cell_type": "markdown",
   "metadata": {},
   "source": [
    "<h3> Model Tuning</h3>"
   ]
  },
  {
   "cell_type": "code",
   "execution_count": 84,
   "metadata": {
    "collapsed": true
   },
   "outputs": [
    {
     "name": "stdout",
     "output_type": "stream",
     "text": [
      "Fitting 5 folds for each of 18 candidates, totalling 90 fits\n"
     ]
    },
    {
     "name": "stderr",
     "output_type": "stream",
     "text": [
      "[Parallel(n_jobs=-1)]: Using backend LokyBackend with 4 concurrent workers.\n",
      "[Parallel(n_jobs=-1)]: Done  33 tasks      | elapsed:   27.4s\n",
      "[Parallel(n_jobs=-1)]: Done  90 out of  90 | elapsed:  1.5min finished\n"
     ]
    },
    {
     "name": "stdout",
     "output_type": "stream",
     "text": [
      "0:\tlearn: 427.1241905\ttotal: 3.32ms\tremaining: 661ms\n",
      "1:\tlearn: 406.8148140\ttotal: 5.03ms\tremaining: 498ms\n",
      "2:\tlearn: 389.8231648\ttotal: 7.1ms\tremaining: 466ms\n",
      "3:\tlearn: 374.3907690\ttotal: 8.61ms\tremaining: 422ms\n",
      "4:\tlearn: 360.3338267\ttotal: 9.42ms\tremaining: 367ms\n",
      "5:\tlearn: 347.2936452\ttotal: 10ms\tremaining: 324ms\n",
      "6:\tlearn: 336.6561889\ttotal: 10.6ms\tremaining: 293ms\n",
      "7:\tlearn: 324.7194248\ttotal: 11.2ms\tremaining: 268ms\n",
      "8:\tlearn: 314.8525666\ttotal: 11.8ms\tremaining: 250ms\n",
      "9:\tlearn: 308.6748928\ttotal: 12.4ms\tremaining: 235ms\n",
      "10:\tlearn: 299.9037104\ttotal: 13.2ms\tremaining: 227ms\n",
      "11:\tlearn: 295.7403622\ttotal: 14.9ms\tremaining: 234ms\n",
      "12:\tlearn: 289.5912467\ttotal: 15.5ms\tremaining: 223ms\n",
      "13:\tlearn: 283.0225629\ttotal: 16.1ms\tremaining: 214ms\n",
      "14:\tlearn: 277.0512990\ttotal: 17.3ms\tremaining: 214ms\n",
      "15:\tlearn: 271.1877335\ttotal: 18.1ms\tremaining: 208ms\n",
      "16:\tlearn: 267.5630863\ttotal: 18.9ms\tremaining: 204ms\n",
      "17:\tlearn: 263.0506688\ttotal: 19.9ms\tremaining: 202ms\n",
      "18:\tlearn: 258.4265758\ttotal: 20.7ms\tremaining: 197ms\n",
      "19:\tlearn: 254.4041199\ttotal: 21.9ms\tremaining: 197ms\n",
      "20:\tlearn: 249.6956170\ttotal: 22.6ms\tremaining: 192ms\n",
      "21:\tlearn: 246.4063593\ttotal: 23.2ms\tremaining: 187ms\n",
      "22:\tlearn: 241.6701385\ttotal: 24ms\tremaining: 185ms\n",
      "23:\tlearn: 239.6330830\ttotal: 24.9ms\tremaining: 182ms\n",
      "24:\tlearn: 236.8232689\ttotal: 25.8ms\tremaining: 181ms\n",
      "25:\tlearn: 233.9508812\ttotal: 26.7ms\tremaining: 179ms\n",
      "26:\tlearn: 230.7991460\ttotal: 27.6ms\tremaining: 177ms\n",
      "27:\tlearn: 227.5497730\ttotal: 28.3ms\tremaining: 174ms\n",
      "28:\tlearn: 225.4148751\ttotal: 29.7ms\tremaining: 175ms\n",
      "29:\tlearn: 223.5540348\ttotal: 30.3ms\tremaining: 172ms\n",
      "30:\tlearn: 222.1341764\ttotal: 30.8ms\tremaining: 168ms\n",
      "31:\tlearn: 220.7753423\ttotal: 31.5ms\tremaining: 165ms\n",
      "32:\tlearn: 219.4260157\ttotal: 32.2ms\tremaining: 163ms\n",
      "33:\tlearn: 218.1998059\ttotal: 32.9ms\tremaining: 160ms\n",
      "34:\tlearn: 215.8311701\ttotal: 33.9ms\tremaining: 160ms\n",
      "35:\tlearn: 212.6847431\ttotal: 34.6ms\tremaining: 158ms\n",
      "36:\tlearn: 212.1258716\ttotal: 36.1ms\tremaining: 159ms\n",
      "37:\tlearn: 210.1676228\ttotal: 37ms\tremaining: 158ms\n",
      "38:\tlearn: 207.7818415\ttotal: 37.8ms\tremaining: 156ms\n",
      "39:\tlearn: 206.3070697\ttotal: 38.6ms\tremaining: 155ms\n",
      "40:\tlearn: 204.0171131\ttotal: 39.4ms\tremaining: 153ms\n",
      "41:\tlearn: 202.7434408\ttotal: 40.1ms\tremaining: 151ms\n",
      "42:\tlearn: 202.1247151\ttotal: 41.3ms\tremaining: 151ms\n",
      "43:\tlearn: 201.4739454\ttotal: 43.5ms\tremaining: 154ms\n",
      "44:\tlearn: 199.4192377\ttotal: 45.7ms\tremaining: 158ms\n",
      "45:\tlearn: 198.3526558\ttotal: 47.1ms\tremaining: 158ms\n",
      "46:\tlearn: 197.4736353\ttotal: 48.5ms\tremaining: 158ms\n",
      "47:\tlearn: 196.9071754\ttotal: 49.7ms\tremaining: 157ms\n",
      "48:\tlearn: 194.1737618\ttotal: 51.8ms\tremaining: 160ms\n",
      "49:\tlearn: 193.0571246\ttotal: 53.1ms\tremaining: 159ms\n",
      "50:\tlearn: 192.5393711\ttotal: 54.3ms\tremaining: 159ms\n",
      "51:\tlearn: 191.3888982\ttotal: 55.9ms\tremaining: 159ms\n",
      "52:\tlearn: 189.9298696\ttotal: 59.2ms\tremaining: 164ms\n",
      "53:\tlearn: 188.0689166\ttotal: 59.9ms\tremaining: 162ms\n",
      "54:\tlearn: 187.7064038\ttotal: 60.5ms\tremaining: 160ms\n",
      "55:\tlearn: 187.2838590\ttotal: 61.2ms\tremaining: 157ms\n",
      "56:\tlearn: 186.8816456\ttotal: 61.8ms\tremaining: 155ms\n",
      "57:\tlearn: 185.3066043\ttotal: 62.6ms\tremaining: 153ms\n",
      "58:\tlearn: 183.9450443\ttotal: 63.3ms\tremaining: 151ms\n",
      "59:\tlearn: 183.2943328\ttotal: 64.1ms\tremaining: 150ms\n",
      "60:\tlearn: 182.7652909\ttotal: 64.9ms\tremaining: 148ms\n",
      "61:\tlearn: 181.5042115\ttotal: 65.7ms\tremaining: 146ms\n",
      "62:\tlearn: 180.9117230\ttotal: 66.5ms\tremaining: 145ms\n",
      "63:\tlearn: 178.3270240\ttotal: 68ms\tremaining: 145ms\n",
      "64:\tlearn: 176.1833327\ttotal: 68.9ms\tremaining: 143ms\n",
      "65:\tlearn: 175.7878189\ttotal: 69.6ms\tremaining: 141ms\n",
      "66:\tlearn: 175.2291474\ttotal: 70.4ms\tremaining: 140ms\n",
      "67:\tlearn: 174.3580030\ttotal: 71.3ms\tremaining: 138ms\n",
      "68:\tlearn: 172.9792923\ttotal: 71.9ms\tremaining: 137ms\n",
      "69:\tlearn: 172.4632632\ttotal: 72.7ms\tremaining: 135ms\n",
      "70:\tlearn: 172.1268167\ttotal: 73.3ms\tremaining: 133ms\n",
      "71:\tlearn: 171.5635224\ttotal: 74ms\tremaining: 132ms\n",
      "72:\tlearn: 171.2873492\ttotal: 74.7ms\tremaining: 130ms\n",
      "73:\tlearn: 170.8669666\ttotal: 75.3ms\tremaining: 128ms\n",
      "74:\tlearn: 169.4903280\ttotal: 76.2ms\tremaining: 127ms\n",
      "75:\tlearn: 168.4176608\ttotal: 77ms\tremaining: 126ms\n",
      "76:\tlearn: 167.9756457\ttotal: 78.3ms\tremaining: 125ms\n",
      "77:\tlearn: 167.0910387\ttotal: 79ms\tremaining: 124ms\n",
      "78:\tlearn: 166.1645487\ttotal: 80.2ms\tremaining: 123ms\n",
      "79:\tlearn: 163.7998978\ttotal: 81.3ms\tremaining: 122ms\n",
      "80:\tlearn: 162.8778458\ttotal: 82.3ms\tremaining: 121ms\n",
      "81:\tlearn: 160.8550389\ttotal: 83ms\tremaining: 120ms\n",
      "82:\tlearn: 159.3900178\ttotal: 83.8ms\tremaining: 118ms\n",
      "83:\tlearn: 158.9386122\ttotal: 85.2ms\tremaining: 118ms\n",
      "84:\tlearn: 158.4180530\ttotal: 87.7ms\tremaining: 119ms\n",
      "85:\tlearn: 157.9508350\ttotal: 88.7ms\tremaining: 118ms\n",
      "86:\tlearn: 157.5905748\ttotal: 89.4ms\tremaining: 116ms\n",
      "87:\tlearn: 157.3140843\ttotal: 90.5ms\tremaining: 115ms\n",
      "88:\tlearn: 156.2915468\ttotal: 91.2ms\tremaining: 114ms\n",
      "89:\tlearn: 154.9922730\ttotal: 91.9ms\tremaining: 112ms\n",
      "90:\tlearn: 153.8467037\ttotal: 92.4ms\tremaining: 111ms\n",
      "91:\tlearn: 152.9256202\ttotal: 93ms\tremaining: 109ms\n",
      "92:\tlearn: 152.7097666\ttotal: 93.5ms\tremaining: 108ms\n",
      "93:\tlearn: 150.8236126\ttotal: 94.2ms\tremaining: 106ms\n",
      "94:\tlearn: 149.1837829\ttotal: 94.8ms\tremaining: 105ms\n",
      "95:\tlearn: 148.8709842\ttotal: 95.5ms\tremaining: 103ms\n",
      "96:\tlearn: 148.1164519\ttotal: 96.2ms\tremaining: 102ms\n",
      "97:\tlearn: 147.5021181\ttotal: 96.9ms\tremaining: 101ms\n",
      "98:\tlearn: 147.1954906\ttotal: 97.6ms\tremaining: 99.6ms\n",
      "99:\tlearn: 146.4416655\ttotal: 99ms\tremaining: 99ms\n",
      "100:\tlearn: 145.0996656\ttotal: 100ms\tremaining: 98.5ms\n",
      "101:\tlearn: 143.3229905\ttotal: 101ms\tremaining: 97.3ms\n",
      "102:\tlearn: 142.9563029\ttotal: 102ms\tremaining: 96ms\n",
      "103:\tlearn: 141.7630640\ttotal: 103ms\tremaining: 94.7ms\n",
      "104:\tlearn: 140.7796323\ttotal: 103ms\tremaining: 93.4ms\n",
      "105:\tlearn: 140.4396947\ttotal: 104ms\tremaining: 92.1ms\n",
      "106:\tlearn: 138.9973259\ttotal: 105ms\tremaining: 91ms\n",
      "107:\tlearn: 138.7091788\ttotal: 108ms\tremaining: 92.1ms\n",
      "108:\tlearn: 137.9916091\ttotal: 111ms\tremaining: 92.9ms\n",
      "109:\tlearn: 137.4675822\ttotal: 114ms\tremaining: 93.1ms\n",
      "110:\tlearn: 137.2332131\ttotal: 114ms\tremaining: 91.7ms\n",
      "111:\tlearn: 136.9888670\ttotal: 115ms\tremaining: 90.4ms\n",
      "112:\tlearn: 136.3743705\ttotal: 116ms\tremaining: 89ms\n",
      "113:\tlearn: 136.0714832\ttotal: 116ms\tremaining: 87.6ms\n",
      "114:\tlearn: 135.8989630\ttotal: 117ms\tremaining: 86.3ms\n",
      "115:\tlearn: 135.5678333\ttotal: 117ms\tremaining: 84.9ms\n",
      "116:\tlearn: 134.8474935\ttotal: 118ms\tremaining: 83.6ms\n",
      "117:\tlearn: 134.0424819\ttotal: 118ms\tremaining: 82.3ms\n",
      "118:\tlearn: 133.5202161\ttotal: 126ms\tremaining: 86.1ms\n",
      "119:\tlearn: 133.0574276\ttotal: 128ms\tremaining: 85.2ms\n",
      "120:\tlearn: 131.8141919\ttotal: 129ms\tremaining: 83.9ms\n",
      "121:\tlearn: 131.1505623\ttotal: 130ms\tremaining: 82.9ms\n",
      "122:\tlearn: 130.6284514\ttotal: 132ms\tremaining: 82.5ms\n",
      "123:\tlearn: 130.5117435\ttotal: 133ms\tremaining: 81.7ms\n",
      "124:\tlearn: 129.3465324\ttotal: 134ms\tremaining: 80.4ms\n",
      "125:\tlearn: 128.3796185\ttotal: 135ms\tremaining: 79.1ms\n",
      "126:\tlearn: 127.3505522\ttotal: 136ms\tremaining: 77.9ms\n",
      "127:\tlearn: 127.1424540\ttotal: 136ms\tremaining: 76.6ms\n",
      "128:\tlearn: 126.8300867\ttotal: 141ms\tremaining: 77.7ms\n",
      "129:\tlearn: 126.1461171\ttotal: 143ms\tremaining: 77.1ms\n",
      "130:\tlearn: 125.5711159\ttotal: 144ms\tremaining: 76ms\n",
      "131:\tlearn: 125.1455213\ttotal: 145ms\tremaining: 74.7ms\n",
      "132:\tlearn: 124.2460310\ttotal: 146ms\tremaining: 73.5ms\n",
      "133:\tlearn: 124.0807652\ttotal: 147ms\tremaining: 72.3ms\n",
      "134:\tlearn: 123.3179338\ttotal: 149ms\tremaining: 71.8ms\n",
      "135:\tlearn: 122.2972631\ttotal: 150ms\tremaining: 70.6ms\n",
      "136:\tlearn: 121.3968385\ttotal: 151ms\tremaining: 69.3ms\n",
      "137:\tlearn: 121.2970742\ttotal: 151ms\tremaining: 68ms\n",
      "138:\tlearn: 120.8024107\ttotal: 152ms\tremaining: 66.7ms\n",
      "139:\tlearn: 120.1640936\ttotal: 153ms\tremaining: 65.7ms\n",
      "140:\tlearn: 119.8891035\ttotal: 154ms\tremaining: 64.6ms\n",
      "141:\tlearn: 119.4569672\ttotal: 156ms\tremaining: 63.6ms\n",
      "142:\tlearn: 119.1060666\ttotal: 157ms\tremaining: 62.6ms\n",
      "143:\tlearn: 118.7239982\ttotal: 159ms\tremaining: 61.7ms\n",
      "144:\tlearn: 117.7592573\ttotal: 160ms\tremaining: 60.8ms\n",
      "145:\tlearn: 117.6233971\ttotal: 162ms\tremaining: 59.8ms\n",
      "146:\tlearn: 117.4945881\ttotal: 165ms\tremaining: 59.3ms\n",
      "147:\tlearn: 117.0258808\ttotal: 167ms\tremaining: 58.6ms\n",
      "148:\tlearn: 116.2893575\ttotal: 168ms\tremaining: 57.4ms\n",
      "149:\tlearn: 115.3136670\ttotal: 168ms\tremaining: 56ms\n",
      "150:\tlearn: 114.9693869\ttotal: 169ms\tremaining: 54.7ms\n",
      "151:\tlearn: 114.1508435\ttotal: 170ms\tremaining: 53.6ms\n",
      "152:\tlearn: 113.9744884\ttotal: 170ms\tremaining: 52.3ms\n",
      "153:\tlearn: 113.8074333\ttotal: 171ms\tremaining: 51ms\n",
      "154:\tlearn: 113.5022001\ttotal: 171ms\tremaining: 49.8ms\n",
      "155:\tlearn: 113.1536726\ttotal: 172ms\tremaining: 48.5ms\n",
      "156:\tlearn: 112.2501285\ttotal: 173ms\tremaining: 47.3ms\n",
      "157:\tlearn: 111.0930456\ttotal: 174ms\tremaining: 46.4ms\n",
      "158:\tlearn: 110.5443409\ttotal: 175ms\tremaining: 45.3ms\n",
      "159:\tlearn: 109.7307580\ttotal: 176ms\tremaining: 44.1ms\n",
      "160:\tlearn: 109.5251388\ttotal: 177ms\tremaining: 43ms\n",
      "161:\tlearn: 108.7463908\ttotal: 178ms\tremaining: 41.8ms\n",
      "162:\tlearn: 108.1389797\ttotal: 179ms\tremaining: 40.5ms\n",
      "163:\tlearn: 106.9836520\ttotal: 179ms\tremaining: 39.3ms\n",
      "164:\tlearn: 106.3593268\ttotal: 180ms\tremaining: 38.1ms\n",
      "165:\tlearn: 106.0021242\ttotal: 181ms\tremaining: 37.1ms\n",
      "166:\tlearn: 105.3729205\ttotal: 182ms\tremaining: 36ms\n",
      "167:\tlearn: 105.2703299\ttotal: 183ms\tremaining: 34.9ms\n",
      "168:\tlearn: 104.6201921\ttotal: 184ms\tremaining: 33.7ms\n",
      "169:\tlearn: 103.8533995\ttotal: 185ms\tremaining: 32.6ms\n",
      "170:\tlearn: 102.9561207\ttotal: 185ms\tremaining: 31.4ms\n",
      "171:\tlearn: 102.0236205\ttotal: 186ms\tremaining: 30.2ms\n",
      "172:\tlearn: 101.2093890\ttotal: 187ms\tremaining: 29.2ms\n",
      "173:\tlearn: 100.6397529\ttotal: 188ms\tremaining: 28.1ms\n",
      "174:\tlearn: 100.0175643\ttotal: 189ms\tremaining: 27ms\n",
      "175:\tlearn: 99.1148145\ttotal: 190ms\tremaining: 25.9ms\n",
      "176:\tlearn: 98.3061999\ttotal: 195ms\tremaining: 25.4ms\n",
      "177:\tlearn: 97.6748181\ttotal: 196ms\tremaining: 24.2ms\n",
      "178:\tlearn: 97.0846257\ttotal: 197ms\tremaining: 23.1ms\n",
      "179:\tlearn: 96.7303788\ttotal: 197ms\tremaining: 21.9ms\n",
      "180:\tlearn: 96.4405327\ttotal: 198ms\tremaining: 20.8ms\n",
      "181:\tlearn: 95.8407970\ttotal: 199ms\tremaining: 19.7ms\n",
      "182:\tlearn: 95.6235768\ttotal: 199ms\tremaining: 18.5ms\n",
      "183:\tlearn: 95.3165478\ttotal: 200ms\tremaining: 17.4ms\n",
      "184:\tlearn: 94.8472155\ttotal: 200ms\tremaining: 16.2ms\n",
      "185:\tlearn: 94.5792783\ttotal: 201ms\tremaining: 15.1ms\n",
      "186:\tlearn: 94.4486989\ttotal: 201ms\tremaining: 14ms\n",
      "187:\tlearn: 93.7805847\ttotal: 202ms\tremaining: 12.9ms\n",
      "188:\tlearn: 93.1854090\ttotal: 204ms\tremaining: 11.9ms\n",
      "189:\tlearn: 92.5802670\ttotal: 205ms\tremaining: 10.8ms\n",
      "190:\tlearn: 92.4526361\ttotal: 205ms\tremaining: 9.67ms\n",
      "191:\tlearn: 91.8431051\ttotal: 206ms\tremaining: 8.57ms\n",
      "192:\tlearn: 91.1182541\ttotal: 206ms\tremaining: 7.48ms\n",
      "193:\tlearn: 90.6967402\ttotal: 207ms\tremaining: 6.39ms\n",
      "194:\tlearn: 90.1981271\ttotal: 207ms\tremaining: 5.31ms\n",
      "195:\tlearn: 89.8895054\ttotal: 208ms\tremaining: 4.24ms\n",
      "196:\tlearn: 89.5180619\ttotal: 208ms\tremaining: 3.17ms\n",
      "197:\tlearn: 89.2845302\ttotal: 209ms\tremaining: 2.11ms\n",
      "198:\tlearn: 88.8825508\ttotal: 209ms\tremaining: 1.05ms\n",
      "199:\tlearn: 88.2744900\ttotal: 210ms\tremaining: 0us\n"
     ]
    }
   ],
   "source": [
    "cb_model=CatBoostRegressor()\n",
    "cb_params={\"iterations\":[200,500,100],\n",
    "           \"learning_rate\":[0.01,0.1],\n",
    "           \"depth\":[3,6,8]}\n",
    "cb_cv_model=GridSearchCV(cb_model,cb_params,cv=5,n_jobs=-1,verbose=2).fit(X_train,y_train)"
   ]
  },
  {
   "cell_type": "code",
   "execution_count": 85,
   "metadata": {},
   "outputs": [
    {
     "data": {
      "text/plain": [
       "{'depth': 3, 'iterations': 200, 'learning_rate': 0.1}"
      ]
     },
     "execution_count": 85,
     "metadata": {},
     "output_type": "execute_result"
    }
   ],
   "source": [
    "cb_cv_model.best_params_"
   ]
  },
  {
   "cell_type": "code",
   "execution_count": 86,
   "metadata": {
    "collapsed": true
   },
   "outputs": [
    {
     "name": "stdout",
     "output_type": "stream",
     "text": [
      "0:\tlearn: 427.1241905\ttotal: 652us\tremaining: 130ms\n",
      "1:\tlearn: 406.8148140\ttotal: 2.8ms\tremaining: 277ms\n",
      "2:\tlearn: 389.8231648\ttotal: 5.16ms\tremaining: 339ms\n",
      "3:\tlearn: 374.3907690\ttotal: 6.09ms\tremaining: 299ms\n",
      "4:\tlearn: 360.3338267\ttotal: 7.33ms\tremaining: 286ms\n",
      "5:\tlearn: 347.2936452\ttotal: 7.92ms\tremaining: 256ms\n",
      "6:\tlearn: 336.6561889\ttotal: 8.47ms\tremaining: 234ms\n",
      "7:\tlearn: 324.7194248\ttotal: 9.02ms\tremaining: 216ms\n",
      "8:\tlearn: 314.8525666\ttotal: 9.58ms\tremaining: 203ms\n",
      "9:\tlearn: 308.6748928\ttotal: 10.1ms\tremaining: 193ms\n",
      "10:\tlearn: 299.9037104\ttotal: 10.7ms\tremaining: 183ms\n",
      "11:\tlearn: 295.7403622\ttotal: 11.2ms\tremaining: 175ms\n",
      "12:\tlearn: 289.5912467\ttotal: 11.7ms\tremaining: 169ms\n",
      "13:\tlearn: 283.0225629\ttotal: 12.3ms\tremaining: 163ms\n",
      "14:\tlearn: 277.0512990\ttotal: 12.8ms\tremaining: 158ms\n",
      "15:\tlearn: 271.1877335\ttotal: 13.4ms\tremaining: 154ms\n",
      "16:\tlearn: 267.5630863\ttotal: 16.3ms\tremaining: 176ms\n",
      "17:\tlearn: 263.0506688\ttotal: 17.1ms\tremaining: 173ms\n",
      "18:\tlearn: 258.4265758\ttotal: 17.8ms\tremaining: 170ms\n",
      "19:\tlearn: 254.4041199\ttotal: 18.4ms\tremaining: 166ms\n",
      "20:\tlearn: 249.6956170\ttotal: 18.9ms\tremaining: 161ms\n",
      "21:\tlearn: 246.4063593\ttotal: 19.5ms\tremaining: 158ms\n",
      "22:\tlearn: 241.6701385\ttotal: 20ms\tremaining: 154ms\n",
      "23:\tlearn: 239.6330830\ttotal: 20.6ms\tremaining: 151ms\n",
      "24:\tlearn: 236.8232689\ttotal: 21.2ms\tremaining: 148ms\n",
      "25:\tlearn: 233.9508812\ttotal: 21.7ms\tremaining: 145ms\n",
      "26:\tlearn: 230.7991460\ttotal: 22.3ms\tremaining: 143ms\n",
      "27:\tlearn: 227.5497730\ttotal: 22.8ms\tremaining: 140ms\n",
      "28:\tlearn: 225.4148751\ttotal: 23.3ms\tremaining: 138ms\n",
      "29:\tlearn: 223.5540348\ttotal: 23.9ms\tremaining: 135ms\n",
      "30:\tlearn: 222.1341764\ttotal: 24.4ms\tremaining: 133ms\n",
      "31:\tlearn: 220.7753423\ttotal: 25ms\tremaining: 131ms\n",
      "32:\tlearn: 219.4260157\ttotal: 25.6ms\tremaining: 130ms\n",
      "33:\tlearn: 218.1998059\ttotal: 26.5ms\tremaining: 130ms\n",
      "34:\tlearn: 215.8311701\ttotal: 28ms\tremaining: 132ms\n",
      "35:\tlearn: 212.6847431\ttotal: 30ms\tremaining: 137ms\n",
      "36:\tlearn: 212.1258716\ttotal: 30.7ms\tremaining: 135ms\n",
      "37:\tlearn: 210.1676228\ttotal: 31.2ms\tremaining: 133ms\n",
      "38:\tlearn: 207.7818415\ttotal: 31.8ms\tremaining: 131ms\n",
      "39:\tlearn: 206.3070697\ttotal: 32.3ms\tremaining: 129ms\n",
      "40:\tlearn: 204.0171131\ttotal: 32.8ms\tremaining: 127ms\n",
      "41:\tlearn: 202.7434408\ttotal: 33.3ms\tremaining: 125ms\n",
      "42:\tlearn: 202.1247151\ttotal: 33.9ms\tremaining: 124ms\n",
      "43:\tlearn: 201.4739454\ttotal: 34.4ms\tremaining: 122ms\n",
      "44:\tlearn: 199.4192377\ttotal: 34.9ms\tremaining: 120ms\n",
      "45:\tlearn: 198.3526558\ttotal: 35.4ms\tremaining: 119ms\n",
      "46:\tlearn: 197.4736353\ttotal: 36ms\tremaining: 117ms\n",
      "47:\tlearn: 196.9071754\ttotal: 36.5ms\tremaining: 116ms\n",
      "48:\tlearn: 194.1737618\ttotal: 37ms\tremaining: 114ms\n",
      "49:\tlearn: 193.0571246\ttotal: 37.5ms\tremaining: 113ms\n",
      "50:\tlearn: 192.5393711\ttotal: 38.1ms\tremaining: 111ms\n",
      "51:\tlearn: 191.3888982\ttotal: 38.6ms\tremaining: 110ms\n",
      "52:\tlearn: 189.9298696\ttotal: 39.2ms\tremaining: 109ms\n",
      "53:\tlearn: 188.0689166\ttotal: 40.6ms\tremaining: 110ms\n",
      "54:\tlearn: 187.7064038\ttotal: 41.4ms\tremaining: 109ms\n",
      "55:\tlearn: 187.2838590\ttotal: 42.5ms\tremaining: 109ms\n",
      "56:\tlearn: 186.8816456\ttotal: 43.1ms\tremaining: 108ms\n",
      "57:\tlearn: 185.3066043\ttotal: 43.8ms\tremaining: 107ms\n",
      "58:\tlearn: 183.9450443\ttotal: 44.5ms\tremaining: 106ms\n",
      "59:\tlearn: 183.2943328\ttotal: 45.1ms\tremaining: 105ms\n",
      "60:\tlearn: 182.7652909\ttotal: 45.8ms\tremaining: 104ms\n",
      "61:\tlearn: 181.5042115\ttotal: 46.3ms\tremaining: 103ms\n",
      "62:\tlearn: 180.9117230\ttotal: 46.8ms\tremaining: 102ms\n",
      "63:\tlearn: 178.3270240\ttotal: 47.3ms\tremaining: 101ms\n",
      "64:\tlearn: 176.1833327\ttotal: 47.9ms\tremaining: 99.4ms\n",
      "65:\tlearn: 175.7878189\ttotal: 48.4ms\tremaining: 98.2ms\n",
      "66:\tlearn: 175.2291474\ttotal: 48.9ms\tremaining: 97.1ms\n",
      "67:\tlearn: 174.3580030\ttotal: 49.4ms\tremaining: 95.9ms\n",
      "68:\tlearn: 172.9792923\ttotal: 49.9ms\tremaining: 94.8ms\n",
      "69:\tlearn: 172.4632632\ttotal: 50.8ms\tremaining: 94.4ms\n",
      "70:\tlearn: 172.1268167\ttotal: 52.1ms\tremaining: 94.7ms\n",
      "71:\tlearn: 171.5635224\ttotal: 53.5ms\tremaining: 95.1ms\n",
      "72:\tlearn: 171.2873492\ttotal: 54.4ms\tremaining: 94.6ms\n",
      "73:\tlearn: 170.8669666\ttotal: 55ms\tremaining: 93.7ms\n",
      "74:\tlearn: 169.4903280\ttotal: 55.7ms\tremaining: 92.8ms\n",
      "75:\tlearn: 168.4176608\ttotal: 56.3ms\tremaining: 91.9ms\n",
      "76:\tlearn: 167.9756457\ttotal: 57ms\tremaining: 91ms\n",
      "77:\tlearn: 167.0910387\ttotal: 57.6ms\tremaining: 90.1ms\n",
      "78:\tlearn: 166.1645487\ttotal: 58.2ms\tremaining: 89.2ms\n",
      "79:\tlearn: 163.7998978\ttotal: 58.9ms\tremaining: 88.3ms\n",
      "80:\tlearn: 162.8778458\ttotal: 59.5ms\tremaining: 87.4ms\n",
      "81:\tlearn: 160.8550389\ttotal: 60.1ms\tremaining: 86.5ms\n",
      "82:\tlearn: 159.3900178\ttotal: 60.8ms\tremaining: 85.7ms\n",
      "83:\tlearn: 158.9386122\ttotal: 61.4ms\tremaining: 84.8ms\n",
      "84:\tlearn: 158.4180530\ttotal: 62.1ms\tremaining: 84ms\n",
      "85:\tlearn: 157.9508350\ttotal: 63.5ms\tremaining: 84.2ms\n",
      "86:\tlearn: 157.5905748\ttotal: 65ms\tremaining: 84.4ms\n",
      "87:\tlearn: 157.3140843\ttotal: 65.9ms\tremaining: 83.9ms\n",
      "88:\tlearn: 156.2915468\ttotal: 66.7ms\tremaining: 83.2ms\n",
      "89:\tlearn: 154.9922730\ttotal: 67.3ms\tremaining: 82.3ms\n",
      "90:\tlearn: 153.8467037\ttotal: 68ms\tremaining: 81.4ms\n",
      "91:\tlearn: 152.9256202\ttotal: 68.6ms\tremaining: 80.5ms\n",
      "92:\tlearn: 152.7097666\ttotal: 69.2ms\tremaining: 79.6ms\n",
      "93:\tlearn: 150.8236126\ttotal: 69.7ms\tremaining: 78.6ms\n",
      "94:\tlearn: 149.1837829\ttotal: 70.2ms\tremaining: 77.6ms\n",
      "95:\tlearn: 148.8709842\ttotal: 70.8ms\tremaining: 76.7ms\n",
      "96:\tlearn: 148.1164519\ttotal: 71.2ms\tremaining: 75.6ms\n",
      "97:\tlearn: 147.5021181\ttotal: 71.8ms\tremaining: 74.7ms\n",
      "98:\tlearn: 147.1954906\ttotal: 72.3ms\tremaining: 73.8ms\n",
      "99:\tlearn: 146.4416655\ttotal: 72.8ms\tremaining: 72.8ms\n",
      "100:\tlearn: 145.0996656\ttotal: 73.3ms\tremaining: 71.9ms\n",
      "101:\tlearn: 143.3229905\ttotal: 73.9ms\tremaining: 71ms\n",
      "102:\tlearn: 142.9563029\ttotal: 74.5ms\tremaining: 70.2ms\n",
      "103:\tlearn: 141.7630640\ttotal: 75.7ms\tremaining: 69.8ms\n",
      "104:\tlearn: 140.7796323\ttotal: 77ms\tremaining: 69.7ms\n",
      "105:\tlearn: 140.4396947\ttotal: 77.8ms\tremaining: 69ms\n",
      "106:\tlearn: 138.9973259\ttotal: 78.3ms\tremaining: 68ms\n",
      "107:\tlearn: 138.7091788\ttotal: 78.7ms\tremaining: 67.1ms\n",
      "108:\tlearn: 137.9916091\ttotal: 79.2ms\tremaining: 66.1ms\n",
      "109:\tlearn: 137.4675822\ttotal: 79.6ms\tremaining: 65.1ms\n",
      "110:\tlearn: 137.2332131\ttotal: 80ms\tremaining: 64.2ms\n",
      "111:\tlearn: 136.9888670\ttotal: 80.4ms\tremaining: 63.2ms\n",
      "112:\tlearn: 136.3743705\ttotal: 80.9ms\tremaining: 62.3ms\n",
      "113:\tlearn: 136.0714832\ttotal: 81.3ms\tremaining: 61.3ms\n",
      "114:\tlearn: 135.8989630\ttotal: 81.7ms\tremaining: 60.4ms\n",
      "115:\tlearn: 135.5678333\ttotal: 82.1ms\tremaining: 59.5ms\n",
      "116:\tlearn: 134.8474935\ttotal: 82.6ms\tremaining: 58.6ms\n",
      "117:\tlearn: 134.0424819\ttotal: 83ms\tremaining: 57.7ms\n",
      "118:\tlearn: 133.5202161\ttotal: 83.5ms\tremaining: 56.8ms\n",
      "119:\tlearn: 133.0574276\ttotal: 83.9ms\tremaining: 55.9ms\n",
      "120:\tlearn: 131.8141919\ttotal: 84.3ms\tremaining: 55ms\n",
      "121:\tlearn: 131.1505623\ttotal: 84.7ms\tremaining: 54.2ms\n",
      "122:\tlearn: 130.6284514\ttotal: 85.2ms\tremaining: 53.3ms\n",
      "123:\tlearn: 130.5117435\ttotal: 85.8ms\tremaining: 52.6ms\n",
      "124:\tlearn: 129.3465324\ttotal: 87.1ms\tremaining: 52.3ms\n",
      "125:\tlearn: 128.3796185\ttotal: 88.4ms\tremaining: 51.9ms\n",
      "126:\tlearn: 127.3505522\ttotal: 89.1ms\tremaining: 51.2ms\n",
      "127:\tlearn: 127.1424540\ttotal: 89.5ms\tremaining: 50.3ms\n",
      "128:\tlearn: 126.8300867\ttotal: 90ms\tremaining: 49.5ms\n",
      "129:\tlearn: 126.1461171\ttotal: 90.4ms\tremaining: 48.7ms\n",
      "130:\tlearn: 125.5711159\ttotal: 90.8ms\tremaining: 47.8ms\n",
      "131:\tlearn: 125.1455213\ttotal: 91.3ms\tremaining: 47ms\n",
      "132:\tlearn: 124.2460310\ttotal: 91.7ms\tremaining: 46.2ms\n",
      "133:\tlearn: 124.0807652\ttotal: 92.1ms\tremaining: 45.4ms\n",
      "134:\tlearn: 123.3179338\ttotal: 92.5ms\tremaining: 44.6ms\n",
      "135:\tlearn: 122.2972631\ttotal: 93ms\tremaining: 43.8ms\n",
      "136:\tlearn: 121.3968385\ttotal: 93.4ms\tremaining: 43ms\n",
      "137:\tlearn: 121.2970742\ttotal: 93.8ms\tremaining: 42.2ms\n",
      "138:\tlearn: 120.8024107\ttotal: 94.3ms\tremaining: 41.4ms\n",
      "139:\tlearn: 120.1640936\ttotal: 94.7ms\tremaining: 40.6ms\n",
      "140:\tlearn: 119.8891035\ttotal: 95.1ms\tremaining: 39.8ms\n",
      "141:\tlearn: 119.4569672\ttotal: 95.5ms\tremaining: 39ms\n",
      "142:\tlearn: 119.1060666\ttotal: 96ms\tremaining: 38.3ms\n",
      "143:\tlearn: 118.7239982\ttotal: 96.4ms\tremaining: 37.5ms\n",
      "144:\tlearn: 117.7592573\ttotal: 97.2ms\tremaining: 36.9ms\n",
      "145:\tlearn: 117.6233971\ttotal: 98.3ms\tremaining: 36.4ms\n",
      "146:\tlearn: 117.4945881\ttotal: 99.7ms\tremaining: 35.9ms\n",
      "147:\tlearn: 117.0258808\ttotal: 100ms\tremaining: 35.3ms\n",
      "148:\tlearn: 116.2893575\ttotal: 101ms\tremaining: 34.5ms\n",
      "149:\tlearn: 115.3136670\ttotal: 101ms\tremaining: 33.7ms\n",
      "150:\tlearn: 114.9693869\ttotal: 102ms\tremaining: 33ms\n",
      "151:\tlearn: 114.1508435\ttotal: 102ms\tremaining: 32.2ms\n",
      "152:\tlearn: 113.9744884\ttotal: 103ms\tremaining: 31.5ms\n",
      "153:\tlearn: 113.8074333\ttotal: 103ms\tremaining: 30.8ms\n",
      "154:\tlearn: 113.5022001\ttotal: 104ms\tremaining: 30.1ms\n",
      "155:\tlearn: 113.1536726\ttotal: 104ms\tremaining: 29.4ms\n",
      "156:\tlearn: 112.2501285\ttotal: 105ms\tremaining: 28.6ms\n",
      "157:\tlearn: 111.0930456\ttotal: 105ms\tremaining: 27.9ms\n",
      "158:\tlearn: 110.5443409\ttotal: 105ms\tremaining: 27.2ms\n",
      "159:\tlearn: 109.7307580\ttotal: 106ms\tremaining: 26.5ms\n",
      "160:\tlearn: 109.5251388\ttotal: 106ms\tremaining: 25.7ms\n",
      "161:\tlearn: 108.7463908\ttotal: 107ms\tremaining: 25ms\n",
      "162:\tlearn: 108.1389797\ttotal: 107ms\tremaining: 24.3ms\n",
      "163:\tlearn: 106.9836520\ttotal: 108ms\tremaining: 23.6ms\n",
      "164:\tlearn: 106.3593268\ttotal: 108ms\tremaining: 23ms\n",
      "165:\tlearn: 106.0021242\ttotal: 110ms\tremaining: 22.5ms\n",
      "166:\tlearn: 105.3729205\ttotal: 110ms\tremaining: 21.8ms\n",
      "167:\tlearn: 105.2703299\ttotal: 111ms\tremaining: 21.1ms\n",
      "168:\tlearn: 104.6201921\ttotal: 111ms\tremaining: 20.4ms\n",
      "169:\tlearn: 103.8533995\ttotal: 112ms\tremaining: 19.7ms\n",
      "170:\tlearn: 102.9561207\ttotal: 112ms\tremaining: 19ms\n",
      "171:\tlearn: 102.0236205\ttotal: 113ms\tremaining: 18.3ms\n",
      "172:\tlearn: 101.2093890\ttotal: 113ms\tremaining: 17.6ms\n",
      "173:\tlearn: 100.6397529\ttotal: 113ms\tremaining: 16.9ms\n",
      "174:\tlearn: 100.0175643\ttotal: 114ms\tremaining: 16.3ms\n",
      "175:\tlearn: 99.1148145\ttotal: 114ms\tremaining: 15.6ms\n",
      "176:\tlearn: 98.3061999\ttotal: 115ms\tremaining: 14.9ms\n",
      "177:\tlearn: 97.6748181\ttotal: 115ms\tremaining: 14.2ms\n",
      "178:\tlearn: 97.0846257\ttotal: 116ms\tremaining: 13.6ms\n",
      "179:\tlearn: 96.7303788\ttotal: 116ms\tremaining: 12.9ms\n",
      "180:\tlearn: 96.4405327\ttotal: 116ms\tremaining: 12.2ms\n",
      "181:\tlearn: 95.8407970\ttotal: 117ms\tremaining: 11.6ms\n",
      "182:\tlearn: 95.6235768\ttotal: 117ms\tremaining: 10.9ms\n",
      "183:\tlearn: 95.3165478\ttotal: 118ms\tremaining: 10.2ms\n",
      "184:\tlearn: 94.8472155\ttotal: 118ms\tremaining: 9.58ms\n",
      "185:\tlearn: 94.5792783\ttotal: 119ms\tremaining: 8.95ms\n",
      "186:\tlearn: 94.4486989\ttotal: 120ms\tremaining: 8.34ms\n",
      "187:\tlearn: 93.7805847\ttotal: 121ms\tremaining: 7.75ms\n",
      "188:\tlearn: 93.1854090\ttotal: 122ms\tremaining: 7.11ms\n",
      "189:\tlearn: 92.5802670\ttotal: 123ms\tremaining: 6.45ms\n",
      "190:\tlearn: 92.4526361\ttotal: 123ms\tremaining: 5.8ms\n",
      "191:\tlearn: 91.8431051\ttotal: 124ms\tremaining: 5.14ms\n",
      "192:\tlearn: 91.1182541\ttotal: 124ms\tremaining: 4.49ms\n",
      "193:\tlearn: 90.6967402\ttotal: 124ms\tremaining: 3.85ms\n",
      "194:\tlearn: 90.1981271\ttotal: 125ms\tremaining: 3.2ms\n",
      "195:\tlearn: 89.8895054\ttotal: 125ms\tremaining: 2.56ms\n",
      "196:\tlearn: 89.5180619\ttotal: 126ms\tremaining: 1.91ms\n",
      "197:\tlearn: 89.2845302\ttotal: 126ms\tremaining: 1.27ms\n",
      "198:\tlearn: 88.8825508\ttotal: 127ms\tremaining: 635us\n",
      "199:\tlearn: 88.2744900\ttotal: 127ms\tremaining: 0us\n"
     ]
    }
   ],
   "source": [
    "cb_tuned=CatBoostRegressor(iterations=200,learning_rate=0.1,depth=3).fit(X_train,y_train)"
   ]
  },
  {
   "cell_type": "code",
   "execution_count": 87,
   "metadata": {},
   "outputs": [],
   "source": [
    "#tahmin\n",
    "y_pred=cb_tuned.predict(X_test)"
   ]
  },
  {
   "cell_type": "code",
   "execution_count": 88,
   "metadata": {},
   "outputs": [
    {
     "name": "stdout",
     "output_type": "stream",
     "text": [
      "RMSE: 336.82944918834545\n"
     ]
    }
   ],
   "source": [
    "#hata\n",
    "RMSE=np.sqrt(mean_squared_error(y_test,y_pred))\n",
    "print(\"RMSE:\",RMSE)"
   ]
  },
  {
   "cell_type": "markdown",
   "metadata": {},
   "source": [
    "<h1>Makina Öğrenmesi Görevlerinin Otomatikleştirilmesi</h1>"
   ]
  },
  {
   "cell_type": "code",
   "execution_count": 92,
   "metadata": {},
   "outputs": [],
   "source": [
    "#dataset beyzbol ile ilgili biz maaş değişkenine odaklanıyoruz\n",
    "df=pd.read_csv(\"data/Hitters.csv\")\n",
    "df=df.dropna()\n",
    "#aşağıdaki satırda kategorik değişkenler dummiye çevrildi one-hot encoding\n",
    "dms=pd.get_dummies(df[[\"League\",\"Division\",\"NewLeague\"]])"
   ]
  },
  {
   "cell_type": "code",
   "execution_count": 123,
   "metadata": {},
   "outputs": [],
   "source": [
    "def compML(df,y,alg):\n",
    "    #train test split\n",
    "    y=df[y]\n",
    "    #kategorik değikenleri ve bağımlı değişkeni bağımsız değişkelrin içinden çıkartıyoruz\n",
    "    X_=df.drop([\"Salary\",\"League\",\"Division\",\"NewLeague\"],axis=1).astype(\"float64\")\n",
    "    X=pd.concat([X_,dms[[\"League_N\",\"Division_W\",\"NewLeague_N\"]]],axis=1)\n",
    "    X_train,X_test,y_train,y_test=train_test_split(X,y,test_size=0.25,\n",
    "                                                   random_state=42)\n",
    "    \n",
    "    #modelleme\n",
    "    model=alg().fit(X_train,y_train)\n",
    "    y_pred=model.predict(X_test)\n",
    "    RMSE=np.sqrt(mean_squared_error(y_test,y_pred))\n",
    "    model_name=alg.__name__\n",
    "    return {\"RMSE test for model {}\".format(model_name):RMSE}\n"
   ]
  },
  {
   "cell_type": "code",
   "execution_count": 124,
   "metadata": {},
   "outputs": [
    {
     "data": {
      "text/plain": [
       "{'RMSE test for model LGBMRegressor': 363.8712087611089}"
      ]
     },
     "execution_count": 124,
     "metadata": {},
     "output_type": "execute_result"
    }
   ],
   "source": [
    "compML(df,\"Salary\",LGBMRegressor)"
   ]
  },
  {
   "cell_type": "code",
   "execution_count": 125,
   "metadata": {},
   "outputs": [
    {
     "data": {
      "text/plain": [
       "{'RMSE test for model SVR': 473.4445984431814}"
      ]
     },
     "execution_count": 125,
     "metadata": {},
     "output_type": "execute_result"
    }
   ],
   "source": [
    "compML(df,\"Salary\",SVR)"
   ]
  },
  {
   "cell_type": "code",
   "execution_count": 126,
   "metadata": {},
   "outputs": [],
   "source": [
    "models=[LGBMRegressor,XGBRegressor,GradientBoostingRegressor,\n",
    "        RandomForestRegressor,DecisionTreeRegressor,MLPRegressor,\n",
    "        KNeighborsRegressor,SVR]"
   ]
  },
  {
   "cell_type": "code",
   "execution_count": 127,
   "metadata": {},
   "outputs": [
    {
     "name": "stdout",
     "output_type": "stream",
     "text": [
      "{'RMSE test for model LGBMRegressor': 363.8712087611089}\n",
      "{'RMSE test for model XGBRegressor': 355.4651481224188}\n",
      "{'RMSE test for model GradientBoostingRegressor': 351.7158798612983}\n",
      "{'RMSE test for model RandomForestRegressor': 341.7421928278616}\n",
      "{'RMSE test for model DecisionTreeRegressor': 469.8626351734477}\n",
      "{'RMSE test for model MLPRegressor': 439.58009226253466}\n",
      "{'RMSE test for model KNeighborsRegressor': 426.6570764525201}\n",
      "{'RMSE test for model SVR': 473.4445984431814}\n"
     ]
    }
   ],
   "source": [
    "for alg in models:\n",
    "    print(compML(df,\"Salary\",alg))"
   ]
  }
 ],
 "metadata": {
  "kernelspec": {
   "display_name": "Python 3",
   "language": "python",
   "name": "python3"
  },
  "language_info": {
   "codemirror_mode": {
    "name": "ipython",
    "version": 3
   },
   "file_extension": ".py",
   "mimetype": "text/x-python",
   "name": "python",
   "nbconvert_exporter": "python",
   "pygments_lexer": "ipython3",
   "version": "3.7.1"
  }
 },
 "nbformat": 4,
 "nbformat_minor": 2
}
