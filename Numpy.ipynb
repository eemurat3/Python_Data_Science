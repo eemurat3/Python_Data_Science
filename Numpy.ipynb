{
 "cells": [
  {
   "cell_type": "markdown",
   "metadata": {},
   "source": [
    "# NumPy Giriş"
   ]
  },
  {
   "cell_type": "code",
   "execution_count": 1,
   "metadata": {},
   "outputs": [],
   "source": [
    "import numpy as np #kütüphanenin içeri aktarması"
   ]
  },
  {
   "cell_type": "markdown",
   "metadata": {},
   "source": [
    "Neden Numpy Kullanmalıyız?"
   ]
  },
  {
   "cell_type": "code",
   "execution_count": 2,
   "metadata": {},
   "outputs": [
    {
     "data": {
      "text/plain": [
       "[4, 10, 18, 28]"
      ]
     },
     "execution_count": 2,
     "metadata": {},
     "output_type": "execute_result"
    }
   ],
   "source": [
    "#örneğin iki tane vektörün çarpılması: normalde\n",
    "a=[1,2,3,4]\n",
    "b=[4,5,6,7]\n",
    "\n",
    "ab=[]\n",
    "for i in range(len(a)):\n",
    "    ab.append(a[i]*b[i])\n",
    "ab"
   ]
  },
  {
   "cell_type": "markdown",
   "metadata": {},
   "source": [
    "işlemin numpy ile yapılması"
   ]
  },
  {
   "cell_type": "code",
   "execution_count": 3,
   "metadata": {},
   "outputs": [
    {
     "data": {
      "text/plain": [
       "array([ 4, 10, 18, 28])"
      ]
     },
     "execution_count": 3,
     "metadata": {},
     "output_type": "execute_result"
    }
   ],
   "source": [
    "a=np.array([1,2,3,4])\n",
    "b=np.array([4,5,6,7])\n",
    "a*b\n"
   ]
  },
  {
   "cell_type": "markdown",
   "metadata": {},
   "source": [
    "## Numpy Arrayleri Oluşturma"
   ]
  },
  {
   "cell_type": "markdown",
   "metadata": {},
   "source": [
    "### 1.listelerden Numpy Array Oluşturma"
   ]
  },
  {
   "cell_type": "code",
   "execution_count": 4,
   "metadata": {},
   "outputs": [
    {
     "name": "stdout",
     "output_type": "stream",
     "text": [
      "[1 6 5 7]\n"
     ]
    },
    {
     "data": {
      "text/plain": [
       "numpy.ndarray"
      ]
     },
     "execution_count": 4,
     "metadata": {},
     "output_type": "execute_result"
    }
   ],
   "source": [
    "a=np.array([1,6,5,7])\n",
    "print(a)\n",
    "type(a) #a'nın tipinin sorgulanması"
   ]
  },
  {
   "cell_type": "code",
   "execution_count": 5,
   "metadata": {},
   "outputs": [
    {
     "name": "stdout",
     "output_type": "stream",
     "text": [
      "[10.  15.  16.3  4. ]\n"
     ]
    },
    {
     "data": {
      "text/plain": [
       "numpy.ndarray"
      ]
     },
     "execution_count": 5,
     "metadata": {},
     "output_type": "execute_result"
    }
   ],
   "source": [
    "b=np.array([10,15,16.3,4])\n",
    "print(b)\n",
    "type(b)"
   ]
  },
  {
   "cell_type": "code",
   "execution_count": 6,
   "metadata": {},
   "outputs": [
    {
     "name": "stdout",
     "output_type": "stream",
     "text": [
      "[10 15 16  4]\n"
     ]
    },
    {
     "data": {
      "text/plain": [
       "numpy.ndarray"
      ]
     },
     "execution_count": 6,
     "metadata": {},
     "output_type": "execute_result"
    }
   ],
   "source": [
    "b=np.array([10,15,16.3,4],dtype=\"int32\")#dtype anahtar kelimesini kullanarak array içindeki değişkenlerin türünü belirleyebiliriz\n",
    "print(b)\n",
    "type(b)"
   ]
  },
  {
   "cell_type": "code",
   "execution_count": 7,
   "metadata": {},
   "outputs": [
    {
     "name": "stdout",
     "output_type": "stream",
     "text": [
      "[0 0 0 0 0 0 0 0 0 0]\n"
     ]
    }
   ],
   "source": [
    "#sıfırlardan oluşan arrayler yaratmak için np.zeros'u kullanıyoruz\n",
    "c=np.zeros(10,dtype=int)\n",
    "print(c)"
   ]
  },
  {
   "cell_type": "code",
   "execution_count": 8,
   "metadata": {},
   "outputs": [
    {
     "name": "stdout",
     "output_type": "stream",
     "text": [
      "[[1. 1. 1. 1. 1.]\n",
      " [1. 1. 1. 1. 1.]\n",
      " [1. 1. 1. 1. 1.]\n",
      " [1. 1. 1. 1. 1.]\n",
      " [1. 1. 1. 1. 1.]]\n"
     ]
    }
   ],
   "source": [
    "#birlrden oluşan arrayler  tanımlmak için np.ones()'i kullanıyoruz.\n",
    "d=np.ones((5,5))#5*5 matris\n",
    "print(d)"
   ]
  },
  {
   "cell_type": "markdown",
   "metadata": {},
   "source": [
    "sadece istenile bir değerden matris oluşturmak için np.full() metodu kullanılır"
   ]
  },
  {
   "cell_type": "code",
   "execution_count": 9,
   "metadata": {},
   "outputs": [
    {
     "data": {
      "text/plain": [
       "array([[5, 5, 5],\n",
       "       [5, 5, 5],\n",
       "       [5, 5, 5]])"
      ]
     },
     "execution_count": 9,
     "metadata": {},
     "output_type": "execute_result"
    }
   ],
   "source": [
    "np.full((3,3),5)"
   ]
  },
  {
   "cell_type": "markdown",
   "metadata": {},
   "source": [
    "belli bir aralıkta belli bir artış oranına sahip arrayler tanımlamak için np.arange() metodunu kullanırız"
   ]
  },
  {
   "cell_type": "code",
   "execution_count": 10,
   "metadata": {},
   "outputs": [
    {
     "data": {
      "text/plain": [
       "array([10, 11, 12, 13, 14, 15, 16, 17, 18, 19])"
      ]
     },
     "execution_count": 10,
     "metadata": {},
     "output_type": "execute_result"
    }
   ],
   "source": [
    "np.arange(10,20,1)"
   ]
  },
  {
   "cell_type": "markdown",
   "metadata": {},
   "source": [
    "iki değer arasında belli sayıda değer üretmek için np.linspace() metodunu kullanırız"
   ]
  },
  {
   "cell_type": "code",
   "execution_count": 11,
   "metadata": {},
   "outputs": [
    {
     "data": {
      "text/plain": [
       "array([0.        , 0.33333333, 0.66666667, 1.        , 1.33333333,\n",
       "       1.66666667, 2.        , 2.33333333, 2.66666667, 3.        ])"
      ]
     },
     "execution_count": 11,
     "metadata": {},
     "output_type": "execute_result"
    }
   ],
   "source": [
    "np.linspace(0,3,10)"
   ]
  },
  {
   "cell_type": "markdown",
   "metadata": {},
   "source": [
    "normal dağılıma sahip matrisler üretmek için np.random.normal() metodunu kullanırız"
   ]
  },
  {
   "cell_type": "code",
   "execution_count": 12,
   "metadata": {},
   "outputs": [
    {
     "name": "stdout",
     "output_type": "stream",
     "text": [
      "[[ 5.98306068  2.0341242   1.72012285  0.53705436  2.60275687]\n",
      " [-1.8746441   0.44675607  2.61769023  0.80690844 -0.83067245]\n",
      " [ 1.37478284  3.4792159   1.85969969  2.17407518  0.22622517]\n",
      " [ 2.03779736  0.72797779  2.81099678  2.20823671  1.50859305]\n",
      " [ 3.61751501  2.58123616  0.66898616  0.50325081  1.62020364]]\n",
      "standart sapma 1.5258950540214657\n",
      "ortalama 1.6576779764378529\n"
     ]
    }
   ],
   "source": [
    "a=np.random.normal(1,2,(5,5))#ilk parametre ortalama ikinci parametre standart sapma\n",
    "print(a)\n",
    "print(\"standart sapma\",np.std(a))\n",
    "print(\"ortalama\",np.mean(a))"
   ]
  },
  {
   "cell_type": "markdown",
   "metadata": {},
   "source": [
    "belli bir aralıktaki integer değerleden oluşan bir matris tanımlamak için np.random.randint() metodu kullanılır."
   ]
  },
  {
   "cell_type": "code",
   "execution_count": 13,
   "metadata": {},
   "outputs": [
    {
     "data": {
      "text/plain": [
       "array([[5, 6, 6],\n",
       "       [6, 5, 4],\n",
       "       [1, 7, 3]])"
      ]
     },
     "execution_count": 13,
     "metadata": {},
     "output_type": "execute_result"
    }
   ],
   "source": [
    "np.random.randint(0,10,(3,3))"
   ]
  },
  {
   "cell_type": "markdown",
   "metadata": {},
   "source": [
    "köşegen değerleri birlerden ve diğer elemanları sıfır olan matrisler üretmek için np.eye() metodunu kullanırız."
   ]
  },
  {
   "cell_type": "code",
   "execution_count": 14,
   "metadata": {},
   "outputs": [
    {
     "data": {
      "text/plain": [
       "array([[1., 0., 0.],\n",
       "       [0., 1., 0.],\n",
       "       [0., 0., 1.]])"
      ]
     },
     "execution_count": 14,
     "metadata": {},
     "output_type": "execute_result"
    }
   ],
   "source": [
    "np.eye(3)"
   ]
  },
  {
   "cell_type": "markdown",
   "metadata": {},
   "source": [
    "## NumPy Arraylerini biçimlendirme"
   ]
  },
  {
   "cell_type": "code",
   "execution_count": 15,
   "metadata": {},
   "outputs": [
    {
     "name": "stdout",
     "output_type": "stream",
     "text": [
      "boyutu: 2\n",
      "şekli: (6, 5)\n",
      "eleman sayısı: 30\n",
      "elemanların tipi: int32\n"
     ]
    }
   ],
   "source": [
    "a=np.random.randint(0,10,(6,5))#2 boyutlu array\n",
    "#a matrisinin özelliklerini sorgulama\n",
    "print(\"boyutu:\",a.ndim)\n",
    "print(\"şekli:\",a.shape)\n",
    "print(\"eleman sayısı:\",a.size)\n",
    "print(\"elemanların tipi:\",a.dtype)"
   ]
  },
  {
   "cell_type": "code",
   "execution_count": 16,
   "metadata": {},
   "outputs": [
    {
     "name": "stdout",
     "output_type": "stream",
     "text": [
      "boyutu: 3\n",
      "şekli: (3, 5, 2)\n",
      "eleman sayısı: 30\n",
      "elemanların tipi: int32\n"
     ]
    }
   ],
   "source": [
    "a=np.random.randint(0,10,(3,5,2))#3 boyutlu array\n",
    "#a matrisinin özelliklerini sorgulama\n",
    "print(\"boyutu:\",a.ndim)\n",
    "print(\"şekli:\",a.shape)\n",
    "print(\"eleman sayısı:\",a.size)\n",
    "print(\"elemanların tipi:\",a.dtype)"
   ]
  },
  {
   "cell_type": "markdown",
   "metadata": {},
   "source": [
    "## Numpy Arraylerini yeniden Şekillendirme"
   ]
  },
  {
   "cell_type": "code",
   "execution_count": 17,
   "metadata": {},
   "outputs": [
    {
     "name": "stdout",
     "output_type": "stream",
     "text": [
      "[ 0  1  2  3  4  5  6  7  8  9 10 11 12 13 14 15 16 17 18 19 20]\n",
      "a'nın eleman sayısı 21\n",
      "anın yeniden şekillendirilmiş hali\n",
      " [[ 0  1  2]\n",
      " [ 3  4  5]\n",
      " [ 6  7  8]\n",
      " [ 9 10 11]\n",
      " [12 13 14]\n",
      " [15 16 17]\n",
      " [18 19 20]]\n",
      "yeni şekillendirilmiş a'nı şekli (7, 3)\n"
     ]
    }
   ],
   "source": [
    "a=np.arange(21)\n",
    "print(a)\n",
    "print(\"a'nın eleman sayısı\",a.size)\n",
    "#Not: burda a'yı yeniden şekilendirirken oluşturulan yeni a'nın şeklinin boyutu \n",
    "#a'nın eleman sayısının çarpanları olmalıdır\n",
    "a=a.reshape((7,3))\n",
    "print(\"anın yeniden şekillendirilmiş hali\\n\",a)\n",
    "print(\"yeni şekillendirilmiş a'nı şekli\",a.shape)\n"
   ]
  },
  {
   "cell_type": "markdown",
   "metadata": {},
   "source": [
    "## NumPy Arraylerini Birleştirme"
   ]
  },
  {
   "cell_type": "code",
   "execution_count": 18,
   "metadata": {},
   "outputs": [
    {
     "data": {
      "text/plain": [
       "array([1, 2, 3, 4, 5, 6])"
      ]
     },
     "execution_count": 18,
     "metadata": {},
     "output_type": "execute_result"
    }
   ],
   "source": [
    "#tek boyutlu birleştirme\n",
    "x=np.array([1,2,3])\n",
    "y=np.array([4,5,6])\n",
    "\n",
    "z=np.concatenate([x,y])\n",
    "z"
   ]
  },
  {
   "cell_type": "code",
   "execution_count": 19,
   "metadata": {},
   "outputs": [
    {
     "name": "stdout",
     "output_type": "stream",
     "text": [
      "[[1 2 3]\n",
      " [4 5 6]\n",
      " [1 2 3]\n",
      " [4 5 6]]\n",
      "[[1 2 3 1 2 3]\n",
      " [4 5 6 4 5 6]]\n"
     ]
    }
   ],
   "source": [
    "#iki boyutlu birleştirme\n",
    "a=np.array([[1,2,3],\n",
    "           [4,5,6]])\n",
    "\n",
    "print(np.concatenate([a,a],axis=0))\n",
    "print(np.concatenate([a,a],axis=1))"
   ]
  },
  {
   "cell_type": "code",
   "execution_count": 20,
   "metadata": {},
   "outputs": [
    {
     "data": {
      "text/plain": [
       "array([[4, 6, 9],\n",
       "       [1, 2, 3],\n",
       "       [4, 5, 6]])"
      ]
     },
     "execution_count": 20,
     "metadata": {},
     "output_type": "execute_result"
    }
   ],
   "source": [
    "#boyutları farklı olan arrayleri birleştirme alt alta sütun boyutları aynı olmalı\n",
    "a=np.array([[1,2,3],\n",
    "           [4,5,6]])\n",
    "b=np.array([4,6,9])\n",
    "np.vstack([b,a])"
   ]
  },
  {
   "cell_type": "code",
   "execution_count": 21,
   "metadata": {},
   "outputs": [
    {
     "data": {
      "text/plain": [
       "array([[1, 2, 3, 1],\n",
       "       [4, 5, 6, 2]])"
      ]
     },
     "execution_count": 21,
     "metadata": {},
     "output_type": "execute_result"
    }
   ],
   "source": [
    "#boyutları farklı olan arrayleri birleştirme yan yana satır boyutları aynı olmalı\n",
    "a=np.array([[1,2,3],\n",
    "           [4,5,6]])\n",
    "b=np.array([[1],\n",
    "            [2]])\n",
    "np.hstack([a,b])"
   ]
  },
  {
   "cell_type": "markdown",
   "metadata": {},
   "source": [
    "## Array Ayırma İşlemleri"
   ]
  },
  {
   "cell_type": "code",
   "execution_count": 22,
   "metadata": {},
   "outputs": [
    {
     "name": "stdout",
     "output_type": "stream",
     "text": [
      "[1 3 5] [ 7  9 11 13] [15 17 19]\n"
     ]
    }
   ],
   "source": [
    "x=np.arange(1,20,2)\n",
    "a,b,c=np.split(x,[3,7])#[3,7] nerden ayırmak istediğimiz\n",
    "print(a,b,c)"
   ]
  },
  {
   "cell_type": "code",
   "execution_count": 23,
   "metadata": {},
   "outputs": [
    {
     "name": "stdout",
     "output_type": "stream",
     "text": [
      "[[ 0  1  2  3]\n",
      " [ 4  5  6  7]\n",
      " [ 8  9 10 11]\n",
      " [12 13 14 15]]\n",
      "satır12:\n",
      " [[0 1 2 3]\n",
      " [4 5 6 7]]\n",
      "satır34:\n",
      " [[ 8  9 10 11]\n",
      " [12 13 14 15]]\n"
     ]
    }
   ],
   "source": [
    "m=np.arange(16).reshape((4,4))\n",
    "print(m)\n",
    "#dikey ayırma\n",
    "satır12,satır34=np.vsplit(m,[2])\n",
    "print(\"satır12:\\n\",satır12)\n",
    "print(\"satır34:\\n\",satır34)"
   ]
  },
  {
   "cell_type": "code",
   "execution_count": 24,
   "metadata": {},
   "outputs": [
    {
     "name": "stdout",
     "output_type": "stream",
     "text": [
      "[[ 0  1  2  3]\n",
      " [ 4  5  6  7]\n",
      " [ 8  9 10 11]\n",
      " [12 13 14 15]]\n",
      "sutun12:\n",
      " [[ 0  1]\n",
      " [ 4  5]\n",
      " [ 8  9]\n",
      " [12 13]]\n",
      "sutun12:\n",
      " [[ 2  3]\n",
      " [ 6  7]\n",
      " [10 11]\n",
      " [14 15]]\n"
     ]
    }
   ],
   "source": [
    "#yatay ayırma\n",
    "m=np.arange(16).reshape((4,4))\n",
    "print(m)\n",
    "sutun12,sutun34=np.hsplit(m,[2])\n",
    "print(\"sutun12:\\n\",sutun12)\n",
    "print(\"sutun12:\\n\",sutun34)"
   ]
  },
  {
   "cell_type": "markdown",
   "metadata": {},
   "source": [
    "## Array Sıralama İşlemleri"
   ]
  },
  {
   "cell_type": "code",
   "execution_count": 25,
   "metadata": {},
   "outputs": [
    {
     "name": "stdout",
     "output_type": "stream",
     "text": [
      "array [[ 9  5  6 14  8  2  6 12 17 15]]\n",
      "sırali array [[ 2  5  6  6  8  9 12 14 15 17]]\n"
     ]
    }
   ],
   "source": [
    "t=np.array([np.random.randint(0,20,10)])\n",
    "print(\"array\",t)\n",
    "\n",
    "#küçükten büyüğe doğru sıralam\n",
    "print(\"sırali array\",np.sort(t))\n",
    "#NOT: np.sort metodunu kullandığımız zaman orjinal arrayde değişiklik olmaz\n",
    "#ama t.sort() yaptığımız zaman orjinal arrayde değişir"
   ]
  },
  {
   "cell_type": "code",
   "execution_count": 26,
   "metadata": {},
   "outputs": [
    {
     "name": "stdout",
     "output_type": "stream",
     "text": [
      "orjinal array [[ 9 18  8 16  9 17  8  5  5  2]]\n",
      "sirali array [[ 2  5  5  8  8  9  9 16 17 18]]\n",
      "orjinal arraydeki indexi [[9 7 8 2 6 0 4 3 5 1]]\n",
      "indexin orjinal arrayde yerine konulması [[ 2  5  5  8  8  9  9 16 17 18]]\n"
     ]
    }
   ],
   "source": [
    "#eğer sıralama yaptıktan sonra orjinal arraydeki sayıların indekslerini tutmak istiyorsak\n",
    "#np.argsort() metodu kullanılır\n",
    "t=np.array([np.random.randint(0,20,10)])\n",
    "i=np.argsort(t)\n",
    "print(\"orjinal array\",t)\n",
    "print(\"sirali array\",np.sort(t))\n",
    "print(\"orjinal arraydeki indexi\",i)\n",
    "\n",
    "#orjinal arrayimiz iki boyutlu. yukarıdakş i'nin ne işe yaradığını bulmak için aşağıdaki kod  satırını çalıştıralım\n",
    "\n",
    "v=t[0][i]\n",
    "print(\"indexin orjinal arrayde yerine konulması\",v)#sıralı array ile aynı oldı :)\n",
    "\n",
    "\n"
   ]
  },
  {
   "cell_type": "markdown",
   "metadata": {},
   "source": [
    "## Numpy Eleman İşlemleri"
   ]
  },
  {
   "cell_type": "code",
   "execution_count": 27,
   "metadata": {},
   "outputs": [
    {
     "name": "stdout",
     "output_type": "stream",
     "text": [
      "[3 0 1 3 2 3 3 3 0 7]\n",
      "ilk eleman: 3\n",
      "ilk eleman: 7\n",
      "[25  0  1  3  2  3  3  3  0  7]\n"
     ]
    }
   ],
   "source": [
    "#tek boyutlu\n",
    "a=np.random.randint(10,size=10)\n",
    "print(a)\n",
    "print(\"ilk eleman:\",a[0]) #ilk eleman\n",
    "print(\"ilk eleman:\",a[-1]) #son eleman\n",
    "a[0]=25 #eleman değerini değiştirme\n",
    "print(a)"
   ]
  },
  {
   "cell_type": "code",
   "execution_count": 28,
   "metadata": {},
   "outputs": [
    {
     "name": "stdout",
     "output_type": "stream",
     "text": [
      "[[5 3 9 0 0 1]\n",
      " [9 4 8 4 5 5]\n",
      " [0 5 3 6 4 0]\n",
      " [6 7 0 8 3 6]\n",
      " [0 4 1 0 1 6]]\n",
      "ilk eleman: (0,0) > 5\n",
      "son eleman:(4,4)  > 1\n",
      "[[ 5  3  9  0  0  1]\n",
      " [ 9  4  8  4  5  5]\n",
      " [ 0  5  3  6  4  0]\n",
      " [ 6  7 12  8  3  6]\n",
      " [ 0  4  1  0  1  6]]\n",
      "[[ 5  3  9  0  0  1]\n",
      " [ 9  4  8  4  5  5]\n",
      " [ 0  5  3  6  4  0]\n",
      " [ 6  7 12  8  3  6]\n",
      " [ 0  4  1  0  1  6]]\n"
     ]
    }
   ],
   "source": [
    "#iki boyutlu\n",
    "a=np.random.randint(10,size=(5,6))\n",
    "print(a)\n",
    "print(\"ilk eleman: (0,0) >\",a[0][0])\n",
    "print(\"son eleman:(4,4)  >\",a[4][4])\n",
    "a[3][2]=12 #veya a[3,2]\n",
    "print(a)\n",
    "a[3,2]=12\n",
    "print(a)"
   ]
  },
  {
   "cell_type": "markdown",
   "metadata": {},
   "source": [
    "not: numpy arrayi içindeki değerler tek tiptir."
   ]
  },
  {
   "cell_type": "code",
   "execution_count": 29,
   "metadata": {},
   "outputs": [
    {
     "name": "stdout",
     "output_type": "stream",
     "text": [
      "[[5 7 6 6 5 7]\n",
      " [1 2 8 5 9 9]\n",
      " [4 0 4 8 7 8]\n",
      " [6 2 5 5 7 6]\n",
      " [4 1 2 3 0 9]]\n",
      "int32\n",
      "[[3 7 6 6 5 7]\n",
      " [1 2 8 5 9 9]\n",
      " [4 0 4 8 7 8]\n",
      " [6 2 5 5 7 6]\n",
      " [4 1 2 3 0 9]]\n"
     ]
    }
   ],
   "source": [
    "a=np.random.randint(10,size=(5,6))\n",
    "print(a)\n",
    "print(a.dtype)\n",
    "#örneğin arraydekş bir değeri float ile değiştirelim\n",
    "a[0,0]=3.5\n",
    "print(a)#görüldüğü gibi float sayının integ kısmı tek alınmış"
   ]
  },
  {
   "cell_type": "markdown",
   "metadata": {},
   "source": [
    "## slicing ile Arrayin alt kümelerine Erişim\n",
    "belli aralıktaki değerleri seçmek için kullanılır"
   ]
  },
  {
   "cell_type": "code",
   "execution_count": 30,
   "metadata": {},
   "outputs": [
    {
     "name": "stdout",
     "output_type": "stream",
     "text": [
      "a: [20 21 22 23 24 25 26 27 28 29]\n",
      "b: [20 21 22]\n",
      "c: [23 24 25 26 27 28 29]\n",
      "d: [20 22 24 26 28]\n"
     ]
    }
   ],
   "source": [
    "#tek boyutlu\n",
    "a=np.arange(20,30)\n",
    "b=a[0:3] #anın ilk üç elemanını seç veya a[:3]\n",
    "print(\"a:\",a)\n",
    "print(\"b:\",b)\n",
    "#anın 3 ten sonraki tüm elemanlarını seçmek için\n",
    "c=a[3:]\n",
    "print(\"c:\",c)\n",
    "#elemanları ikişer ikişer atlayarak seçmek için\n",
    "d=a[::2]\n",
    "print(\"d:\",d)\n"
   ]
  },
  {
   "cell_type": "code",
   "execution_count": 31,
   "metadata": {},
   "outputs": [
    {
     "name": "stdout",
     "output_type": "stream",
     "text": [
      "a\n",
      " [[9 5 2 0 9]\n",
      " [3 0 2 1 5]\n",
      " [4 8 9 3 0]\n",
      " [1 8 3 2 7]\n",
      " [1 8 2 6 3]]\n",
      "b\n",
      " [9 3 4 1 1]\n",
      "c\n",
      " [3 0 2 1 5]\n",
      "d\n",
      " [[9 5 2]\n",
      " [3 0 2]]\n",
      "e\n",
      " [[9 5]\n",
      " [3 0]\n",
      " [4 8]\n",
      " [1 8]\n",
      " [1 8]]\n"
     ]
    }
   ],
   "source": [
    "#iki boytlu\n",
    "a=np.random.randint(10,size=(5,5))\n",
    "#1. sütuna erişmek için \n",
    "b=a[:,0]#virgülden önceki kısım satırlar sonraki ise sütunlar \":\" tüm satır veya sütunları seç\n",
    "print(\"a\\n\",a)\n",
    "print(\"b\\n\",b)\n",
    "\n",
    "#2.satıra erişmek için\n",
    "c=a[1,:]\n",
    "print(\"c\\n\",c)\n",
    "\n",
    "#belli bir satır ve sütna erişmek için\n",
    "d=a[:2,:3]# 0,1. satırı ve 0,1,2. sütundaki elemanları al veya d=a[0:2,0:3]\n",
    "print(\"d\\n\",d)\n",
    "#tüm satırları ve ilk iki sütunu seçmek için\n",
    "e=a[::,0:2] #veya a[:,:2]\n",
    "print(\"e\\n\",e)"
   ]
  },
  {
   "cell_type": "markdown",
   "metadata": {},
   "source": [
    "## Array Alt Kümelerini Bağımszlaştırma\n"
   ]
  },
  {
   "cell_type": "markdown",
   "metadata": {},
   "source": [
    "Not : slicing işlemleri yaparak seçtiğimiz alt kümeler üzerinde değişiklik \n",
    "    yaptığımız zaman bu değişiklik ana kümeyede yansır..."
   ]
  },
  {
   "cell_type": "code",
   "execution_count": 32,
   "metadata": {},
   "outputs": [
    {
     "name": "stdout",
     "output_type": "stream",
     "text": [
      "a\n",
      " [[1 8 0 4 0]\n",
      " [9 0 6 4 2]\n",
      " [3 3 9 4 8]\n",
      " [8 0 6 3 4]\n",
      " [9 1 0 2 0]]\n",
      "b\n",
      " [[1 8]\n",
      " [9 0]\n",
      " [3 3]]\n",
      "a\n",
      " [[  1   8   0   4   0]\n",
      " [999   0   6   4   2]\n",
      " [999   3   9   4   8]\n",
      " [  8   0   6   3   4]\n",
      " [  9   1   0   2   0]]\n",
      "e\n",
      " [[6 4]\n",
      " [9 4]]\n",
      "e\n",
      " [[1998    4]\n",
      " [   9    4]]\n",
      "a\n",
      " [[  1   8   0   4   0]\n",
      " [999   0   6   4   2]\n",
      " [999   3   9   4   8]\n",
      " [  8   0   6   3   4]\n",
      " [  9   1   0   2   0]]\n"
     ]
    }
   ],
   "source": [
    "a=np.random.randint(10,size=(5,5))\n",
    "#1. sütuna erişmek için \n",
    "b=a[0:3,0:2]#virgülden önceki kısım satırlar sonraki ise sütunlar \":\" tüm satır veya sütunlarıseç\n",
    "print(\"a\\n\",a)\n",
    "print(\"b\\n\",b)\n",
    "b[1,0]=999\n",
    "b[2,0]=999\n",
    "print(\"a\\n\",a)\n",
    "#burdanda görüldüğü gibi b üzerinde yaptığımız değişikler a üzerindede değişikliğe sebep oldu\n",
    "#bunu engllemek için copy() metodu kullanılır\n",
    "e=a[1:3,2:4].copy()\n",
    "print(\"e\\n\",e)\n",
    "e[0,0]=1998\n",
    "print(\"e\\n\",e)\n",
    "print(\"a\\n\",a)\n"
   ]
  },
  {
   "cell_type": "markdown",
   "metadata": {},
   "source": [
    "## Fancy İndex ile Eleman İşlemleri\n",
    "birden fazla index seçiminde kullanılır"
   ]
  },
  {
   "cell_type": "code",
   "execution_count": 33,
   "metadata": {},
   "outputs": [
    {
     "name": "stdout",
     "output_type": "stream",
     "text": [
      "v [ 0  3  6  9 12 15 18 21 24 27]\n",
      "b [ 3  9 21]\n"
     ]
    }
   ],
   "source": [
    "#tek boyutlu dizilerde\n",
    "v=np.arange(0,30,3)\n",
    "#istenen indexteki değerleri bir array veya liste yardımıyla ana arrayden çekeriz\n",
    "print(\"v\",v)\n",
    "indexler=[1,3,7]\n",
    "b=v[indexler] # veya v[[1,3,7]] liste kullanmadan\n",
    "print(\"b\",b)\n"
   ]
  },
  {
   "cell_type": "code",
   "execution_count": 34,
   "metadata": {},
   "outputs": [
    {
     "name": "stdout",
     "output_type": "stream",
     "text": [
      "a\n",
      " [[0 1 2]\n",
      " [3 4 5]\n",
      " [6 7 8]]\n",
      "b [3 8]\n",
      "c [1 2]\n",
      "d\n",
      " [[0 2]\n",
      " [3 5]\n",
      " [6 8]]\n"
     ]
    }
   ],
   "source": [
    "#iki boyutlu dizilerde\n",
    "a=np.arange(9).reshape(3,3)\n",
    "print(\"a\\n\",a)\n",
    "satir=np.array([1,2])\n",
    "sutun=[0,2]\n",
    "b=a[satir,sutun]#[1,0]. elemanı ve [2,2]. elemanı seç\n",
    "print(\"b\",b)\n",
    "\n",
    "#herhangi bir satırı ve 1'den fazla sütun seçmek çin\n",
    "c=a[0,[1,2]]#[0,0]. elemanı ve [0,1]. elemanı seç\n",
    "print(\"c\",c)\n",
    "#tüm satırları ve belli sütundaki değerleri seçmek için\n",
    "d=a[:,[0,2]]#[[0,0],[0,2],[1,0],...]\n",
    "print(\"d\\n\",d)"
   ]
  },
  {
   "cell_type": "markdown",
   "metadata": {},
   "source": [
    "## Karşılaştırma Operatörleri ile True-False  Sorgulaması"
   ]
  },
  {
   "cell_type": "code",
   "execution_count": 35,
   "metadata": {},
   "outputs": [
    {
     "name": "stdout",
     "output_type": "stream",
     "text": [
      "a\n",
      " [[ 6  9  4]\n",
      " [ 0  5  1]\n",
      " [ 0  6  8]\n",
      " [ 4 11  9]]\n",
      "a>3\n",
      " [[ True  True  True]\n",
      " [False  True False]\n",
      " [False  True  True]\n",
      " [ True  True  True]]\n",
      "a<=7\n",
      " [[ True False  True]\n",
      " [ True  True  True]\n",
      " [ True  True False]\n",
      " [ True False False]]\n",
      "a==5\n",
      " [[False False False]\n",
      " [False False False]\n",
      " [False False False]\n",
      " [False False False]]\n",
      "a!=10\n",
      " [[ True  True  True]\n",
      " [ True  True  True]\n",
      " [ True  True  True]\n",
      " [ True  True  True]]\n"
     ]
    }
   ],
   "source": [
    "a=np.array(np.random.randint(12,size=(4,3)))\n",
    "print(\"a\\n\",a)\n",
    "print(\"a>3\\n\",a>3)#a>3=True Değilse False\n",
    "print(\"a<=7\\n\",a<=7)#a<=7=True Değilse False\n",
    "print(\"a==5\\n\",a==3)#a==5=True Değilse False\n",
    "print(\"a!=10\\n\",a!=10)#a eşit değil 10=True Değilse False"
   ]
  },
  {
   "cell_type": "markdown",
   "metadata": {},
   "source": [
    "## iki Array'i Karşılaştırma"
   ]
  },
  {
   "cell_type": "code",
   "execution_count": 36,
   "metadata": {},
   "outputs": [
    {
     "name": "stdout",
     "output_type": "stream",
     "text": [
      "a\n",
      " [[11  9 10]\n",
      " [ 5  6 10]\n",
      " [ 7  6 11]\n",
      " [ 1 10 10]]\n",
      "b\n",
      " [[ 1  1  7]\n",
      " [ 2  2  5]\n",
      " [ 3 11  6]\n",
      " [ 3 10 10]]\n",
      "a > b \n",
      " [[ True  True  True]\n",
      " [ True  True  True]\n",
      " [ True False  True]\n",
      " [False False False]]\n",
      "a == b \n",
      " [[False False False]\n",
      " [False False False]\n",
      " [False False False]\n",
      " [False  True  True]]\n",
      "5'ten büyük değerlerin sayısı: 10\n"
     ]
    }
   ],
   "source": [
    "a=np.array(np.random.randint(12,size=(4,3)))\n",
    "print(\"a\\n\",a)\n",
    "b=np.array(np.random.randint(12,size=(4,3)))\n",
    "print(\"b\\n\",b)\n",
    "print(\"a > b \\n\",a>b)\n",
    "print(\"a == b \\n\",a==b)\n",
    "print(\"5'ten büyük değerlerin sayısı:\",np.sum(a>5))"
   ]
  },
  {
   "cell_type": "markdown",
   "metadata": {},
   "source": [
    "### satır ve sütün bazında karşılaştırma ifadeleri"
   ]
  },
  {
   "cell_type": "code",
   "execution_count": 37,
   "metadata": {},
   "outputs": [
    {
     "name": "stdout",
     "output_type": "stream",
     "text": [
      "a\n",
      " [[5 8 2]\n",
      " [9 9 5]\n",
      " [2 3 0]\n",
      " [8 3 9]]\n",
      "satırlardaki 3'ten büyük değer sayısı: [2 3 0 2]\n",
      "sütunardaki 3'ten büyük değer sayısı: [3 2 2]\n"
     ]
    }
   ],
   "source": [
    "a=np.array(np.random.randint(12,size=(4,3)))\n",
    "print(\"a\\n\",a)\n",
    "print(\"satırlardaki 3'ten büyük değer sayısı:\",np.sum(a>3,axis=1))\n",
    "print(\"sütunardaki 3'ten büyük değer sayısı:\",np.sum(a>3,axis=0))"
   ]
  },
  {
   "cell_type": "markdown",
   "metadata": {},
   "source": [
    "#### aynı anda tüm elemanların bir koşulu sağlayı veya sağlayamadığı"
   ]
  },
  {
   "cell_type": "code",
   "execution_count": 38,
   "metadata": {},
   "outputs": [
    {
     "name": "stdout",
     "output_type": "stream",
     "text": [
      "a\n",
      " [[10  9  4]\n",
      " [ 9  8  8]\n",
      " [ 0  3  6]\n",
      " [ 4  4  4]]\n",
      "tüm elemanlar 5'ten büyükmü: False\n",
      "5'ten büyük değer varmı: True\n",
      "satırlarda 5'ten küçük en az bir eleman varmı: [ True False  True  True]\n",
      "sütunlardaki tüm elemanlar 2'den büyükmü: [False False False]\n"
     ]
    }
   ],
   "source": [
    "a=np.array(np.random.randint(12,size=(4,3)))\n",
    "print(\"a\\n\",a)\n",
    "#a array'inin içindeki tüm elemanları 5 'ten büyük olup olmadığının sorglanması\n",
    "print(\"tüm elemanlar 5'ten büyükmü:\",np.all(a>5))\n",
    "#arrayin tüm elemanları içinde yalnız bir tanesi şartı sağlıyormu\n",
    "print(\"5'ten büyük değer varmı:\",np.any(a>5))\n",
    "#yukarıdaki işlemleri axis ifadsesini kullanarak satır vrya sütun bazındada yapabiliriz\n",
    "print(\"satırlarda 5'ten küçük en az bir eleman varmı:\",np.any(a<5,axis=1))\n",
    "#yukarıdaki satır için 4 elemanlı bir dizi döndürüldü. dizinin her elemanı bir satırı temsil eder\n",
    "print(\"sütunlardaki tüm elemanlar 2'den büyükmü:\",np.all(a>5,axis=0))"
   ]
  },
  {
   "cell_type": "markdown",
   "metadata": {},
   "source": [
    "### koşulu sağlayan elemanlara erişim"
   ]
  },
  {
   "cell_type": "code",
   "execution_count": 39,
   "metadata": {},
   "outputs": [
    {
     "name": "stdout",
     "output_type": "stream",
     "text": [
      "a\n",
      " [[2 6 6]\n",
      " [9 0 2]\n",
      " [5 2 4]\n",
      " [3 3 7]]\n",
      "a>5 değerli sayılar [6 6 9 7]\n"
     ]
    }
   ],
   "source": [
    "a=np.array(np.random.randint(12,size=(4,3)))\n",
    "print(\"a\\n\",a)\n",
    "print(\"a>5 değerli sayılar\",a[a>5])"
   ]
  },
  {
   "cell_type": "markdown",
   "metadata": {},
   "source": [
    "## NumPy Matematiksel İşlemler"
   ]
  },
  {
   "cell_type": "code",
   "execution_count": 40,
   "metadata": {},
   "outputs": [
    {
     "name": "stdout",
     "output_type": "stream",
     "text": [
      "a   : [ 0  2  4  6  8 10 12 14 16]\n",
      "a+3 : [ 3  5  7  9 11 13 15 17 19]\n",
      "a-5 : [-5 -3 -1  1  3  5  7  9 11]\n",
      "a*3 : [ 0  6 12 18 24 30 36 42 48]\n",
      "a^2 : [  0   4  16  36  64 100 144 196 256]\n",
      "3*a/1.2: [ 0.  5. 10. 15. 20. 25. 30. 35. 40.]\n"
     ]
    }
   ],
   "source": [
    "a=np.arange(0,17,2)\n",
    "print(\"a   :\",a)\n",
    "print(\"a+3 :\",a+3) #==np.add(a,2)\n",
    "print(\"a-5 :\",a-5) #==np.subtract(a,5)\n",
    "print(\"a*3 :\",a*3) #np.multiply(0,3)\n",
    "print(\"a^2 :\",a**2) #==np.power(a,2)\n",
    "print(\"3*a/1.2:\",3*a/1.2) #==np.divide(3*a,1.2)"
   ]
  },
  {
   "cell_type": "code",
   "execution_count": 41,
   "metadata": {},
   "outputs": [
    {
     "name": "stdout",
     "output_type": "stream",
     "text": [
      "[ 0  2  4  6  8 10 12 14 16]\n",
      "72\n",
      "[ 0  2  6 12 20 30 42 56 72]\n"
     ]
    }
   ],
   "source": [
    "a=np.arange(0,17,2)\n",
    "print(a)\n",
    "print(np.add.reduce(a))\n",
    "print(np.add.accumulate(a))"
   ]
  },
  {
   "cell_type": "code",
   "execution_count": 42,
   "metadata": {},
   "outputs": [
    {
     "name": "stdout",
     "output_type": "stream",
     "text": [
      "a     :\n",
      " [ 0.08234459  1.50988039 -2.78525239 -1.03040767  0.21056864 -1.01209723\n",
      " -1.66482785  0.05890845 -1.50941902 -0.98025237 -1.97239355 -1.23547931\n",
      "  1.4059073  -0.06927444 -0.54271722  0.31584872 -0.27696751 -1.67652686\n",
      "  0.25263806  1.05791057  1.5677103   0.49984275 -1.12979957  1.37343779\n",
      "  0.66448394  1.04115435  1.84897068  0.37746192 -1.91525921  0.27364204]\n",
      "mean  : -0.17533212390159827\n",
      "standart sapma: 1.208714389389955\n",
      "varyans: 1.4609904751183316\n",
      "median 0.07062651770972811\n",
      "minimum: -2.785252392617173\n",
      "maximum 1.8489706792844316\n"
     ]
    }
   ],
   "source": [
    "a=np.random.normal(0,1,30)\n",
    "print(\"a     :\\n\",a)\n",
    "print(\"mean  :\",np.mean(a))\n",
    "print(\"standart sapma:\",np.std(a))\n",
    "print(\"varyans:\",np.var(a))\n",
    "print(\"median\",np.median(a))\n",
    "print(\"minimum:\",np.min(a))\n",
    "print(\"maximum\",np.max(a))"
   ]
  },
  {
   "cell_type": "markdown",
   "metadata": {},
   "source": [
    "## Broadcasting(Farklı Boyutlu Arraylerle Çalışma)"
   ]
  },
  {
   "cell_type": "markdown",
   "metadata": {},
   "source": [
    "#### broad casting kurallaraı\n",
    "kural 1: eğer iki array boyut sayısı olarak birbirinden farklı ise boyutu az olanın \n",
    "    boyutuna 1 ekleyerek çoğalt\n",
    "    \n",
    "    \n",
    "kural 2:eğer eşleşmeyen boyut sayısı varsa 1 olan boyutu diğer arrayin boyutuna eşitle\n",
    "\n",
    "kural 3:hala uyuşmazlık var ise hata üret"
   ]
  },
  {
   "cell_type": "code",
   "execution_count": 43,
   "metadata": {},
   "outputs": [
    {
     "name": "stdout",
     "output_type": "stream",
     "text": [
      "a+b:\n",
      " [2 4 6]\n",
      "a'nın boyutu: 1\n",
      "c'nin boyutu: 2\n",
      "a+c\n",
      " [[2. 3. 4.]\n",
      " [2. 3. 4.]\n",
      " [2. 3. 4.]]\n"
     ]
    }
   ],
   "source": [
    "a=np.array([1,2,3])\n",
    "b=np.array([1,2,3])\n",
    "print(\"a+b:\\n\",a+b)\n",
    "c=np.ones((3,3))\n",
    "print(\"a'nın boyutu:\",a.ndim)\n",
    "print(\"c'nin boyutu:\",c.ndim)\n",
    "print(\"a+c\\n\",a+c)"
   ]
  },
  {
   "cell_type": "code",
   "execution_count": 44,
   "metadata": {
    "scrolled": true
   },
   "outputs": [
    {
     "name": "stdout",
     "output_type": "stream",
     "text": [
      "a: [0 1 2]\n",
      "b:\n",
      " [[0]\n",
      " [1]\n",
      " [2]]\n",
      "a+b\n",
      " [[0 1 2]\n",
      " [1 2 3]\n",
      " [2 3 4]]\n"
     ]
    }
   ],
   "source": [
    "#ferklı bir örnek\n",
    "a=np.arange(3)\n",
    "b=np.arange(3)[:,np.newaxis]\n",
    "print(\"a:\",a)\n",
    "print(\"b:\\n\",b)\n",
    "print(\"a+b\\n\",a+b)"
   ]
  },
  {
   "cell_type": "code",
   "execution_count": 45,
   "metadata": {},
   "outputs": [
    {
     "name": "stdout",
     "output_type": "stream",
     "text": [
      "a\n",
      " [[0]\n",
      " [1]\n",
      " [2]]\n",
      "b [0 1 2]\n",
      "a.shape (3, 1)\n",
      "b.shape (3,)\n",
      "a+b\n",
      " [[0 1 2]\n",
      " [1 2 3]\n",
      " [2 3 4]]\n"
     ]
    }
   ],
   "source": [
    "a=np.arange(3).reshape((3,1))\n",
    "b=np.arange(3)\n",
    "print(\"a\\n\",a)\n",
    "print(\"b\",b)\n",
    "print(\"a.shape\",a.shape)\n",
    "print(\"b.shape\",b.shape)\n",
    "print(\"a+b\\n\",a+b)"
   ]
  },
  {
   "cell_type": "code",
   "execution_count": 46,
   "metadata": {},
   "outputs": [
    {
     "name": "stdout",
     "output_type": "stream",
     "text": [
      "m\n",
      " [[1. 1.]\n",
      " [1. 1.]\n",
      " [1. 1.]]\n",
      "a [0 1 2]\n"
     ]
    },
    {
     "ename": "ValueError",
     "evalue": "operands could not be broadcast together with shapes (3,) (3,2) ",
     "output_type": "error",
     "traceback": [
      "\u001b[1;31m---------------------------------------------------------------------------\u001b[0m",
      "\u001b[1;31mValueError\u001b[0m                                Traceback (most recent call last)",
      "\u001b[1;32m<ipython-input-46-b25e851a8217>\u001b[0m in \u001b[0;36m<module>\u001b[1;34m\u001b[0m\n\u001b[0;32m      3\u001b[0m \u001b[0mprint\u001b[0m\u001b[1;33m(\u001b[0m\u001b[1;34m\"m\\n\"\u001b[0m\u001b[1;33m,\u001b[0m\u001b[0mm\u001b[0m\u001b[1;33m)\u001b[0m\u001b[1;33m\u001b[0m\u001b[1;33m\u001b[0m\u001b[0m\n\u001b[0;32m      4\u001b[0m \u001b[0mprint\u001b[0m\u001b[1;33m(\u001b[0m\u001b[1;34m\"a\"\u001b[0m\u001b[1;33m,\u001b[0m\u001b[0ma\u001b[0m\u001b[1;33m)\u001b[0m\u001b[1;33m\u001b[0m\u001b[1;33m\u001b[0m\u001b[0m\n\u001b[1;32m----> 5\u001b[1;33m \u001b[0mprint\u001b[0m\u001b[1;33m(\u001b[0m\u001b[1;34m\"a+m:\\n\"\u001b[0m\u001b[1;33m,\u001b[0m\u001b[0ma\u001b[0m\u001b[1;33m+\u001b[0m\u001b[0mm\u001b[0m\u001b[1;33m)\u001b[0m\u001b[1;33m\u001b[0m\u001b[1;33m\u001b[0m\u001b[0m\n\u001b[0m",
      "\u001b[1;31mValueError\u001b[0m: operands could not be broadcast together with shapes (3,) (3,2) "
     ]
    }
   ],
   "source": [
    "m=np.ones((3,2))\n",
    "a=np.arange(3)\n",
    "print(\"m\\n\",m)\n",
    "print(\"a\",a)\n",
    "print(\"a+m:\\n\",a+m)"
   ]
  }
 ],
 "metadata": {
  "kernelspec": {
   "display_name": "Python 3",
   "language": "python",
   "name": "python3"
  },
  "language_info": {
   "codemirror_mode": {
    "name": "ipython",
    "version": 3
   },
   "file_extension": ".py",
   "mimetype": "text/x-python",
   "name": "python",
   "nbconvert_exporter": "python",
   "pygments_lexer": "ipython3",
   "version": "3.7.3"
  }
 },
 "nbformat": 4,
 "nbformat_minor": 2
}
